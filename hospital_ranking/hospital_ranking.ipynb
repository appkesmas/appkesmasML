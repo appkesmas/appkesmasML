{
 "cells": [
  {
   "cell_type": "code",
   "execution_count": 1,
   "metadata": {
    "collapsed": true
   },
   "outputs": [],
   "source": [
    "import pandas as pd\n",
    "import json\n",
    "import requests"
   ]
  },
  {
   "cell_type": "code",
   "execution_count": 2,
   "outputs": [],
   "source": [
    "RS_type = {\n",
    "    \"0\": \"RSU\",\n",
    "    \"1\": \"RSIA\",\n",
    "    \"2\": \"RSK GM\",\n",
    "    \"3\": \"RSK BEDAH\",\n",
    "    \"4\": \"RSK Mata\",\n",
    "    \"5\": \"RSK Jiwa\",\n",
    "    \"6\": \"RSK JANTUNG\",\n",
    "    \"7\": \"RSK KANKER\",\n",
    "    \"8\": \"RSK THT-KL\",\n",
    "    \"9\": \"RSK OTAK\",\n",
    "    \"10\": \"RSK INFEKSI\",\n",
    "    \"11\": \"RSKO\"\n",
    "}"
   ],
   "metadata": {
    "collapsed": false,
    "pycharm": {
     "name": "#%%\n"
    }
   }
  },
  {
   "cell_type": "code",
   "execution_count": 3,
   "outputs": [],
   "source": [
    "response = requests.get('http://eis.dinkes.jakarta.go.id/eis/home/ajax_list_data_bed', headers={'accept': 'application/json'})"
   ],
   "metadata": {
    "collapsed": false,
    "pycharm": {
     "name": "#%%\n"
    }
   }
  },
  {
   "cell_type": "code",
   "execution_count": 4,
   "outputs": [],
   "source": [
    "j = json.loads(response.text[response.text.index(\"{\"):response.text.index(\"}\")+1])"
   ],
   "metadata": {
    "collapsed": false,
    "pycharm": {
     "name": "#%%\n"
    }
   }
  },
  {
   "cell_type": "code",
   "execution_count": 5,
   "outputs": [],
   "source": [
    "bor_header = ['No', 'Wilayah', 'Nama RS', 'Ketersediaan ICU Tekanan Negatif Dengan Ventilator',\n",
    "                  'Ketersediaan ICU Tekanan Negatif Tanpa Ventilator', 'Ketersediaan ICU Tanpa Tekanan Negatif dengan Ventilator',\n",
    "                  'Ketersediaan ICU Tanpa Tekanan Negatif tanpa Ventilator', 'Ketersediaan Isolasi Tekanan Negatif',\n",
    "                  'Ketersediaan Isolasi Tanpa Tekanan Negatif', 'Ketersediaan NICU khusus COVID-19', 'Ketersediaan Perina khusus COVID-19',\n",
    "                  'Ketersediaan PICU khusus COVID-19', 'Ketersediaan OK khusus COVID-19', 'Ketersediaan HD khusus COVID-19',\n",
    "                  'Update Terakhir', 'Hotline SPGDT']\n",
    "\n",
    "curl_df = pd.DataFrame.from_dict(j['data'])\n",
    "curl_df.columns = bor_header"
   ],
   "metadata": {
    "collapsed": false,
    "pycharm": {
     "name": "#%%\n"
    }
   }
  },
  {
   "cell_type": "code",
   "execution_count": 6,
   "outputs": [],
   "source": [
    "def get_availabilility_columns(df):\n",
    "    return [col for col in df.columns if 'Ketersediaan' in col]"
   ],
   "metadata": {
    "collapsed": false,
    "pycharm": {
     "name": "#%%\n"
    }
   }
  },
  {
   "cell_type": "code",
   "execution_count": 7,
   "outputs": [],
   "source": [
    "curl_df[get_availabilility_columns(curl_df)] = curl_df[get_availabilility_columns(curl_df)].apply(pd.to_numeric)"
   ],
   "metadata": {
    "collapsed": false,
    "pycharm": {
     "name": "#%%\n"
    }
   }
  },
  {
   "cell_type": "code",
   "execution_count": 8,
   "outputs": [],
   "source": [
    "rs_clean_df = pd.read_csv('rs_dki_cleaned.csv', dtype={\"Latitude\": str, \"Longitude\": str})"
   ],
   "metadata": {
    "collapsed": false,
    "pycharm": {
     "name": "#%%\n"
    }
   }
  },
  {
   "cell_type": "code",
   "execution_count": 9,
   "outputs": [],
   "source": [
    "curl_df['Nama RS'] = curl_df['Nama RS'].apply(lambda x: 'RS Darurat Covid Wisma Atlet' if 'RSDC' in x else x)\n",
    "curl_df['Nama RS'] = curl_df['Nama RS'].apply(lambda x: 'RS Ibu dan Anak Avisena' if 'Avisena' in x else x)\n",
    "\n",
    "combined_df = pd.merge(curl_df,rs_clean_df,on='Nama RS')"
   ],
   "metadata": {
    "collapsed": false,
    "pycharm": {
     "name": "#%%\n"
    }
   }
  },
  {
   "cell_type": "code",
   "execution_count": 10,
   "outputs": [],
   "source": [
    "# If need key to access detail, hospital_id_as_index=True and change orient='index' in .to_json() below\n",
    "hospital_id_as_index = False\n",
    "if hospital_id_as_index:\n",
    "    combined_df = combined_df.set_index('Hospital ID')"
   ],
   "metadata": {
    "collapsed": false,
    "pycharm": {
     "name": "#%%\n"
    }
   }
  },
  {
   "cell_type": "code",
   "execution_count": 11,
   "outputs": [],
   "source": [
    "from geopy.distance import geodesic\n",
    "\n",
    "def calc_distance(row, site_coords):\n",
    "    station_coords = (row['Latitude'], row['Longitude'])\n",
    "    dist = geodesic(site_coords, station_coords).km\n",
    "    return(dist)"
   ],
   "metadata": {
    "collapsed": false,
    "pycharm": {
     "name": "#%%\n"
    }
   }
  },
  {
   "cell_type": "code",
   "execution_count": 12,
   "outputs": [
    {
     "data": {
      "text/plain": "RSU    141\nName: Jenis RS, dtype: int64"
     },
     "execution_count": 12,
     "metadata": {},
     "output_type": "execute_result"
    }
   ],
   "source": [
    "# Change \"0\" with desired variable\n",
    "combined_df = combined_df[combined_df[\"Jenis RS\"] == RS_type[\"0\"]]\n",
    "combined_df[\"Jenis RS\"].value_counts()"
   ],
   "metadata": {
    "collapsed": false,
    "pycharm": {
     "name": "#%%\n"
    }
   }
  },
  {
   "cell_type": "code",
   "execution_count": 13,
   "outputs": [],
   "source": [
    "# Change latitude & latitude with desired variables\n",
    "tes_lat = -6.317546231739774\n",
    "tes_lon = 106.94013742650952\n",
    "combined_df['Jarak'] = combined_df.apply(calc_distance, site_coords=(tes_lat, tes_lon), axis=1)\n",
    "combined_df['Jarak_Weighted'] = combined_df['Jarak'].copy()"
   ],
   "metadata": {
    "collapsed": false,
    "pycharm": {
     "name": "#%%\n"
    }
   }
  },
  {
   "cell_type": "code",
   "execution_count": 14,
   "outputs": [],
   "source": [
    "availability_cols = get_availabilility_columns(combined_df)\n",
    "combined_df['Total Ketersediaan'] = combined_df[availability_cols].sum(axis=1)\n",
    "combined_df['Ketersediaan_Weighted'] = combined_df['Total Ketersediaan'].copy()"
   ],
   "metadata": {
    "collapsed": false,
    "pycharm": {
     "name": "#%%\n"
    }
   }
  },
  {
   "cell_type": "code",
   "execution_count": 15,
   "outputs": [],
   "source": [
    "# Encode 'Kelas RS'\n",
    "combined_df.loc[combined_df.query(\"Kelas == 'A'\").index, 'Kelas_Weighted'] = 5\n",
    "combined_df.loc[combined_df.query(\"Kelas == 'B'\").index, 'Kelas_Weighted'] = 4\n",
    "combined_df.loc[combined_df.query(\"Kelas == 'C'\").index, 'Kelas_Weighted'] = 3\n",
    "combined_df.loc[combined_df.query(\"Kelas == 'D'\").index, 'Kelas_Weighted'] = 2\n",
    "combined_df.loc[combined_df.query(\"Kelas == 'Belum Ditetapkan'\").index, 'Kelas_Weighted'] = 1"
   ],
   "metadata": {
    "collapsed": false,
    "pycharm": {
     "name": "#%%\n"
    }
   }
  },
  {
   "cell_type": "code",
   "execution_count": 16,
   "outputs": [],
   "source": [
    "cols = ['Ketersediaan_Weighted','Kelas_Weighted','Jarak_Weighted']\n",
    "for col in cols:\n",
    "  combined_df[col] = (combined_df[col]-combined_df[col].min())/(combined_df[col].max()-combined_df[col].min())"
   ],
   "metadata": {
    "collapsed": false,
    "pycharm": {
     "name": "#%%\n"
    }
   }
  },
  {
   "cell_type": "code",
   "execution_count": 17,
   "outputs": [],
   "source": [
    "combined_df['Jarak_Weighted'] = 1 - combined_df['Jarak_Weighted']\n",
    "combined_df.loc[combined_df.query(\"Ketersediaan_Weighted == 0\").index, 'Ketersediaan_Weighted'] = -1"
   ],
   "metadata": {
    "collapsed": false,
    "pycharm": {
     "name": "#%%\n"
    }
   }
  },
  {
   "cell_type": "code",
   "execution_count": 18,
   "outputs": [],
   "source": [
    "combined_df['Rank'] = (combined_df['Jarak_Weighted']*0.45 + combined_df['Kelas_Weighted']*0.1 + combined_df['Ketersediaan_Weighted']*0.45).rank(ascending=False).astype('int')\n",
    "combined_df = combined_df.sort_values(\"Rank\")"
   ],
   "metadata": {
    "collapsed": false,
    "pycharm": {
     "name": "#%%\n"
    }
   }
  },
  {
   "cell_type": "code",
   "execution_count": 19,
   "outputs": [],
   "source": [
    "final_features = ['Kode RS', 'Nama RS', 'Wilayah',\n",
    "       'Total Ketersediaan', 'Ketersediaan ICU Tekanan Negatif Dengan Ventilator',\n",
    "       'Ketersediaan ICU Tekanan Negatif Tanpa Ventilator',\n",
    "       'Ketersediaan ICU Tanpa Tekanan Negatif dengan Ventilator',\n",
    "       'Ketersediaan ICU Tanpa Tekanan Negatif tanpa Ventilator',\n",
    "       'Ketersediaan Isolasi Tekanan Negatif',\n",
    "       'Ketersediaan Isolasi Tanpa Tekanan Negatif',\n",
    "       'Ketersediaan NICU khusus COVID-19',\n",
    "       'Ketersediaan Perina khusus COVID-19',\n",
    "       'Ketersediaan PICU khusus COVID-19', 'Ketersediaan OK khusus COVID-19',\n",
    "       'Ketersediaan HD khusus COVID-19', 'Hotline SPGDT',\n",
    "       'Jenis RS', 'Kelas',\n",
    "       'Jarak', 'Image URL', 'Rank']"
   ],
   "metadata": {
    "collapsed": false,
    "pycharm": {
     "name": "#%%\n"
    }
   }
  },
  {
   "cell_type": "code",
   "execution_count": 20,
   "outputs": [],
   "source": [
    "# Change 10 with desired variable\n",
    "if hospital_id_as_index:\n",
    "    final_data = combined_df[final_features][:10]\n",
    "else:\n",
    "    final_data = combined_df[['Hospital ID']+final_features][:10]"
   ],
   "metadata": {
    "collapsed": false,
    "pycharm": {
     "name": "#%%\n"
    }
   }
  },
  {
   "cell_type": "code",
   "execution_count": 21,
   "outputs": [
    {
     "data": {
      "text/plain": "[{'Hospital ID': '41898d5654984230bb6dbcede4d56f9d',\n  'Kode RS': '3171900S',\n  'Nama RS': 'RS Darurat Covid Wisma Atlet',\n  'Wilayah': 'Jakarta Pusat',\n  'Total Ketersediaan': 1859,\n  'Ketersediaan ICU Tekanan Negatif Dengan Ventilator': 0,\n  'Ketersediaan ICU Tekanan Negatif Tanpa Ventilator': 0,\n  'Ketersediaan ICU Tanpa Tekanan Negatif dengan Ventilator': 0,\n  'Ketersediaan ICU Tanpa Tekanan Negatif tanpa Ventilator': 1859,\n  'Ketersediaan Isolasi Tekanan Negatif': 0,\n  'Ketersediaan Isolasi Tanpa Tekanan Negatif': 0,\n  'Ketersediaan NICU khusus COVID-19': 0,\n  'Ketersediaan Perina khusus COVID-19': 0,\n  'Ketersediaan PICU khusus COVID-19': 0,\n  'Ketersediaan OK khusus COVID-19': 0,\n  'Ketersediaan HD khusus COVID-19': 0,\n  'Hotline SPGDT': '119 ext 9',\n  'Jenis RS': 'RSU',\n  'Kelas': 'A',\n  'Jarak': 20.4036209327,\n  'Image URL': 'https://asset.kompas.com/crops/ccE8j44xe0jsKKiVO1ey5Sdvbc8=/0x0:0x0/750x500/data/photo/2020/03/19/5e73605448212.jpg',\n  'Rank': 1},\n {'Hospital ID': '8c11a8a7975c4d4e875d3868ab37ef5f',\n  'Kode RS': '3172724',\n  'Nama RS': 'RS Umum Haji Jakarta',\n  'Wilayah': 'Jakarta Timur',\n  'Total Ketersediaan': 27,\n  'Ketersediaan ICU Tekanan Negatif Dengan Ventilator': 0,\n  'Ketersediaan ICU Tekanan Negatif Tanpa Ventilator': 4,\n  'Ketersediaan ICU Tanpa Tekanan Negatif dengan Ventilator': 2,\n  'Ketersediaan ICU Tanpa Tekanan Negatif tanpa Ventilator': 0,\n  'Ketersediaan Isolasi Tekanan Negatif': 0,\n  'Ketersediaan Isolasi Tanpa Tekanan Negatif': 21,\n  'Ketersediaan NICU khusus COVID-19': 0,\n  'Ketersediaan Perina khusus COVID-19': 0,\n  'Ketersediaan PICU khusus COVID-19': 0,\n  'Ketersediaan OK khusus COVID-19': 0,\n  'Ketersediaan HD khusus COVID-19': 0,\n  'Hotline SPGDT': '02180876060',\n  'Jenis RS': 'RSU',\n  'Kelas': 'B',\n  'Jarak': 6.3837433623,\n  'Image URL': 'https://d1ojs48v3n42tp.cloudfront.net/provider_location_banner/516529_1-4-2020_13-23-10.jpeg',\n  'Rank': 2},\n {'Hospital ID': '7591887da6f34bd4b39a966d0a28e6ad',\n  'Kode RS': '3173084',\n  'Nama RS': 'RS Tk. II M. Ridwan Meuraksa',\n  'Wilayah': 'Jakarta Timur',\n  'Total Ketersediaan': 3,\n  'Ketersediaan ICU Tekanan Negatif Dengan Ventilator': 0,\n  'Ketersediaan ICU Tekanan Negatif Tanpa Ventilator': 0,\n  'Ketersediaan ICU Tanpa Tekanan Negatif dengan Ventilator': 0,\n  'Ketersediaan ICU Tanpa Tekanan Negatif tanpa Ventilator': 0,\n  'Ketersediaan Isolasi Tekanan Negatif': 0,\n  'Ketersediaan Isolasi Tanpa Tekanan Negatif': 3,\n  'Ketersediaan NICU khusus COVID-19': 0,\n  'Ketersediaan Perina khusus COVID-19': 0,\n  'Ketersediaan PICU khusus COVID-19': 0,\n  'Ketersediaan OK khusus COVID-19': 0,\n  'Ketersediaan HD khusus COVID-19': 0,\n  'Hotline SPGDT': '02122819569',\n  'Jenis RS': 'RSU',\n  'Kelas': 'B',\n  'Jarak': 6.8523423574,\n  'Image URL': 'https://d1ojs48v3n42tp.cloudfront.net/provider_location_banner/347053_19-1-2020_22-47-37.jpg',\n  'Rank': 3},\n {'Hospital ID': '4cdf40d4007c4fb38b65cb299fc91a42',\n  'Kode RS': '3172061',\n  'Nama RS': 'RS AU dr. Esnawan Antariksa',\n  'Wilayah': 'Jakarta Timur',\n  'Total Ketersediaan': 21,\n  'Ketersediaan ICU Tekanan Negatif Dengan Ventilator': 7,\n  'Ketersediaan ICU Tekanan Negatif Tanpa Ventilator': 0,\n  'Ketersediaan ICU Tanpa Tekanan Negatif dengan Ventilator': 0,\n  'Ketersediaan ICU Tanpa Tekanan Negatif tanpa Ventilator': 0,\n  'Ketersediaan Isolasi Tekanan Negatif': 14,\n  'Ketersediaan Isolasi Tanpa Tekanan Negatif': 0,\n  'Ketersediaan NICU khusus COVID-19': 0,\n  'Ketersediaan Perina khusus COVID-19': 0,\n  'Ketersediaan PICU khusus COVID-19': 0,\n  'Ketersediaan OK khusus COVID-19': 0,\n  'Ketersediaan HD khusus COVID-19': 0,\n  'Hotline SPGDT': '081283629265',\n  'Jenis RS': 'RSU',\n  'Kelas': 'B',\n  'Jarak': 8.5764338744,\n  'Image URL': 'https://d1ojs48v3n42tp.cloudfront.net/provider_location_banner/83105_1-4-2020_12-40-55.png',\n  'Rank': 4},\n {'Hospital ID': 'eeae06b4582a4d47b2daeab10fc4a4d1',\n  'Kode RS': '3172757',\n  'Nama RS': 'RS Umum Adhyaksa',\n  'Wilayah': 'Jakarta Timur',\n  'Total Ketersediaan': 33,\n  'Ketersediaan ICU Tekanan Negatif Dengan Ventilator': 2,\n  'Ketersediaan ICU Tekanan Negatif Tanpa Ventilator': 0,\n  'Ketersediaan ICU Tanpa Tekanan Negatif dengan Ventilator': 0,\n  'Ketersediaan ICU Tanpa Tekanan Negatif tanpa Ventilator': 0,\n  'Ketersediaan Isolasi Tekanan Negatif': 13,\n  'Ketersediaan Isolasi Tanpa Tekanan Negatif': 18,\n  'Ketersediaan NICU khusus COVID-19': 0,\n  'Ketersediaan Perina khusus COVID-19': 0,\n  'Ketersediaan PICU khusus COVID-19': 0,\n  'Ketersediaan OK khusus COVID-19': 0,\n  'Ketersediaan HD khusus COVID-19': 0,\n  'Hotline SPGDT': '08111261124',\n  'Jenis RS': 'RSU',\n  'Kelas': 'C',\n  'Jarak': 5.3100504408,\n  'Image URL': 'https://cms.sehatq.com/cdn-cgi/image/f=auto/public/img/hospital_thumb/rumah-sakit-umum-adhyaksa-jakarta-timur-HCFH00000419.jpg',\n  'Rank': 5},\n {'Hospital ID': 'a5b26b5bbe41439ba764e63b48dc43b4',\n  'Kode RS': '3172126',\n  'Nama RS': 'RS Umum Daerah Pasar Rebo',\n  'Wilayah': 'Jakarta Timur',\n  'Total Ketersediaan': 9,\n  'Ketersediaan ICU Tekanan Negatif Dengan Ventilator': 0,\n  'Ketersediaan ICU Tekanan Negatif Tanpa Ventilator': 0,\n  'Ketersediaan ICU Tanpa Tekanan Negatif dengan Ventilator': 0,\n  'Ketersediaan ICU Tanpa Tekanan Negatif tanpa Ventilator': 0,\n  'Ketersediaan Isolasi Tekanan Negatif': 9,\n  'Ketersediaan Isolasi Tanpa Tekanan Negatif': 0,\n  'Ketersediaan NICU khusus COVID-19': 0,\n  'Ketersediaan Perina khusus COVID-19': 0,\n  'Ketersediaan PICU khusus COVID-19': 0,\n  'Ketersediaan OK khusus COVID-19': 0,\n  'Ketersediaan HD khusus COVID-19': 0,\n  'Hotline SPGDT': '081290847772',\n  'Jenis RS': 'RSU',\n  'Kelas': 'B',\n  'Jarak': 8.7438729968,\n  'Image URL': 'https://d1ojs48v3n42tp.cloudfront.net/provider_location_banner/277508_13-9-2019_11-32-17.jpg',\n  'Rank': 6},\n {'Hospital ID': 'a68950c498b541b0a244e506e5923f52',\n  'Kode RS': '3172013',\n  'Nama RS': 'RSUP Persahabatan',\n  'Wilayah': 'Jakarta Timur',\n  'Total Ketersediaan': 35,\n  'Ketersediaan ICU Tekanan Negatif Dengan Ventilator': 0,\n  'Ketersediaan ICU Tekanan Negatif Tanpa Ventilator': 0,\n  'Ketersediaan ICU Tanpa Tekanan Negatif dengan Ventilator': 0,\n  'Ketersediaan ICU Tanpa Tekanan Negatif tanpa Ventilator': 0,\n  'Ketersediaan Isolasi Tekanan Negatif': 29,\n  'Ketersediaan Isolasi Tanpa Tekanan Negatif': 0,\n  'Ketersediaan NICU khusus COVID-19': 0,\n  'Ketersediaan Perina khusus COVID-19': 6,\n  'Ketersediaan PICU khusus COVID-19': 0,\n  'Ketersediaan OK khusus COVID-19': 0,\n  'Ketersediaan HD khusus COVID-19': 0,\n  'Hotline SPGDT': '089638516606',\n  'Jenis RS': 'RSU',\n  'Kelas': 'A',\n  'Jarak': 14.0935830729,\n  'Image URL': 'https://images.bisnis-cdn.com/posts/2020/03/22/1216434/img20200304152410-1.jpg',\n  'Rank': 7},\n {'Hospital ID': 'e5303bf4742046a78b92b9c93ee1876c',\n  'Kode RS': '3173025',\n  'Nama RS': 'RS Umum PAD Gatot Soebroto',\n  'Wilayah': 'Jakarta Pusat',\n  'Total Ketersediaan': 146,\n  'Ketersediaan ICU Tekanan Negatif Dengan Ventilator': 2,\n  'Ketersediaan ICU Tekanan Negatif Tanpa Ventilator': 11,\n  'Ketersediaan ICU Tanpa Tekanan Negatif dengan Ventilator': 6,\n  'Ketersediaan ICU Tanpa Tekanan Negatif tanpa Ventilator': 0,\n  'Ketersediaan Isolasi Tekanan Negatif': 123,\n  'Ketersediaan Isolasi Tanpa Tekanan Negatif': 0,\n  'Ketersediaan NICU khusus COVID-19': 0,\n  'Ketersediaan Perina khusus COVID-19': 0,\n  'Ketersediaan PICU khusus COVID-19': 0,\n  'Ketersediaan OK khusus COVID-19': 1,\n  'Ketersediaan HD khusus COVID-19': 3,\n  'Hotline SPGDT': '0213441008',\n  'Jenis RS': 'RSU',\n  'Kelas': 'A',\n  'Jarak': 19.3217267085,\n  'Image URL': 'https://d1ojs48v3n42tp.cloudfront.net/provider_location_list/232403_3-3-2020_11-3-9.jpg',\n  'Rank': 8},\n {'Hospital ID': '58a865a7da9a40399a4e799ba4652f9c',\n  'Kode RS': '3171012',\n  'Nama RS': 'RSUP Fatmawati',\n  'Wilayah': 'Jakarta Selatan',\n  'Total Ketersediaan': 52,\n  'Ketersediaan ICU Tekanan Negatif Dengan Ventilator': 0,\n  'Ketersediaan ICU Tekanan Negatif Tanpa Ventilator': 0,\n  'Ketersediaan ICU Tanpa Tekanan Negatif dengan Ventilator': 0,\n  'Ketersediaan ICU Tanpa Tekanan Negatif tanpa Ventilator': 0,\n  'Ketersediaan Isolasi Tekanan Negatif': 34,\n  'Ketersediaan Isolasi Tanpa Tekanan Negatif': 18,\n  'Ketersediaan NICU khusus COVID-19': 0,\n  'Ketersediaan Perina khusus COVID-19': 0,\n  'Ketersediaan PICU khusus COVID-19': 0,\n  'Ketersediaan OK khusus COVID-19': 0,\n  'Ketersediaan HD khusus COVID-19': 0,\n  'Hotline SPGDT': '087878185508',\n  'Jenis RS': 'RSU',\n  'Kelas': 'A',\n  'Jarak': 16.0883649848,\n  'Image URL': 'https://images.bisnis-cdn.com/thumb/posts/2020/06/03/1247950/rs-fatmawati.jpg?w=600&h=400',\n  'Rank': 9},\n {'Hospital ID': 'f73d2d28c3ea4ddd9922e019cf7af3e1',\n  'Kode RS': '3172024',\n  'Nama RS': 'RS Umum Daerah Budhi Asih',\n  'Wilayah': 'Jakarta Timur',\n  'Total Ketersediaan': 15,\n  'Ketersediaan ICU Tekanan Negatif Dengan Ventilator': 3,\n  'Ketersediaan ICU Tekanan Negatif Tanpa Ventilator': 1,\n  'Ketersediaan ICU Tanpa Tekanan Negatif dengan Ventilator': 0,\n  'Ketersediaan ICU Tanpa Tekanan Negatif tanpa Ventilator': 0,\n  'Ketersediaan Isolasi Tekanan Negatif': 2,\n  'Ketersediaan Isolasi Tanpa Tekanan Negatif': 9,\n  'Ketersediaan NICU khusus COVID-19': 0,\n  'Ketersediaan Perina khusus COVID-19': 0,\n  'Ketersediaan PICU khusus COVID-19': 0,\n  'Ketersediaan OK khusus COVID-19': 0,\n  'Ketersediaan HD khusus COVID-19': 0,\n  'Hotline SPGDT': '081281430294',\n  'Jenis RS': 'RSU',\n  'Kelas': 'B',\n  'Jarak': 10.917531949,\n  'Image URL': 'https://s3.jakarta.go.id/jakgo/uploads/public/5a8/b9a/efb/5a8b9aefb0cc1483108434.jpg',\n  'Rank': 10}]"
     },
     "execution_count": 21,
     "metadata": {},
     "output_type": "execute_result"
    }
   ],
   "source": [
    "# If need key to access detail, change hospital_id_as_index=True above and orient='index'\n",
    "# If not, orient='records'\n",
    "if hospital_id_as_index:\n",
    "    result = final_data.to_json(orient='index')\n",
    "else:\n",
    "    result = final_data.to_json(orient='records')\n",
    "parsed = json.loads(result)\n",
    "parsed\n"
   ],
   "metadata": {
    "collapsed": false,
    "pycharm": {
     "name": "#%%\n"
    }
   }
  }
 ],
 "metadata": {
  "kernelspec": {
   "display_name": "Python 3",
   "language": "python",
   "name": "python3"
  },
  "language_info": {
   "codemirror_mode": {
    "name": "ipython",
    "version": 2
   },
   "file_extension": ".py",
   "mimetype": "text/x-python",
   "name": "python",
   "nbconvert_exporter": "python",
   "pygments_lexer": "ipython2",
   "version": "2.7.6"
  }
 },
 "nbformat": 4,
 "nbformat_minor": 0
}