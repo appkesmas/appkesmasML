{
  "nbformat": 4,
  "nbformat_minor": 0,
  "metadata": {
    "accelerator": "GPU",
    "colab": {
      "name": "Capstone_Project_ Waiting time v2.ipynb",
      "provenance": [],
      "collapsed_sections": [
        "ezSWc7JKxcM6"
      ],
      "toc_visible": true
    },
    "kernelspec": {
      "display_name": "Python 3",
      "language": "python",
      "name": "python3"
    },
    "language_info": {
      "codemirror_mode": {
        "name": "ipython",
        "version": 3
      },
      "file_extension": ".py",
      "mimetype": "text/x-python",
      "name": "python",
      "nbconvert_exporter": "python",
      "pygments_lexer": "ipython3",
      "version": "3.7.1"
    }
  },
  "cells": [
    {
      "cell_type": "code",
      "metadata": {
        "colab": {
          "base_uri": "https://localhost:8080/"
        },
        "id": "g_snBObBwSLv",
        "outputId": "460c4b6b-fd95-4a06-f3c5-a5e970d0397c"
      },
      "source": [
        "from google.colab import drive\n",
        "drive.mount('/content/gdrive')"
      ],
      "execution_count": 1,
      "outputs": [
        {
          "output_type": "stream",
          "text": [
            "Mounted at /content/gdrive\n"
          ],
          "name": "stdout"
        }
      ]
    },
    {
      "cell_type": "code",
      "metadata": {
        "colab": {
          "base_uri": "https://localhost:8080/",
          "height": 253
        },
        "id": "PzwMZkam3paq",
        "outputId": "514c0788-d2bb-4456-d225-43d23f84617a"
      },
      "source": [
        "import pandas as pd\n",
        "import numpy as np\n",
        "import matplotlib.pyplot as plt\n",
        "import pickle\n",
        "\n",
        "full_df = pd.read_csv('/content/gdrive/MyDrive/Capstone/ed2017_data.csv',low_memory=False)\n",
        "full_df = full_df.fillna(value=-1)\n",
        "full_df.head()"
      ],
      "execution_count": 2,
      "outputs": [
        {
          "output_type": "execute_result",
          "data": {
            "text/html": [
              "<div>\n",
              "<style scoped>\n",
              "    .dataframe tbody tr th:only-of-type {\n",
              "        vertical-align: middle;\n",
              "    }\n",
              "\n",
              "    .dataframe tbody tr th {\n",
              "        vertical-align: top;\n",
              "    }\n",
              "\n",
              "    .dataframe thead th {\n",
              "        text-align: right;\n",
              "    }\n",
              "</style>\n",
              "<table border=\"1\" class=\"dataframe\">\n",
              "  <thead>\n",
              "    <tr style=\"text-align: right;\">\n",
              "      <th></th>\n",
              "      <th>VMONTH</th>\n",
              "      <th>VDAYR</th>\n",
              "      <th>ARRTIME</th>\n",
              "      <th>WAITTIME</th>\n",
              "      <th>BLANK1</th>\n",
              "      <th>AGE</th>\n",
              "      <th>AGER</th>\n",
              "      <th>AGEDAYS</th>\n",
              "      <th>RESIDNCE</th>\n",
              "      <th>SEX</th>\n",
              "      <th>ETHUN</th>\n",
              "      <th>ETHIM</th>\n",
              "      <th>RACEUN</th>\n",
              "      <th>RACER</th>\n",
              "      <th>RACERETH</th>\n",
              "      <th>ARREMS</th>\n",
              "      <th>AMBTRANSFER</th>\n",
              "      <th>NOPAY</th>\n",
              "      <th>PAYPRIV</th>\n",
              "      <th>PAYMCARE</th>\n",
              "      <th>PAYMCAID</th>\n",
              "      <th>PAYWKCMP</th>\n",
              "      <th>PAYSELF</th>\n",
              "      <th>PAYNOCHG</th>\n",
              "      <th>PAYOTH</th>\n",
              "      <th>PAYDK</th>\n",
              "      <th>PAYTYPER</th>\n",
              "      <th>TEMPF</th>\n",
              "      <th>PULSE</th>\n",
              "      <th>RESPR</th>\n",
              "      <th>BPSYS</th>\n",
              "      <th>BPDIAS</th>\n",
              "      <th>POPCT</th>\n",
              "      <th>IMMEDR</th>\n",
              "      <th>PAINSCALE</th>\n",
              "      <th>SEEN72</th>\n",
              "      <th>RFV1</th>\n",
              "      <th>RFV2</th>\n",
              "      <th>RFV3</th>\n",
              "      <th>RFV4</th>\n",
              "      <th>...</th>\n",
              "      <th>RX29CAT3</th>\n",
              "      <th>RX29CAT4</th>\n",
              "      <th>RX29V1C1</th>\n",
              "      <th>RX29V1C2</th>\n",
              "      <th>RX29V1C3</th>\n",
              "      <th>RX29V1C4</th>\n",
              "      <th>RX29V2C1</th>\n",
              "      <th>RX29V2C2</th>\n",
              "      <th>RX29V2C3</th>\n",
              "      <th>RX29V2C4</th>\n",
              "      <th>RX29V3C1</th>\n",
              "      <th>RX29V3C2</th>\n",
              "      <th>RX29V3C3</th>\n",
              "      <th>RX29V3C4</th>\n",
              "      <th>DRUGID30</th>\n",
              "      <th>PRESCR30</th>\n",
              "      <th>CONTSUB30</th>\n",
              "      <th>COMSTAT30</th>\n",
              "      <th>RX30CAT1</th>\n",
              "      <th>RX30CAT2</th>\n",
              "      <th>RX30CAT3</th>\n",
              "      <th>RX30CAT4</th>\n",
              "      <th>RX30V1C1</th>\n",
              "      <th>RX30V1C2</th>\n",
              "      <th>RX30V1C3</th>\n",
              "      <th>RX30V1C4</th>\n",
              "      <th>RX30V2C1</th>\n",
              "      <th>RX30V2C2</th>\n",
              "      <th>RX30V2C3</th>\n",
              "      <th>RX30V2C4</th>\n",
              "      <th>RX30V3C1</th>\n",
              "      <th>RX30V3C2</th>\n",
              "      <th>RX30V3C3</th>\n",
              "      <th>RX30V3C4</th>\n",
              "      <th>SETTYPE</th>\n",
              "      <th>YEAR</th>\n",
              "      <th>CSTRATM</th>\n",
              "      <th>CPSUM</th>\n",
              "      <th>PATWT</th>\n",
              "      <th>EDWT</th>\n",
              "    </tr>\n",
              "  </thead>\n",
              "  <tbody>\n",
              "    <tr>\n",
              "      <th>0</th>\n",
              "      <td>6</td>\n",
              "      <td>6</td>\n",
              "      <td>2056</td>\n",
              "      <td>72</td>\n",
              "      <td>-1.0</td>\n",
              "      <td>27</td>\n",
              "      <td>3</td>\n",
              "      <td>-7</td>\n",
              "      <td>1</td>\n",
              "      <td>2</td>\n",
              "      <td>2</td>\n",
              "      <td>2</td>\n",
              "      <td>1</td>\n",
              "      <td>1</td>\n",
              "      <td>1</td>\n",
              "      <td>2</td>\n",
              "      <td>-7</td>\n",
              "      <td>0</td>\n",
              "      <td>1</td>\n",
              "      <td>0</td>\n",
              "      <td>0</td>\n",
              "      <td>0</td>\n",
              "      <td>0</td>\n",
              "      <td>0</td>\n",
              "      <td>0</td>\n",
              "      <td>0</td>\n",
              "      <td>1</td>\n",
              "      <td>982</td>\n",
              "      <td>72</td>\n",
              "      <td>16</td>\n",
              "      <td>124</td>\n",
              "      <td>74</td>\n",
              "      <td>100</td>\n",
              "      <td>4</td>\n",
              "      <td>5</td>\n",
              "      <td>2</td>\n",
              "      <td>52200</td>\n",
              "      <td>-9</td>\n",
              "      <td>-9</td>\n",
              "      <td>-9</td>\n",
              "      <td>...</td>\n",
              "      <td>-1.0</td>\n",
              "      <td>-1.0</td>\n",
              "      <td>-1.0</td>\n",
              "      <td>-1.0</td>\n",
              "      <td>-1.0</td>\n",
              "      <td>-1.0</td>\n",
              "      <td>-1.0</td>\n",
              "      <td>-1.0</td>\n",
              "      <td>-1.0</td>\n",
              "      <td>-1.0</td>\n",
              "      <td>-1.0</td>\n",
              "      <td>-1.0</td>\n",
              "      <td>-1.0</td>\n",
              "      <td>-1.0</td>\n",
              "      <td>-1</td>\n",
              "      <td>-1.0</td>\n",
              "      <td>-1.0</td>\n",
              "      <td>-1.0</td>\n",
              "      <td>-1.0</td>\n",
              "      <td>-1.0</td>\n",
              "      <td>-1.0</td>\n",
              "      <td>-1.0</td>\n",
              "      <td>-1.0</td>\n",
              "      <td>-1.0</td>\n",
              "      <td>-1.0</td>\n",
              "      <td>-1.0</td>\n",
              "      <td>-1.0</td>\n",
              "      <td>-1.0</td>\n",
              "      <td>-1.0</td>\n",
              "      <td>-1.0</td>\n",
              "      <td>-1.0</td>\n",
              "      <td>-1.0</td>\n",
              "      <td>-1.0</td>\n",
              "      <td>-1.0</td>\n",
              "      <td>3</td>\n",
              "      <td>2017</td>\n",
              "      <td>40100000</td>\n",
              "      <td>4</td>\n",
              "      <td>3723.12641</td>\n",
              "      <td>21.58043</td>\n",
              "    </tr>\n",
              "    <tr>\n",
              "      <th>1</th>\n",
              "      <td>6</td>\n",
              "      <td>2</td>\n",
              "      <td>1417</td>\n",
              "      <td>64</td>\n",
              "      <td>-1.0</td>\n",
              "      <td>1</td>\n",
              "      <td>1</td>\n",
              "      <td>-7</td>\n",
              "      <td>1</td>\n",
              "      <td>1</td>\n",
              "      <td>1</td>\n",
              "      <td>1</td>\n",
              "      <td>-9</td>\n",
              "      <td>1</td>\n",
              "      <td>3</td>\n",
              "      <td>2</td>\n",
              "      <td>-7</td>\n",
              "      <td>0</td>\n",
              "      <td>0</td>\n",
              "      <td>0</td>\n",
              "      <td>1</td>\n",
              "      <td>0</td>\n",
              "      <td>0</td>\n",
              "      <td>0</td>\n",
              "      <td>0</td>\n",
              "      <td>0</td>\n",
              "      <td>3</td>\n",
              "      <td>1014</td>\n",
              "      <td>151</td>\n",
              "      <td>24</td>\n",
              "      <td>-9</td>\n",
              "      <td>-9</td>\n",
              "      <td>98</td>\n",
              "      <td>4</td>\n",
              "      <td>-8</td>\n",
              "      <td>2</td>\n",
              "      <td>14400</td>\n",
              "      <td>10100</td>\n",
              "      <td>-9</td>\n",
              "      <td>-9</td>\n",
              "      <td>...</td>\n",
              "      <td>-1.0</td>\n",
              "      <td>-1.0</td>\n",
              "      <td>-1.0</td>\n",
              "      <td>-1.0</td>\n",
              "      <td>-1.0</td>\n",
              "      <td>-1.0</td>\n",
              "      <td>-1.0</td>\n",
              "      <td>-1.0</td>\n",
              "      <td>-1.0</td>\n",
              "      <td>-1.0</td>\n",
              "      <td>-1.0</td>\n",
              "      <td>-1.0</td>\n",
              "      <td>-1.0</td>\n",
              "      <td>-1.0</td>\n",
              "      <td>-1</td>\n",
              "      <td>-1.0</td>\n",
              "      <td>-1.0</td>\n",
              "      <td>-1.0</td>\n",
              "      <td>-1.0</td>\n",
              "      <td>-1.0</td>\n",
              "      <td>-1.0</td>\n",
              "      <td>-1.0</td>\n",
              "      <td>-1.0</td>\n",
              "      <td>-1.0</td>\n",
              "      <td>-1.0</td>\n",
              "      <td>-1.0</td>\n",
              "      <td>-1.0</td>\n",
              "      <td>-1.0</td>\n",
              "      <td>-1.0</td>\n",
              "      <td>-1.0</td>\n",
              "      <td>-1.0</td>\n",
              "      <td>-1.0</td>\n",
              "      <td>-1.0</td>\n",
              "      <td>-1.0</td>\n",
              "      <td>3</td>\n",
              "      <td>2017</td>\n",
              "      <td>40100000</td>\n",
              "      <td>4</td>\n",
              "      <td>3723.12641</td>\n",
              "      <td>-1.00000</td>\n",
              "    </tr>\n",
              "    <tr>\n",
              "      <th>2</th>\n",
              "      <td>6</td>\n",
              "      <td>2</td>\n",
              "      <td>2303</td>\n",
              "      <td>-7</td>\n",
              "      <td>-1.0</td>\n",
              "      <td>52</td>\n",
              "      <td>4</td>\n",
              "      <td>-7</td>\n",
              "      <td>1</td>\n",
              "      <td>2</td>\n",
              "      <td>2</td>\n",
              "      <td>2</td>\n",
              "      <td>1</td>\n",
              "      <td>1</td>\n",
              "      <td>1</td>\n",
              "      <td>2</td>\n",
              "      <td>-7</td>\n",
              "      <td>0</td>\n",
              "      <td>1</td>\n",
              "      <td>0</td>\n",
              "      <td>0</td>\n",
              "      <td>0</td>\n",
              "      <td>0</td>\n",
              "      <td>0</td>\n",
              "      <td>0</td>\n",
              "      <td>0</td>\n",
              "      <td>1</td>\n",
              "      <td>973</td>\n",
              "      <td>124</td>\n",
              "      <td>16</td>\n",
              "      <td>100</td>\n",
              "      <td>60</td>\n",
              "      <td>98</td>\n",
              "      <td>3</td>\n",
              "      <td>-9</td>\n",
              "      <td>2</td>\n",
              "      <td>15451</td>\n",
              "      <td>-9</td>\n",
              "      <td>-9</td>\n",
              "      <td>-9</td>\n",
              "      <td>...</td>\n",
              "      <td>-1.0</td>\n",
              "      <td>-1.0</td>\n",
              "      <td>-1.0</td>\n",
              "      <td>-1.0</td>\n",
              "      <td>-1.0</td>\n",
              "      <td>-1.0</td>\n",
              "      <td>-1.0</td>\n",
              "      <td>-1.0</td>\n",
              "      <td>-1.0</td>\n",
              "      <td>-1.0</td>\n",
              "      <td>-1.0</td>\n",
              "      <td>-1.0</td>\n",
              "      <td>-1.0</td>\n",
              "      <td>-1.0</td>\n",
              "      <td>-1</td>\n",
              "      <td>-1.0</td>\n",
              "      <td>-1.0</td>\n",
              "      <td>-1.0</td>\n",
              "      <td>-1.0</td>\n",
              "      <td>-1.0</td>\n",
              "      <td>-1.0</td>\n",
              "      <td>-1.0</td>\n",
              "      <td>-1.0</td>\n",
              "      <td>-1.0</td>\n",
              "      <td>-1.0</td>\n",
              "      <td>-1.0</td>\n",
              "      <td>-1.0</td>\n",
              "      <td>-1.0</td>\n",
              "      <td>-1.0</td>\n",
              "      <td>-1.0</td>\n",
              "      <td>-1.0</td>\n",
              "      <td>-1.0</td>\n",
              "      <td>-1.0</td>\n",
              "      <td>-1.0</td>\n",
              "      <td>3</td>\n",
              "      <td>2017</td>\n",
              "      <td>40100000</td>\n",
              "      <td>4</td>\n",
              "      <td>3723.12641</td>\n",
              "      <td>-1.00000</td>\n",
              "    </tr>\n",
              "    <tr>\n",
              "      <th>3</th>\n",
              "      <td>6</td>\n",
              "      <td>5</td>\n",
              "      <td>930</td>\n",
              "      <td>29</td>\n",
              "      <td>-1.0</td>\n",
              "      <td>5</td>\n",
              "      <td>1</td>\n",
              "      <td>-7</td>\n",
              "      <td>1</td>\n",
              "      <td>2</td>\n",
              "      <td>2</td>\n",
              "      <td>2</td>\n",
              "      <td>1</td>\n",
              "      <td>1</td>\n",
              "      <td>1</td>\n",
              "      <td>2</td>\n",
              "      <td>-7</td>\n",
              "      <td>0</td>\n",
              "      <td>1</td>\n",
              "      <td>0</td>\n",
              "      <td>0</td>\n",
              "      <td>0</td>\n",
              "      <td>0</td>\n",
              "      <td>0</td>\n",
              "      <td>0</td>\n",
              "      <td>0</td>\n",
              "      <td>1</td>\n",
              "      <td>983</td>\n",
              "      <td>81</td>\n",
              "      <td>22</td>\n",
              "      <td>-9</td>\n",
              "      <td>-9</td>\n",
              "      <td>99</td>\n",
              "      <td>4</td>\n",
              "      <td>-8</td>\n",
              "      <td>2</td>\n",
              "      <td>14400</td>\n",
              "      <td>-9</td>\n",
              "      <td>-9</td>\n",
              "      <td>-9</td>\n",
              "      <td>...</td>\n",
              "      <td>-1.0</td>\n",
              "      <td>-1.0</td>\n",
              "      <td>-1.0</td>\n",
              "      <td>-1.0</td>\n",
              "      <td>-1.0</td>\n",
              "      <td>-1.0</td>\n",
              "      <td>-1.0</td>\n",
              "      <td>-1.0</td>\n",
              "      <td>-1.0</td>\n",
              "      <td>-1.0</td>\n",
              "      <td>-1.0</td>\n",
              "      <td>-1.0</td>\n",
              "      <td>-1.0</td>\n",
              "      <td>-1.0</td>\n",
              "      <td>-1</td>\n",
              "      <td>-1.0</td>\n",
              "      <td>-1.0</td>\n",
              "      <td>-1.0</td>\n",
              "      <td>-1.0</td>\n",
              "      <td>-1.0</td>\n",
              "      <td>-1.0</td>\n",
              "      <td>-1.0</td>\n",
              "      <td>-1.0</td>\n",
              "      <td>-1.0</td>\n",
              "      <td>-1.0</td>\n",
              "      <td>-1.0</td>\n",
              "      <td>-1.0</td>\n",
              "      <td>-1.0</td>\n",
              "      <td>-1.0</td>\n",
              "      <td>-1.0</td>\n",
              "      <td>-1.0</td>\n",
              "      <td>-1.0</td>\n",
              "      <td>-1.0</td>\n",
              "      <td>-1.0</td>\n",
              "      <td>3</td>\n",
              "      <td>2017</td>\n",
              "      <td>40100000</td>\n",
              "      <td>4</td>\n",
              "      <td>3723.12641</td>\n",
              "      <td>-1.00000</td>\n",
              "    </tr>\n",
              "    <tr>\n",
              "      <th>4</th>\n",
              "      <td>6</td>\n",
              "      <td>2</td>\n",
              "      <td>1332</td>\n",
              "      <td>20</td>\n",
              "      <td>-1.0</td>\n",
              "      <td>4</td>\n",
              "      <td>1</td>\n",
              "      <td>-7</td>\n",
              "      <td>1</td>\n",
              "      <td>1</td>\n",
              "      <td>2</td>\n",
              "      <td>2</td>\n",
              "      <td>1</td>\n",
              "      <td>1</td>\n",
              "      <td>1</td>\n",
              "      <td>2</td>\n",
              "      <td>-7</td>\n",
              "      <td>0</td>\n",
              "      <td>0</td>\n",
              "      <td>0</td>\n",
              "      <td>1</td>\n",
              "      <td>0</td>\n",
              "      <td>0</td>\n",
              "      <td>0</td>\n",
              "      <td>0</td>\n",
              "      <td>0</td>\n",
              "      <td>3</td>\n",
              "      <td>976</td>\n",
              "      <td>98</td>\n",
              "      <td>20</td>\n",
              "      <td>107</td>\n",
              "      <td>56</td>\n",
              "      <td>98</td>\n",
              "      <td>4</td>\n",
              "      <td>-9</td>\n",
              "      <td>2</td>\n",
              "      <td>55700</td>\n",
              "      <td>-9</td>\n",
              "      <td>-9</td>\n",
              "      <td>-9</td>\n",
              "      <td>...</td>\n",
              "      <td>-1.0</td>\n",
              "      <td>-1.0</td>\n",
              "      <td>-1.0</td>\n",
              "      <td>-1.0</td>\n",
              "      <td>-1.0</td>\n",
              "      <td>-1.0</td>\n",
              "      <td>-1.0</td>\n",
              "      <td>-1.0</td>\n",
              "      <td>-1.0</td>\n",
              "      <td>-1.0</td>\n",
              "      <td>-1.0</td>\n",
              "      <td>-1.0</td>\n",
              "      <td>-1.0</td>\n",
              "      <td>-1.0</td>\n",
              "      <td>-1</td>\n",
              "      <td>-1.0</td>\n",
              "      <td>-1.0</td>\n",
              "      <td>-1.0</td>\n",
              "      <td>-1.0</td>\n",
              "      <td>-1.0</td>\n",
              "      <td>-1.0</td>\n",
              "      <td>-1.0</td>\n",
              "      <td>-1.0</td>\n",
              "      <td>-1.0</td>\n",
              "      <td>-1.0</td>\n",
              "      <td>-1.0</td>\n",
              "      <td>-1.0</td>\n",
              "      <td>-1.0</td>\n",
              "      <td>-1.0</td>\n",
              "      <td>-1.0</td>\n",
              "      <td>-1.0</td>\n",
              "      <td>-1.0</td>\n",
              "      <td>-1.0</td>\n",
              "      <td>-1.0</td>\n",
              "      <td>3</td>\n",
              "      <td>2017</td>\n",
              "      <td>40100000</td>\n",
              "      <td>4</td>\n",
              "      <td>3723.12641</td>\n",
              "      <td>-1.00000</td>\n",
              "    </tr>\n",
              "  </tbody>\n",
              "</table>\n",
              "<p>5 rows × 949 columns</p>\n",
              "</div>"
            ],
            "text/plain": [
              "   VMONTH  VDAYR  ARRTIME  WAITTIME  ...   CSTRATM  CPSUM       PATWT      EDWT\n",
              "0       6      6     2056        72  ...  40100000      4  3723.12641  21.58043\n",
              "1       6      2     1417        64  ...  40100000      4  3723.12641  -1.00000\n",
              "2       6      2     2303        -7  ...  40100000      4  3723.12641  -1.00000\n",
              "3       6      5      930        29  ...  40100000      4  3723.12641  -1.00000\n",
              "4       6      2     1332        20  ...  40100000      4  3723.12641  -1.00000\n",
              "\n",
              "[5 rows x 949 columns]"
            ]
          },
          "metadata": {
            "tags": []
          },
          "execution_count": 2
        }
      ]
    },
    {
      "cell_type": "code",
      "metadata": {
        "colab": {
          "base_uri": "https://localhost:8080/"
        },
        "id": "vF06MQIWyxV-",
        "outputId": "22e83a1c-a556-4f2c-a16f-89fe3cc86906"
      },
      "source": [
        "full_df.shape"
      ],
      "execution_count": 3,
      "outputs": [
        {
          "output_type": "execute_result",
          "data": {
            "text/plain": [
              "(16709, 949)"
            ]
          },
          "metadata": {
            "tags": []
          },
          "execution_count": 3
        }
      ]
    },
    {
      "cell_type": "code",
      "metadata": {
        "id": "aEyeZoSafUwb"
      },
      "source": [
        "subset_df = full_df.iloc[:,:36].drop(columns=[\"BLANK1\"])"
      ],
      "execution_count": 4,
      "outputs": []
    },
    {
      "cell_type": "code",
      "metadata": {
        "id": "MpBDuECefXY1"
      },
      "source": [
        "subset_df.corr()"
      ],
      "execution_count": null,
      "outputs": []
    },
    {
      "cell_type": "markdown",
      "metadata": {
        "id": "ezSWc7JKxcM6"
      },
      "source": [
        "## PREPROCESSING ##\n",
        "\n"
      ]
    },
    {
      "cell_type": "code",
      "metadata": {
        "colab": {
          "base_uri": "https://localhost:8080/",
          "height": 0
        },
        "id": "ypAqjCwGxnQI",
        "outputId": "c1f17de4-ae6c-467b-e5dd-5a0b284baba9"
      },
      "source": [
        "subset_df = full_df[[\"WAITTIME\",\"AGE\",\"TEMPF\",\"SEX\",\"IMMEDR\",\"PAINSCALE\"]]\n",
        "subset_df"
      ],
      "execution_count": 5,
      "outputs": [
        {
          "output_type": "execute_result",
          "data": {
            "text/html": [
              "<div>\n",
              "<style scoped>\n",
              "    .dataframe tbody tr th:only-of-type {\n",
              "        vertical-align: middle;\n",
              "    }\n",
              "\n",
              "    .dataframe tbody tr th {\n",
              "        vertical-align: top;\n",
              "    }\n",
              "\n",
              "    .dataframe thead th {\n",
              "        text-align: right;\n",
              "    }\n",
              "</style>\n",
              "<table border=\"1\" class=\"dataframe\">\n",
              "  <thead>\n",
              "    <tr style=\"text-align: right;\">\n",
              "      <th></th>\n",
              "      <th>WAITTIME</th>\n",
              "      <th>AGE</th>\n",
              "      <th>TEMPF</th>\n",
              "      <th>SEX</th>\n",
              "      <th>IMMEDR</th>\n",
              "      <th>PAINSCALE</th>\n",
              "    </tr>\n",
              "  </thead>\n",
              "  <tbody>\n",
              "    <tr>\n",
              "      <th>0</th>\n",
              "      <td>72</td>\n",
              "      <td>27</td>\n",
              "      <td>982</td>\n",
              "      <td>2</td>\n",
              "      <td>4</td>\n",
              "      <td>5</td>\n",
              "    </tr>\n",
              "    <tr>\n",
              "      <th>1</th>\n",
              "      <td>64</td>\n",
              "      <td>1</td>\n",
              "      <td>1014</td>\n",
              "      <td>1</td>\n",
              "      <td>4</td>\n",
              "      <td>-8</td>\n",
              "    </tr>\n",
              "    <tr>\n",
              "      <th>2</th>\n",
              "      <td>-7</td>\n",
              "      <td>52</td>\n",
              "      <td>973</td>\n",
              "      <td>2</td>\n",
              "      <td>3</td>\n",
              "      <td>-9</td>\n",
              "    </tr>\n",
              "    <tr>\n",
              "      <th>3</th>\n",
              "      <td>29</td>\n",
              "      <td>5</td>\n",
              "      <td>983</td>\n",
              "      <td>2</td>\n",
              "      <td>4</td>\n",
              "      <td>-8</td>\n",
              "    </tr>\n",
              "    <tr>\n",
              "      <th>4</th>\n",
              "      <td>20</td>\n",
              "      <td>4</td>\n",
              "      <td>976</td>\n",
              "      <td>1</td>\n",
              "      <td>4</td>\n",
              "      <td>-9</td>\n",
              "    </tr>\n",
              "    <tr>\n",
              "      <th>...</th>\n",
              "      <td>...</td>\n",
              "      <td>...</td>\n",
              "      <td>...</td>\n",
              "      <td>...</td>\n",
              "      <td>...</td>\n",
              "      <td>...</td>\n",
              "    </tr>\n",
              "    <tr>\n",
              "      <th>16704</th>\n",
              "      <td>8</td>\n",
              "      <td>24</td>\n",
              "      <td>970</td>\n",
              "      <td>2</td>\n",
              "      <td>3</td>\n",
              "      <td>10</td>\n",
              "    </tr>\n",
              "    <tr>\n",
              "      <th>16705</th>\n",
              "      <td>23</td>\n",
              "      <td>36</td>\n",
              "      <td>976</td>\n",
              "      <td>1</td>\n",
              "      <td>3</td>\n",
              "      <td>8</td>\n",
              "    </tr>\n",
              "    <tr>\n",
              "      <th>16706</th>\n",
              "      <td>96</td>\n",
              "      <td>40</td>\n",
              "      <td>971</td>\n",
              "      <td>2</td>\n",
              "      <td>3</td>\n",
              "      <td>3</td>\n",
              "    </tr>\n",
              "    <tr>\n",
              "      <th>16707</th>\n",
              "      <td>33</td>\n",
              "      <td>75</td>\n",
              "      <td>971</td>\n",
              "      <td>1</td>\n",
              "      <td>3</td>\n",
              "      <td>9</td>\n",
              "    </tr>\n",
              "    <tr>\n",
              "      <th>16708</th>\n",
              "      <td>3</td>\n",
              "      <td>35</td>\n",
              "      <td>965</td>\n",
              "      <td>2</td>\n",
              "      <td>3</td>\n",
              "      <td>9</td>\n",
              "    </tr>\n",
              "  </tbody>\n",
              "</table>\n",
              "<p>16709 rows × 6 columns</p>\n",
              "</div>"
            ],
            "text/plain": [
              "       WAITTIME  AGE  TEMPF  SEX  IMMEDR  PAINSCALE\n",
              "0            72   27    982    2       4          5\n",
              "1            64    1   1014    1       4         -8\n",
              "2            -7   52    973    2       3         -9\n",
              "3            29    5    983    2       4         -8\n",
              "4            20    4    976    1       4         -9\n",
              "...         ...  ...    ...  ...     ...        ...\n",
              "16704         8   24    970    2       3         10\n",
              "16705        23   36    976    1       3          8\n",
              "16706        96   40    971    2       3          3\n",
              "16707        33   75    971    1       3          9\n",
              "16708         3   35    965    2       3          9\n",
              "\n",
              "[16709 rows x 6 columns]"
            ]
          },
          "metadata": {
            "tags": []
          },
          "execution_count": 5
        }
      ]
    },
    {
      "cell_type": "code",
      "metadata": {
        "colab": {
          "base_uri": "https://localhost:8080/"
        },
        "id": "mwOBrZPluaVZ",
        "outputId": "438890cc-26db-4ce1-f55e-f8dbb48b312f"
      },
      "source": [
        "subset_df.isnull().sum()"
      ],
      "execution_count": 6,
      "outputs": [
        {
          "output_type": "execute_result",
          "data": {
            "text/plain": [
              "WAITTIME     0\n",
              "AGE          0\n",
              "TEMPF        0\n",
              "SEX          0\n",
              "IMMEDR       0\n",
              "PAINSCALE    0\n",
              "dtype: int64"
            ]
          },
          "metadata": {
            "tags": []
          },
          "execution_count": 6
        }
      ]
    },
    {
      "cell_type": "code",
      "metadata": {
        "id": "POmB8-Bzafcu"
      },
      "source": [
        "subset_df = subset_df[subset_df[\"WAITTIME\"] != -9]\n",
        "subset_df = subset_df[subset_df[\"WAITTIME\"] != -7]\n",
        "subset_df = subset_df[subset_df[\"WAITTIME\"] != 0]\n",
        "\n",
        "subset_df = subset_df[subset_df[\"AGE\"] != 0]\n",
        "subset_df = subset_df[subset_df[\"SEX\"] != 0]\n",
        "subset_df = subset_df[subset_df[\"IMMEDR\"] != 0]\n",
        "subset_df = subset_df[subset_df[\"PAINSCALE\"] != 0]"
      ],
      "execution_count": 7,
      "outputs": []
    },
    {
      "cell_type": "code",
      "metadata": {
        "colab": {
          "base_uri": "https://localhost:8080/"
        },
        "id": "0LD28-9vzqS1",
        "outputId": "3437283b-c0c8-44e0-ce38-6d55f26c9282"
      },
      "source": [
        "sexUniq = subset_df[\"SEX\"].unique()\n",
        "print(sexUniq)"
      ],
      "execution_count": 8,
      "outputs": [
        {
          "output_type": "stream",
          "text": [
            "[2 1]\n"
          ],
          "name": "stdout"
        }
      ]
    },
    {
      "cell_type": "code",
      "metadata": {
        "id": "R_KIBuALz_0O"
      },
      "source": [
        "subset_df = subset_df[subset_df[\"TEMPF\"] != -9]\n",
        "\n",
        "subset_df = subset_df[subset_df[\"IMMEDR\"] != -9]\n",
        "subset_df = subset_df[subset_df[\"IMMEDR\"] != -8]\n",
        "\n",
        "subset_df = subset_df[subset_df[\"PAINSCALE\"] != -9]\n",
        "subset_df = subset_df[subset_df[\"PAINSCALE\"] != -8]"
      ],
      "execution_count": 9,
      "outputs": []
    },
    {
      "cell_type": "code",
      "metadata": {
        "colab": {
          "base_uri": "https://localhost:8080/",
          "height": 0
        },
        "id": "RNSSMY8l08jL",
        "outputId": "3d01a1aa-915d-41cd-f566-c5dcbee695b1"
      },
      "source": [
        "plt.plot(subset_df[\"WAITTIME\"])"
      ],
      "execution_count": 10,
      "outputs": [
        {
          "output_type": "execute_result",
          "data": {
            "text/plain": [
              "[<matplotlib.lines.Line2D at 0x7f266131c910>]"
            ]
          },
          "metadata": {
            "tags": []
          },
          "execution_count": 10
        },
        {
          "output_type": "display_data",
          "data": {
            "image/png": "[encoded data removed]",
            "text/plain": [
              "<Figure size 432x288 with 1 Axes>"
            ]
          },
          "metadata": {
            "tags": [],
            "needs_background": "light"
          }
        }
      ]
    },
    {
      "cell_type": "code",
      "metadata": {
        "id": "xD9whgpr16yt"
      },
      "source": [
        "subset_df = subset_df[subset_df[\"WAITTIME\"] < 45]\n",
        "# subset_df = subset_df[subset_df[\"WAITTIME\"] > 5]"
      ],
      "execution_count": 11,
      "outputs": []
    },
    {
      "cell_type": "code",
      "metadata": {
        "id": "yyuZhXJy2e5a",
        "colab": {
          "base_uri": "https://localhost:8080/",
          "height": 0
        },
        "outputId": "512ec6a3-d2c4-411f-cfbf-765f7046c70b"
      },
      "source": [
        "subset_df[[\"WAITTIME\"]] == 0"
      ],
      "execution_count": 12,
      "outputs": [
        {
          "output_type": "execute_result",
          "data": {
            "text/html": [
              "<div>\n",
              "<style scoped>\n",
              "    .dataframe tbody tr th:only-of-type {\n",
              "        vertical-align: middle;\n",
              "    }\n",
              "\n",
              "    .dataframe tbody tr th {\n",
              "        vertical-align: top;\n",
              "    }\n",
              "\n",
              "    .dataframe thead th {\n",
              "        text-align: right;\n",
              "    }\n",
              "</style>\n",
              "<table border=\"1\" class=\"dataframe\">\n",
              "  <thead>\n",
              "    <tr style=\"text-align: right;\">\n",
              "      <th></th>\n",
              "      <th>WAITTIME</th>\n",
              "    </tr>\n",
              "  </thead>\n",
              "  <tbody>\n",
              "    <tr>\n",
              "      <th>5</th>\n",
              "      <td>False</td>\n",
              "    </tr>\n",
              "    <tr>\n",
              "      <th>11</th>\n",
              "      <td>False</td>\n",
              "    </tr>\n",
              "    <tr>\n",
              "      <th>12</th>\n",
              "      <td>False</td>\n",
              "    </tr>\n",
              "    <tr>\n",
              "      <th>14</th>\n",
              "      <td>False</td>\n",
              "    </tr>\n",
              "    <tr>\n",
              "      <th>16</th>\n",
              "      <td>False</td>\n",
              "    </tr>\n",
              "    <tr>\n",
              "      <th>...</th>\n",
              "      <td>...</td>\n",
              "    </tr>\n",
              "    <tr>\n",
              "      <th>16699</th>\n",
              "      <td>False</td>\n",
              "    </tr>\n",
              "    <tr>\n",
              "      <th>16704</th>\n",
              "      <td>False</td>\n",
              "    </tr>\n",
              "    <tr>\n",
              "      <th>16705</th>\n",
              "      <td>False</td>\n",
              "    </tr>\n",
              "    <tr>\n",
              "      <th>16707</th>\n",
              "      <td>False</td>\n",
              "    </tr>\n",
              "    <tr>\n",
              "      <th>16708</th>\n",
              "      <td>False</td>\n",
              "    </tr>\n",
              "  </tbody>\n",
              "</table>\n",
              "<p>4271 rows × 1 columns</p>\n",
              "</div>"
            ],
            "text/plain": [
              "       WAITTIME\n",
              "5         False\n",
              "11        False\n",
              "12        False\n",
              "14        False\n",
              "16        False\n",
              "...         ...\n",
              "16699     False\n",
              "16704     False\n",
              "16705     False\n",
              "16707     False\n",
              "16708     False\n",
              "\n",
              "[4271 rows x 1 columns]"
            ]
          },
          "metadata": {
            "tags": []
          },
          "execution_count": 12
        }
      ]
    },
    {
      "cell_type": "code",
      "metadata": {
        "colab": {
          "base_uri": "https://localhost:8080/",
          "height": 0
        },
        "id": "ji96-r_Q3O26",
        "outputId": "11506122-4f60-44b1-defa-78660626d8be"
      },
      "source": [
        "subset_df['TEMPF'] = subset_df['TEMPF'].apply(lambda x: (x*0.1 - 32) * 5/9 )\n",
        "subset_df"
      ],
      "execution_count": 13,
      "outputs": [
        {
          "output_type": "execute_result",
          "data": {
            "text/html": [
              "<div>\n",
              "<style scoped>\n",
              "    .dataframe tbody tr th:only-of-type {\n",
              "        vertical-align: middle;\n",
              "    }\n",
              "\n",
              "    .dataframe tbody tr th {\n",
              "        vertical-align: top;\n",
              "    }\n",
              "\n",
              "    .dataframe thead th {\n",
              "        text-align: right;\n",
              "    }\n",
              "</style>\n",
              "<table border=\"1\" class=\"dataframe\">\n",
              "  <thead>\n",
              "    <tr style=\"text-align: right;\">\n",
              "      <th></th>\n",
              "      <th>WAITTIME</th>\n",
              "      <th>AGE</th>\n",
              "      <th>TEMPF</th>\n",
              "      <th>SEX</th>\n",
              "      <th>IMMEDR</th>\n",
              "      <th>PAINSCALE</th>\n",
              "    </tr>\n",
              "  </thead>\n",
              "  <tbody>\n",
              "    <tr>\n",
              "      <th>5</th>\n",
              "      <td>2</td>\n",
              "      <td>63</td>\n",
              "      <td>36.833333</td>\n",
              "      <td>2</td>\n",
              "      <td>3</td>\n",
              "      <td>2</td>\n",
              "    </tr>\n",
              "    <tr>\n",
              "      <th>11</th>\n",
              "      <td>18</td>\n",
              "      <td>27</td>\n",
              "      <td>36.944444</td>\n",
              "      <td>1</td>\n",
              "      <td>4</td>\n",
              "      <td>5</td>\n",
              "    </tr>\n",
              "    <tr>\n",
              "      <th>12</th>\n",
              "      <td>3</td>\n",
              "      <td>27</td>\n",
              "      <td>37.111111</td>\n",
              "      <td>2</td>\n",
              "      <td>3</td>\n",
              "      <td>10</td>\n",
              "    </tr>\n",
              "    <tr>\n",
              "      <th>14</th>\n",
              "      <td>9</td>\n",
              "      <td>44</td>\n",
              "      <td>36.777778</td>\n",
              "      <td>1</td>\n",
              "      <td>3</td>\n",
              "      <td>6</td>\n",
              "    </tr>\n",
              "    <tr>\n",
              "      <th>16</th>\n",
              "      <td>15</td>\n",
              "      <td>38</td>\n",
              "      <td>36.444444</td>\n",
              "      <td>1</td>\n",
              "      <td>4</td>\n",
              "      <td>6</td>\n",
              "    </tr>\n",
              "    <tr>\n",
              "      <th>...</th>\n",
              "      <td>...</td>\n",
              "      <td>...</td>\n",
              "      <td>...</td>\n",
              "      <td>...</td>\n",
              "      <td>...</td>\n",
              "      <td>...</td>\n",
              "    </tr>\n",
              "    <tr>\n",
              "      <th>16699</th>\n",
              "      <td>4</td>\n",
              "      <td>33</td>\n",
              "      <td>37.222222</td>\n",
              "      <td>2</td>\n",
              "      <td>4</td>\n",
              "      <td>3</td>\n",
              "    </tr>\n",
              "    <tr>\n",
              "      <th>16704</th>\n",
              "      <td>8</td>\n",
              "      <td>24</td>\n",
              "      <td>36.111111</td>\n",
              "      <td>2</td>\n",
              "      <td>3</td>\n",
              "      <td>10</td>\n",
              "    </tr>\n",
              "    <tr>\n",
              "      <th>16705</th>\n",
              "      <td>23</td>\n",
              "      <td>36</td>\n",
              "      <td>36.444444</td>\n",
              "      <td>1</td>\n",
              "      <td>3</td>\n",
              "      <td>8</td>\n",
              "    </tr>\n",
              "    <tr>\n",
              "      <th>16707</th>\n",
              "      <td>33</td>\n",
              "      <td>75</td>\n",
              "      <td>36.166667</td>\n",
              "      <td>1</td>\n",
              "      <td>3</td>\n",
              "      <td>9</td>\n",
              "    </tr>\n",
              "    <tr>\n",
              "      <th>16708</th>\n",
              "      <td>3</td>\n",
              "      <td>35</td>\n",
              "      <td>35.833333</td>\n",
              "      <td>2</td>\n",
              "      <td>3</td>\n",
              "      <td>9</td>\n",
              "    </tr>\n",
              "  </tbody>\n",
              "</table>\n",
              "<p>4271 rows × 6 columns</p>\n",
              "</div>"
            ],
            "text/plain": [
              "       WAITTIME  AGE      TEMPF  SEX  IMMEDR  PAINSCALE\n",
              "5             2   63  36.833333    2       3          2\n",
              "11           18   27  36.944444    1       4          5\n",
              "12            3   27  37.111111    2       3         10\n",
              "14            9   44  36.777778    1       3          6\n",
              "16           15   38  36.444444    1       4          6\n",
              "...         ...  ...        ...  ...     ...        ...\n",
              "16699         4   33  37.222222    2       4          3\n",
              "16704         8   24  36.111111    2       3         10\n",
              "16705        23   36  36.444444    1       3          8\n",
              "16707        33   75  36.166667    1       3          9\n",
              "16708         3   35  35.833333    2       3          9\n",
              "\n",
              "[4271 rows x 6 columns]"
            ]
          },
          "metadata": {
            "tags": []
          },
          "execution_count": 13
        }
      ]
    },
    {
      "cell_type": "code",
      "metadata": {
        "colab": {
          "base_uri": "https://localhost:8080/",
          "height": 0
        },
        "id": "AdId-laP6IkH",
        "outputId": "d696a4ca-15f8-4b74-880a-d7b0d3532114"
      },
      "source": [
        "plt.plot(subset_df[\"TEMPF\"])"
      ],
      "execution_count": 14,
      "outputs": [
        {
          "output_type": "execute_result",
          "data": {
            "text/plain": [
              "[<matplotlib.lines.Line2D at 0x7f2661e02650>]"
            ]
          },
          "metadata": {
            "tags": []
          },
          "execution_count": 14
        },
        {
          "output_type": "display_data",
          "data": {
            "image/png": "[encoded data removed]",
            "text/plain": [
              "<Figure size 432x288 with 1 Axes>"
            ]
          },
          "metadata": {
            "tags": [],
            "needs_background": "light"
          }
        }
      ]
    },
    {
      "cell_type": "code",
      "metadata": {
        "id": "_XClC0966WpU"
      },
      "source": [
        "subset_df = subset_df[subset_df[\"TEMPF\"] > 34]\n",
        "subset_df = subset_df[subset_df[\"TEMPF\"] < 42]"
      ],
      "execution_count": 15,
      "outputs": []
    },
    {
      "cell_type": "code",
      "metadata": {
        "colab": {
          "base_uri": "https://localhost:8080/",
          "height": 0
        },
        "id": "Bkv_S1qZ7J1o",
        "outputId": "bb011849-2290-48b4-ee59-a7931e93ba72"
      },
      "source": [
        "plt.plot(subset_df[\"TEMPF\"])"
      ],
      "execution_count": 16,
      "outputs": [
        {
          "output_type": "execute_result",
          "data": {
            "text/plain": [
              "[<matplotlib.lines.Line2D at 0x7f2660de8310>]"
            ]
          },
          "metadata": {
            "tags": []
          },
          "execution_count": 16
        },
        {
          "output_type": "display_data",
          "data": {
            "image/png": "[encoded data removed]",
            "text/plain": [
              "<Figure size 432x288 with 1 Axes>"
            ]
          },
          "metadata": {
            "tags": [],
            "needs_background": "light"
          }
        }
      ]
    },
    {
      "cell_type": "code",
      "metadata": {
        "colab": {
          "base_uri": "https://localhost:8080/",
          "height": 0
        },
        "id": "dKPd4Z58CB_m",
        "outputId": "97d35fbf-70e6-43fa-bb50-83bb8fb66d28"
      },
      "source": [
        "subset_df"
      ],
      "execution_count": 17,
      "outputs": [
        {
          "output_type": "execute_result",
          "data": {
            "text/html": [
              "<div>\n",
              "<style scoped>\n",
              "    .dataframe tbody tr th:only-of-type {\n",
              "        vertical-align: middle;\n",
              "    }\n",
              "\n",
              "    .dataframe tbody tr th {\n",
              "        vertical-align: top;\n",
              "    }\n",
              "\n",
              "    .dataframe thead th {\n",
              "        text-align: right;\n",
              "    }\n",
              "</style>\n",
              "<table border=\"1\" class=\"dataframe\">\n",
              "  <thead>\n",
              "    <tr style=\"text-align: right;\">\n",
              "      <th></th>\n",
              "      <th>WAITTIME</th>\n",
              "      <th>AGE</th>\n",
              "      <th>TEMPF</th>\n",
              "      <th>SEX</th>\n",
              "      <th>IMMEDR</th>\n",
              "      <th>PAINSCALE</th>\n",
              "    </tr>\n",
              "  </thead>\n",
              "  <tbody>\n",
              "    <tr>\n",
              "      <th>5</th>\n",
              "      <td>2</td>\n",
              "      <td>63</td>\n",
              "      <td>36.833333</td>\n",
              "      <td>2</td>\n",
              "      <td>3</td>\n",
              "      <td>2</td>\n",
              "    </tr>\n",
              "    <tr>\n",
              "      <th>11</th>\n",
              "      <td>18</td>\n",
              "      <td>27</td>\n",
              "      <td>36.944444</td>\n",
              "      <td>1</td>\n",
              "      <td>4</td>\n",
              "      <td>5</td>\n",
              "    </tr>\n",
              "    <tr>\n",
              "      <th>12</th>\n",
              "      <td>3</td>\n",
              "      <td>27</td>\n",
              "      <td>37.111111</td>\n",
              "      <td>2</td>\n",
              "      <td>3</td>\n",
              "      <td>10</td>\n",
              "    </tr>\n",
              "    <tr>\n",
              "      <th>14</th>\n",
              "      <td>9</td>\n",
              "      <td>44</td>\n",
              "      <td>36.777778</td>\n",
              "      <td>1</td>\n",
              "      <td>3</td>\n",
              "      <td>6</td>\n",
              "    </tr>\n",
              "    <tr>\n",
              "      <th>16</th>\n",
              "      <td>15</td>\n",
              "      <td>38</td>\n",
              "      <td>36.444444</td>\n",
              "      <td>1</td>\n",
              "      <td>4</td>\n",
              "      <td>6</td>\n",
              "    </tr>\n",
              "    <tr>\n",
              "      <th>...</th>\n",
              "      <td>...</td>\n",
              "      <td>...</td>\n",
              "      <td>...</td>\n",
              "      <td>...</td>\n",
              "      <td>...</td>\n",
              "      <td>...</td>\n",
              "    </tr>\n",
              "    <tr>\n",
              "      <th>16699</th>\n",
              "      <td>4</td>\n",
              "      <td>33</td>\n",
              "      <td>37.222222</td>\n",
              "      <td>2</td>\n",
              "      <td>4</td>\n",
              "      <td>3</td>\n",
              "    </tr>\n",
              "    <tr>\n",
              "      <th>16704</th>\n",
              "      <td>8</td>\n",
              "      <td>24</td>\n",
              "      <td>36.111111</td>\n",
              "      <td>2</td>\n",
              "      <td>3</td>\n",
              "      <td>10</td>\n",
              "    </tr>\n",
              "    <tr>\n",
              "      <th>16705</th>\n",
              "      <td>23</td>\n",
              "      <td>36</td>\n",
              "      <td>36.444444</td>\n",
              "      <td>1</td>\n",
              "      <td>3</td>\n",
              "      <td>8</td>\n",
              "    </tr>\n",
              "    <tr>\n",
              "      <th>16707</th>\n",
              "      <td>33</td>\n",
              "      <td>75</td>\n",
              "      <td>36.166667</td>\n",
              "      <td>1</td>\n",
              "      <td>3</td>\n",
              "      <td>9</td>\n",
              "    </tr>\n",
              "    <tr>\n",
              "      <th>16708</th>\n",
              "      <td>3</td>\n",
              "      <td>35</td>\n",
              "      <td>35.833333</td>\n",
              "      <td>2</td>\n",
              "      <td>3</td>\n",
              "      <td>9</td>\n",
              "    </tr>\n",
              "  </tbody>\n",
              "</table>\n",
              "<p>4271 rows × 6 columns</p>\n",
              "</div>"
            ],
            "text/plain": [
              "       WAITTIME  AGE      TEMPF  SEX  IMMEDR  PAINSCALE\n",
              "5             2   63  36.833333    2       3          2\n",
              "11           18   27  36.944444    1       4          5\n",
              "12            3   27  37.111111    2       3         10\n",
              "14            9   44  36.777778    1       3          6\n",
              "16           15   38  36.444444    1       4          6\n",
              "...         ...  ...        ...  ...     ...        ...\n",
              "16699         4   33  37.222222    2       4          3\n",
              "16704         8   24  36.111111    2       3         10\n",
              "16705        23   36  36.444444    1       3          8\n",
              "16707        33   75  36.166667    1       3          9\n",
              "16708         3   35  35.833333    2       3          9\n",
              "\n",
              "[4271 rows x 6 columns]"
            ]
          },
          "metadata": {
            "tags": []
          },
          "execution_count": 17
        }
      ]
    },
    {
      "cell_type": "code",
      "metadata": {
        "id": "MsFx6aHfcBV-"
      },
      "source": [
        "def categorical_temp (x):\n",
        "  if x <= 36.6 :\n",
        "    x = 1\n",
        "  elif x > 36.6:\n",
        "    x = 2\n",
        "  return x\n",
        "\n",
        "def categorical_age (x):\n",
        "  if x < 15:\n",
        "    x = 1\n",
        "  elif  x > 25 and x <= 15:\n",
        "    x = 2\n",
        "  elif x > 15 and x <=25:\n",
        "    x= 3\n",
        "  elif x > 45 and x <=35:\n",
        "    x= 4\n",
        "  elif x > 65 and x <=45:\n",
        "    x= 5\n",
        "  elif x > 75 and x <=65:\n",
        "    x= 6\n",
        "  return x\n"
      ],
      "execution_count": 18,
      "outputs": []
    },
    {
      "cell_type": "code",
      "metadata": {
        "id": "dTPKPY6ZU7v3"
      },
      "source": [
        "# subset_df[\"WAITTIME\"] = subset_df[\"WAITTIME\"].apply(categorical_waitTime)\n",
        "subset_df[\"TEMPF\"] = subset_df[\"TEMPF\"].apply(categorical_temp)\n",
        "subset_df[\"AGE\"] = subset_df[\"AGE\"].apply(categorical_temp)"
      ],
      "execution_count": 19,
      "outputs": []
    },
    {
      "cell_type": "code",
      "metadata": {
        "colab": {
          "base_uri": "https://localhost:8080/",
          "height": 0
        },
        "id": "l7-lcg34VNtb",
        "outputId": "9cd8b082-95af-423d-8791-1caf6528f3e1"
      },
      "source": [
        "subset_df"
      ],
      "execution_count": 20,
      "outputs": [
        {
          "output_type": "execute_result",
          "data": {
            "text/html": [
              "<div>\n",
              "<style scoped>\n",
              "    .dataframe tbody tr th:only-of-type {\n",
              "        vertical-align: middle;\n",
              "    }\n",
              "\n",
              "    .dataframe tbody tr th {\n",
              "        vertical-align: top;\n",
              "    }\n",
              "\n",
              "    .dataframe thead th {\n",
              "        text-align: right;\n",
              "    }\n",
              "</style>\n",
              "<table border=\"1\" class=\"dataframe\">\n",
              "  <thead>\n",
              "    <tr style=\"text-align: right;\">\n",
              "      <th></th>\n",
              "      <th>WAITTIME</th>\n",
              "      <th>AGE</th>\n",
              "      <th>TEMPF</th>\n",
              "      <th>SEX</th>\n",
              "      <th>IMMEDR</th>\n",
              "      <th>PAINSCALE</th>\n",
              "    </tr>\n",
              "  </thead>\n",
              "  <tbody>\n",
              "    <tr>\n",
              "      <th>5</th>\n",
              "      <td>2</td>\n",
              "      <td>2</td>\n",
              "      <td>2</td>\n",
              "      <td>2</td>\n",
              "      <td>3</td>\n",
              "      <td>2</td>\n",
              "    </tr>\n",
              "    <tr>\n",
              "      <th>11</th>\n",
              "      <td>18</td>\n",
              "      <td>1</td>\n",
              "      <td>2</td>\n",
              "      <td>1</td>\n",
              "      <td>4</td>\n",
              "      <td>5</td>\n",
              "    </tr>\n",
              "    <tr>\n",
              "      <th>12</th>\n",
              "      <td>3</td>\n",
              "      <td>1</td>\n",
              "      <td>2</td>\n",
              "      <td>2</td>\n",
              "      <td>3</td>\n",
              "      <td>10</td>\n",
              "    </tr>\n",
              "    <tr>\n",
              "      <th>14</th>\n",
              "      <td>9</td>\n",
              "      <td>2</td>\n",
              "      <td>2</td>\n",
              "      <td>1</td>\n",
              "      <td>3</td>\n",
              "      <td>6</td>\n",
              "    </tr>\n",
              "    <tr>\n",
              "      <th>16</th>\n",
              "      <td>15</td>\n",
              "      <td>2</td>\n",
              "      <td>1</td>\n",
              "      <td>1</td>\n",
              "      <td>4</td>\n",
              "      <td>6</td>\n",
              "    </tr>\n",
              "    <tr>\n",
              "      <th>...</th>\n",
              "      <td>...</td>\n",
              "      <td>...</td>\n",
              "      <td>...</td>\n",
              "      <td>...</td>\n",
              "      <td>...</td>\n",
              "      <td>...</td>\n",
              "    </tr>\n",
              "    <tr>\n",
              "      <th>16699</th>\n",
              "      <td>4</td>\n",
              "      <td>1</td>\n",
              "      <td>2</td>\n",
              "      <td>2</td>\n",
              "      <td>4</td>\n",
              "      <td>3</td>\n",
              "    </tr>\n",
              "    <tr>\n",
              "      <th>16704</th>\n",
              "      <td>8</td>\n",
              "      <td>1</td>\n",
              "      <td>1</td>\n",
              "      <td>2</td>\n",
              "      <td>3</td>\n",
              "      <td>10</td>\n",
              "    </tr>\n",
              "    <tr>\n",
              "      <th>16705</th>\n",
              "      <td>23</td>\n",
              "      <td>1</td>\n",
              "      <td>1</td>\n",
              "      <td>1</td>\n",
              "      <td>3</td>\n",
              "      <td>8</td>\n",
              "    </tr>\n",
              "    <tr>\n",
              "      <th>16707</th>\n",
              "      <td>33</td>\n",
              "      <td>2</td>\n",
              "      <td>1</td>\n",
              "      <td>1</td>\n",
              "      <td>3</td>\n",
              "      <td>9</td>\n",
              "    </tr>\n",
              "    <tr>\n",
              "      <th>16708</th>\n",
              "      <td>3</td>\n",
              "      <td>1</td>\n",
              "      <td>1</td>\n",
              "      <td>2</td>\n",
              "      <td>3</td>\n",
              "      <td>9</td>\n",
              "    </tr>\n",
              "  </tbody>\n",
              "</table>\n",
              "<p>4271 rows × 6 columns</p>\n",
              "</div>"
            ],
            "text/plain": [
              "       WAITTIME  AGE  TEMPF  SEX  IMMEDR  PAINSCALE\n",
              "5             2    2      2    2       3          2\n",
              "11           18    1      2    1       4          5\n",
              "12            3    1      2    2       3         10\n",
              "14            9    2      2    1       3          6\n",
              "16           15    2      1    1       4          6\n",
              "...         ...  ...    ...  ...     ...        ...\n",
              "16699         4    1      2    2       4          3\n",
              "16704         8    1      1    2       3         10\n",
              "16705        23    1      1    1       3          8\n",
              "16707        33    2      1    1       3          9\n",
              "16708         3    1      1    2       3          9\n",
              "\n",
              "[4271 rows x 6 columns]"
            ]
          },
          "metadata": {
            "tags": []
          },
          "execution_count": 20
        }
      ]
    },
    {
      "cell_type": "code",
      "metadata": {
        "id": "jVBEuKEu9ax7"
      },
      "source": [
        "X = subset_df[[\"AGE\",\"SEX\",\"IMMEDR\",\"PAINSCALE\",\"TEMPF\"]] \n",
        "\n",
        "y = subset_df[\"WAITTIME\"]"
      ],
      "execution_count": 21,
      "outputs": []
    },
    {
      "cell_type": "code",
      "metadata": {
        "id": "Ho7Apam-9rfa"
      },
      "source": [
        "#Split Data\n",
        "from sklearn.model_selection import train_test_split\n",
        "\n",
        "X_train, X_test, y_train, y_test = train_test_split(X, y, test_size = 0.2, random_state = 0)"
      ],
      "execution_count": 22,
      "outputs": []
    },
    {
      "cell_type": "code",
      "metadata": {
        "colab": {
          "base_uri": "https://localhost:8080/"
        },
        "id": "A2e1_TKC97UT",
        "outputId": "e3b8a4e1-9bbd-44b8-e299-71d65c968c91"
      },
      "source": [
        "X_train.shape, X_test.shape\n"
      ],
      "execution_count": 23,
      "outputs": [
        {
          "output_type": "execute_result",
          "data": {
            "text/plain": [
              "((3416, 5), (855, 5))"
            ]
          },
          "metadata": {
            "tags": []
          },
          "execution_count": 23
        }
      ]
    },
    {
      "cell_type": "code",
      "metadata": {
        "id": "hnz17TGIdLmj"
      },
      "source": [
        "from sklearn.preprocessing import StandardScaler"
      ],
      "execution_count": 24,
      "outputs": []
    },
    {
      "cell_type": "code",
      "metadata": {
        "id": "LUVEKEUXjfwn"
      },
      "source": [
        "stdscal = StandardScaler()\n",
        "scale = stdscal.fit_transform(X_train)"
      ],
      "execution_count": 25,
      "outputs": []
    },
    {
      "cell_type": "code",
      "metadata": {
        "id": "zzLAKvFijkfg",
        "colab": {
          "base_uri": "https://localhost:8080/",
          "height": 0
        },
        "outputId": "ca1cfcaf-6a41-429d-a6cb-4269ee7b27da"
      },
      "source": [
        "X_train = pd.DataFrame(scale,columns=list(X_train.columns.values))\n",
        "X_train"
      ],
      "execution_count": 26,
      "outputs": [
        {
          "output_type": "execute_result",
          "data": {
            "text/html": [
              "<div>\n",
              "<style scoped>\n",
              "    .dataframe tbody tr th:only-of-type {\n",
              "        vertical-align: middle;\n",
              "    }\n",
              "\n",
              "    .dataframe tbody tr th {\n",
              "        vertical-align: top;\n",
              "    }\n",
              "\n",
              "    .dataframe thead th {\n",
              "        text-align: right;\n",
              "    }\n",
              "</style>\n",
              "<table border=\"1\" class=\"dataframe\">\n",
              "  <thead>\n",
              "    <tr style=\"text-align: right;\">\n",
              "      <th></th>\n",
              "      <th>AGE</th>\n",
              "      <th>SEX</th>\n",
              "      <th>IMMEDR</th>\n",
              "      <th>PAINSCALE</th>\n",
              "      <th>TEMPF</th>\n",
              "    </tr>\n",
              "  </thead>\n",
              "  <tbody>\n",
              "    <tr>\n",
              "      <th>0</th>\n",
              "      <td>0.976849</td>\n",
              "      <td>1.134906</td>\n",
              "      <td>-0.455715</td>\n",
              "      <td>0.538588</td>\n",
              "      <td>0.627469</td>\n",
              "    </tr>\n",
              "    <tr>\n",
              "      <th>1</th>\n",
              "      <td>0.976849</td>\n",
              "      <td>-0.881131</td>\n",
              "      <td>3.627492</td>\n",
              "      <td>-0.267465</td>\n",
              "      <td>0.627469</td>\n",
              "    </tr>\n",
              "    <tr>\n",
              "      <th>2</th>\n",
              "      <td>0.976849</td>\n",
              "      <td>1.134906</td>\n",
              "      <td>0.565087</td>\n",
              "      <td>0.135561</td>\n",
              "      <td>-1.593705</td>\n",
              "    </tr>\n",
              "    <tr>\n",
              "      <th>3</th>\n",
              "      <td>0.976849</td>\n",
              "      <td>1.134906</td>\n",
              "      <td>-0.455715</td>\n",
              "      <td>-1.879572</td>\n",
              "      <td>0.627469</td>\n",
              "    </tr>\n",
              "    <tr>\n",
              "      <th>4</th>\n",
              "      <td>-1.023700</td>\n",
              "      <td>1.134906</td>\n",
              "      <td>-0.455715</td>\n",
              "      <td>0.135561</td>\n",
              "      <td>0.627469</td>\n",
              "    </tr>\n",
              "    <tr>\n",
              "      <th>...</th>\n",
              "      <td>...</td>\n",
              "      <td>...</td>\n",
              "      <td>...</td>\n",
              "      <td>...</td>\n",
              "      <td>...</td>\n",
              "    </tr>\n",
              "    <tr>\n",
              "      <th>3411</th>\n",
              "      <td>-1.023700</td>\n",
              "      <td>1.134906</td>\n",
              "      <td>1.585889</td>\n",
              "      <td>0.135561</td>\n",
              "      <td>0.627469</td>\n",
              "    </tr>\n",
              "    <tr>\n",
              "      <th>3412</th>\n",
              "      <td>-1.023700</td>\n",
              "      <td>-0.881131</td>\n",
              "      <td>0.565087</td>\n",
              "      <td>1.344642</td>\n",
              "      <td>0.627469</td>\n",
              "    </tr>\n",
              "    <tr>\n",
              "      <th>3413</th>\n",
              "      <td>0.976849</td>\n",
              "      <td>1.134906</td>\n",
              "      <td>-0.455715</td>\n",
              "      <td>0.538588</td>\n",
              "      <td>0.627469</td>\n",
              "    </tr>\n",
              "    <tr>\n",
              "      <th>3414</th>\n",
              "      <td>-1.023700</td>\n",
              "      <td>-0.881131</td>\n",
              "      <td>0.565087</td>\n",
              "      <td>-1.073519</td>\n",
              "      <td>0.627469</td>\n",
              "    </tr>\n",
              "    <tr>\n",
              "      <th>3415</th>\n",
              "      <td>0.976849</td>\n",
              "      <td>1.134906</td>\n",
              "      <td>0.565087</td>\n",
              "      <td>1.344642</td>\n",
              "      <td>0.627469</td>\n",
              "    </tr>\n",
              "  </tbody>\n",
              "</table>\n",
              "<p>3416 rows × 5 columns</p>\n",
              "</div>"
            ],
            "text/plain": [
              "           AGE       SEX    IMMEDR  PAINSCALE     TEMPF\n",
              "0     0.976849  1.134906 -0.455715   0.538588  0.627469\n",
              "1     0.976849 -0.881131  3.627492  -0.267465  0.627469\n",
              "2     0.976849  1.134906  0.565087   0.135561 -1.593705\n",
              "3     0.976849  1.134906 -0.455715  -1.879572  0.627469\n",
              "4    -1.023700  1.134906 -0.455715   0.135561  0.627469\n",
              "...        ...       ...       ...        ...       ...\n",
              "3411 -1.023700  1.134906  1.585889   0.135561  0.627469\n",
              "3412 -1.023700 -0.881131  0.565087   1.344642  0.627469\n",
              "3413  0.976849  1.134906 -0.455715   0.538588  0.627469\n",
              "3414 -1.023700 -0.881131  0.565087  -1.073519  0.627469\n",
              "3415  0.976849  1.134906  0.565087   1.344642  0.627469\n",
              "\n",
              "[3416 rows x 5 columns]"
            ]
          },
          "metadata": {
            "tags": []
          },
          "execution_count": 26
        }
      ]
    },
    {
      "cell_type": "code",
      "metadata": {
        "id": "Tkdkimtzjzdb"
      },
      "source": [
        "stdscal = StandardScaler()\n",
        "scale = stdscal.fit_transform(X_test)"
      ],
      "execution_count": 27,
      "outputs": []
    },
    {
      "cell_type": "code",
      "metadata": {
        "id": "5PRkndCRj8Ht",
        "colab": {
          "base_uri": "https://localhost:8080/",
          "height": 0
        },
        "outputId": "60de76ed-25da-47ca-82e2-cb96c5d1f6fd"
      },
      "source": [
        "X_test = pd.DataFrame(scale,columns=list(X_test.columns.values))\n",
        "X_test"
      ],
      "execution_count": 28,
      "outputs": [
        {
          "output_type": "execute_result",
          "data": {
            "text/html": [
              "<div>\n",
              "<style scoped>\n",
              "    .dataframe tbody tr th:only-of-type {\n",
              "        vertical-align: middle;\n",
              "    }\n",
              "\n",
              "    .dataframe tbody tr th {\n",
              "        vertical-align: top;\n",
              "    }\n",
              "\n",
              "    .dataframe thead th {\n",
              "        text-align: right;\n",
              "    }\n",
              "</style>\n",
              "<table border=\"1\" class=\"dataframe\">\n",
              "  <thead>\n",
              "    <tr style=\"text-align: right;\">\n",
              "      <th></th>\n",
              "      <th>AGE</th>\n",
              "      <th>SEX</th>\n",
              "      <th>IMMEDR</th>\n",
              "      <th>PAINSCALE</th>\n",
              "      <th>TEMPF</th>\n",
              "    </tr>\n",
              "  </thead>\n",
              "  <tbody>\n",
              "    <tr>\n",
              "      <th>0</th>\n",
              "      <td>1.017700</td>\n",
              "      <td>-0.788918</td>\n",
              "      <td>-0.447840</td>\n",
              "      <td>1.380843</td>\n",
              "      <td>-1.512766</td>\n",
              "    </tr>\n",
              "    <tr>\n",
              "      <th>1</th>\n",
              "      <td>-0.982607</td>\n",
              "      <td>-0.788918</td>\n",
              "      <td>0.551907</td>\n",
              "      <td>0.963957</td>\n",
              "      <td>-1.512766</td>\n",
              "    </tr>\n",
              "    <tr>\n",
              "      <th>2</th>\n",
              "      <td>-0.982607</td>\n",
              "      <td>1.267560</td>\n",
              "      <td>-1.447586</td>\n",
              "      <td>-0.703586</td>\n",
              "      <td>-1.512766</td>\n",
              "    </tr>\n",
              "    <tr>\n",
              "      <th>3</th>\n",
              "      <td>-0.982607</td>\n",
              "      <td>-0.788918</td>\n",
              "      <td>1.551653</td>\n",
              "      <td>0.547071</td>\n",
              "      <td>0.661041</td>\n",
              "    </tr>\n",
              "    <tr>\n",
              "      <th>4</th>\n",
              "      <td>-0.982607</td>\n",
              "      <td>-0.788918</td>\n",
              "      <td>0.551907</td>\n",
              "      <td>-1.120472</td>\n",
              "      <td>-1.512766</td>\n",
              "    </tr>\n",
              "    <tr>\n",
              "      <th>...</th>\n",
              "      <td>...</td>\n",
              "      <td>...</td>\n",
              "      <td>...</td>\n",
              "      <td>...</td>\n",
              "      <td>...</td>\n",
              "    </tr>\n",
              "    <tr>\n",
              "      <th>850</th>\n",
              "      <td>-0.982607</td>\n",
              "      <td>-0.788918</td>\n",
              "      <td>0.551907</td>\n",
              "      <td>-1.537358</td>\n",
              "      <td>0.661041</td>\n",
              "    </tr>\n",
              "    <tr>\n",
              "      <th>851</th>\n",
              "      <td>1.017700</td>\n",
              "      <td>-0.788918</td>\n",
              "      <td>-0.447840</td>\n",
              "      <td>1.380843</td>\n",
              "      <td>0.661041</td>\n",
              "    </tr>\n",
              "    <tr>\n",
              "      <th>852</th>\n",
              "      <td>-0.982607</td>\n",
              "      <td>1.267560</td>\n",
              "      <td>-0.447840</td>\n",
              "      <td>0.547071</td>\n",
              "      <td>0.661041</td>\n",
              "    </tr>\n",
              "    <tr>\n",
              "      <th>853</th>\n",
              "      <td>1.017700</td>\n",
              "      <td>-0.788918</td>\n",
              "      <td>-0.447840</td>\n",
              "      <td>0.963957</td>\n",
              "      <td>0.661041</td>\n",
              "    </tr>\n",
              "    <tr>\n",
              "      <th>854</th>\n",
              "      <td>1.017700</td>\n",
              "      <td>-0.788918</td>\n",
              "      <td>0.551907</td>\n",
              "      <td>-0.703586</td>\n",
              "      <td>0.661041</td>\n",
              "    </tr>\n",
              "  </tbody>\n",
              "</table>\n",
              "<p>855 rows × 5 columns</p>\n",
              "</div>"
            ],
            "text/plain": [
              "          AGE       SEX    IMMEDR  PAINSCALE     TEMPF\n",
              "0    1.017700 -0.788918 -0.447840   1.380843 -1.512766\n",
              "1   -0.982607 -0.788918  0.551907   0.963957 -1.512766\n",
              "2   -0.982607  1.267560 -1.447586  -0.703586 -1.512766\n",
              "3   -0.982607 -0.788918  1.551653   0.547071  0.661041\n",
              "4   -0.982607 -0.788918  0.551907  -1.120472 -1.512766\n",
              "..        ...       ...       ...        ...       ...\n",
              "850 -0.982607 -0.788918  0.551907  -1.537358  0.661041\n",
              "851  1.017700 -0.788918 -0.447840   1.380843  0.661041\n",
              "852 -0.982607  1.267560 -0.447840   0.547071  0.661041\n",
              "853  1.017700 -0.788918 -0.447840   0.963957  0.661041\n",
              "854  1.017700 -0.788918  0.551907  -0.703586  0.661041\n",
              "\n",
              "[855 rows x 5 columns]"
            ]
          },
          "metadata": {
            "tags": []
          },
          "execution_count": 28
        }
      ]
    },
    {
      "cell_type": "markdown",
      "metadata": {
        "id": "GV3wULW1M9zc"
      },
      "source": [
        "## TensorFlow\n"
      ]
    },
    {
      "cell_type": "code",
      "metadata": {
        "id": "wQ_gKYypM-4P"
      },
      "source": [
        "from tensorflow.keras.layers import Input, Dense, Activation,Dropout\n",
        "from tensorflow.keras.models import Model\n",
        "from tensorflow.keras.models import Sequential\n",
        "import tensorflow as tf"
      ],
      "execution_count": 29,
      "outputs": []
    },
    {
      "cell_type": "code",
      "metadata": {
        "id": "Xxyh-ZHsNJPm"
      },
      "source": [
        "model = Sequential()\n",
        "input_layer = Input(shape=(X.shape[1],))\n",
        "model.add(Dense(64, activation=\"relu\",input_shape =(X.shape[1],) ))\n",
        "model.add(Dropout(0.1))\n",
        "model.add(Dense(32,activation='relu'))\n",
        "model.add(Dense(8,activation='sigmoid'))\n",
        "model.add(Dense(1))\n",
        "\n",
        "model.compile(loss=\"mean_squared_error\" , optimizer=\"Adam\", metrics=[\"mean_squared_error\"])"
      ],
      "execution_count": 30,
      "outputs": []
    },
    {
      "cell_type": "code",
      "metadata": {
        "colab": {
          "base_uri": "https://localhost:8080/"
        },
        "id": "WRHxx27INQAk",
        "outputId": "8c63e74b-2629-4466-c0e5-2102e30702b7"
      },
      "source": [
        "history = model.fit(X_train, y_train, batch_size=2, epochs=100, verbose=1, validation_split=0.2)"
      ],
      "execution_count": 31,
      "outputs": [
        {
          "output_type": "stream",
          "text": [
            "Epoch 1/100\n",
            "1366/1366 [==============================] - 6s 2ms/step - loss: 259.5179 - mean_squared_error: 259.5179 - val_loss: 212.8771 - val_mean_squared_error: 212.8771\n",
            "Epoch 2/100\n",
            "1366/1366 [==============================] - 3s 2ms/step - loss: 169.6512 - mean_squared_error: 169.6512 - val_loss: 155.9102 - val_mean_squared_error: 155.9102\n",
            "Epoch 3/100\n",
            "1366/1366 [==============================] - 3s 2ms/step - loss: 134.9155 - mean_squared_error: 134.9155 - val_loss: 135.3340 - val_mean_squared_error: 135.3340\n",
            "Epoch 4/100\n",
            "1366/1366 [==============================] - 3s 2ms/step - loss: 123.7382 - mean_squared_error: 123.7382 - val_loss: 128.9420 - val_mean_squared_error: 128.9420\n",
            "Epoch 5/100\n",
            "1366/1366 [==============================] - 3s 2ms/step - loss: 120.9321 - mean_squared_error: 120.9321 - val_loss: 127.4325 - val_mean_squared_error: 127.4325\n",
            "Epoch 6/100\n",
            "1366/1366 [==============================] - 3s 2ms/step - loss: 120.4037 - mean_squared_error: 120.4037 - val_loss: 127.0783 - val_mean_squared_error: 127.0783\n",
            "Epoch 7/100\n",
            "1366/1366 [==============================] - 3s 2ms/step - loss: 120.1606 - mean_squared_error: 120.1606 - val_loss: 127.4231 - val_mean_squared_error: 127.4231\n",
            "Epoch 8/100\n",
            "1366/1366 [==============================] - 3s 2ms/step - loss: 119.6651 - mean_squared_error: 119.6651 - val_loss: 127.2396 - val_mean_squared_error: 127.2396\n",
            "Epoch 9/100\n",
            "1366/1366 [==============================] - 3s 2ms/step - loss: 119.6189 - mean_squared_error: 119.6189 - val_loss: 127.3326 - val_mean_squared_error: 127.3326\n",
            "Epoch 10/100\n",
            "1366/1366 [==============================] - 3s 2ms/step - loss: 119.5144 - mean_squared_error: 119.5144 - val_loss: 127.5655 - val_mean_squared_error: 127.5655\n",
            "Epoch 11/100\n",
            "1366/1366 [==============================] - 3s 2ms/step - loss: 119.3857 - mean_squared_error: 119.3857 - val_loss: 127.3765 - val_mean_squared_error: 127.3765\n",
            "Epoch 12/100\n",
            "1366/1366 [==============================] - 3s 2ms/step - loss: 119.3863 - mean_squared_error: 119.3863 - val_loss: 127.6867 - val_mean_squared_error: 127.6867\n",
            "Epoch 13/100\n",
            "1366/1366 [==============================] - 3s 2ms/step - loss: 119.3497 - mean_squared_error: 119.3497 - val_loss: 128.0484 - val_mean_squared_error: 128.0484\n",
            "Epoch 14/100\n",
            "1366/1366 [==============================] - 3s 2ms/step - loss: 119.0131 - mean_squared_error: 119.0131 - val_loss: 127.6470 - val_mean_squared_error: 127.6470\n",
            "Epoch 15/100\n",
            "1366/1366 [==============================] - 3s 2ms/step - loss: 119.0964 - mean_squared_error: 119.0964 - val_loss: 128.0283 - val_mean_squared_error: 128.0283\n",
            "Epoch 16/100\n",
            "1366/1366 [==============================] - 3s 2ms/step - loss: 119.1464 - mean_squared_error: 119.1464 - val_loss: 127.9515 - val_mean_squared_error: 127.9515\n",
            "Epoch 17/100\n",
            "1366/1366 [==============================] - 3s 2ms/step - loss: 119.1714 - mean_squared_error: 119.1714 - val_loss: 128.1726 - val_mean_squared_error: 128.1726\n",
            "Epoch 18/100\n",
            "1366/1366 [==============================] - 3s 2ms/step - loss: 119.0028 - mean_squared_error: 119.0028 - val_loss: 127.4906 - val_mean_squared_error: 127.4906\n",
            "Epoch 19/100\n",
            "1366/1366 [==============================] - 3s 2ms/step - loss: 119.0799 - mean_squared_error: 119.0799 - val_loss: 127.5022 - val_mean_squared_error: 127.5022\n",
            "Epoch 20/100\n",
            "1366/1366 [==============================] - 3s 2ms/step - loss: 119.1136 - mean_squared_error: 119.1136 - val_loss: 127.4658 - val_mean_squared_error: 127.4658\n",
            "Epoch 21/100\n",
            "1366/1366 [==============================] - 3s 2ms/step - loss: 119.1492 - mean_squared_error: 119.1492 - val_loss: 127.9136 - val_mean_squared_error: 127.9136\n",
            "Epoch 22/100\n",
            "1366/1366 [==============================] - 3s 2ms/step - loss: 119.2188 - mean_squared_error: 119.2188 - val_loss: 127.6599 - val_mean_squared_error: 127.6599\n",
            "Epoch 23/100\n",
            "1366/1366 [==============================] - 3s 2ms/step - loss: 119.0510 - mean_squared_error: 119.0510 - val_loss: 127.7810 - val_mean_squared_error: 127.7810\n",
            "Epoch 24/100\n",
            "1366/1366 [==============================] - 3s 2ms/step - loss: 119.0373 - mean_squared_error: 119.0373 - val_loss: 127.5524 - val_mean_squared_error: 127.5524\n",
            "Epoch 25/100\n",
            "1366/1366 [==============================] - 3s 2ms/step - loss: 119.0784 - mean_squared_error: 119.0784 - val_loss: 127.9071 - val_mean_squared_error: 127.9071\n",
            "Epoch 26/100\n",
            "1366/1366 [==============================] - 3s 2ms/step - loss: 118.9866 - mean_squared_error: 118.9866 - val_loss: 127.7305 - val_mean_squared_error: 127.7305\n",
            "Epoch 27/100\n",
            "1366/1366 [==============================] - 3s 2ms/step - loss: 119.0763 - mean_squared_error: 119.0763 - val_loss: 127.9013 - val_mean_squared_error: 127.9013\n",
            "Epoch 28/100\n",
            "1366/1366 [==============================] - 3s 2ms/step - loss: 119.0706 - mean_squared_error: 119.0706 - val_loss: 128.0816 - val_mean_squared_error: 128.0816\n",
            "Epoch 29/100\n",
            "1366/1366 [==============================] - 3s 2ms/step - loss: 119.0146 - mean_squared_error: 119.0146 - val_loss: 128.4149 - val_mean_squared_error: 128.4149\n",
            "Epoch 30/100\n",
            "1366/1366 [==============================] - 3s 2ms/step - loss: 119.0805 - mean_squared_error: 119.0805 - val_loss: 128.0468 - val_mean_squared_error: 128.0468\n",
            "Epoch 31/100\n",
            "1366/1366 [==============================] - 3s 2ms/step - loss: 118.9927 - mean_squared_error: 118.9927 - val_loss: 127.5501 - val_mean_squared_error: 127.5501\n",
            "Epoch 32/100\n",
            "1366/1366 [==============================] - 3s 2ms/step - loss: 119.1077 - mean_squared_error: 119.1077 - val_loss: 127.8977 - val_mean_squared_error: 127.8977\n",
            "Epoch 33/100\n",
            "1366/1366 [==============================] - 3s 2ms/step - loss: 119.0087 - mean_squared_error: 119.0087 - val_loss: 128.4099 - val_mean_squared_error: 128.4099\n",
            "Epoch 34/100\n",
            "1366/1366 [==============================] - 3s 2ms/step - loss: 118.9581 - mean_squared_error: 118.9581 - val_loss: 128.3879 - val_mean_squared_error: 128.3879\n",
            "Epoch 35/100\n",
            "1366/1366 [==============================] - 3s 2ms/step - loss: 118.9134 - mean_squared_error: 118.9134 - val_loss: 128.4029 - val_mean_squared_error: 128.4029\n",
            "Epoch 36/100\n",
            "1366/1366 [==============================] - 3s 2ms/step - loss: 118.9469 - mean_squared_error: 118.9469 - val_loss: 128.7709 - val_mean_squared_error: 128.7709\n",
            "Epoch 37/100\n",
            "1366/1366 [==============================] - 3s 2ms/step - loss: 118.7466 - mean_squared_error: 118.7466 - val_loss: 128.3453 - val_mean_squared_error: 128.3453\n",
            "Epoch 38/100\n",
            "1366/1366 [==============================] - 3s 2ms/step - loss: 119.0933 - mean_squared_error: 119.0933 - val_loss: 128.1270 - val_mean_squared_error: 128.1270\n",
            "Epoch 39/100\n",
            "1366/1366 [==============================] - 3s 2ms/step - loss: 119.0070 - mean_squared_error: 119.0070 - val_loss: 128.0954 - val_mean_squared_error: 128.0954\n",
            "Epoch 40/100\n",
            "1366/1366 [==============================] - 3s 2ms/step - loss: 118.7859 - mean_squared_error: 118.7859 - val_loss: 128.3478 - val_mean_squared_error: 128.3478\n",
            "Epoch 41/100\n",
            "1366/1366 [==============================] - 3s 2ms/step - loss: 118.8986 - mean_squared_error: 118.8986 - val_loss: 128.0799 - val_mean_squared_error: 128.0799\n",
            "Epoch 42/100\n",
            "1366/1366 [==============================] - 3s 2ms/step - loss: 118.8836 - mean_squared_error: 118.8836 - val_loss: 128.5902 - val_mean_squared_error: 128.5902\n",
            "Epoch 43/100\n",
            "1366/1366 [==============================] - 3s 2ms/step - loss: 118.9474 - mean_squared_error: 118.9474 - val_loss: 128.0514 - val_mean_squared_error: 128.0514\n",
            "Epoch 44/100\n",
            "1366/1366 [==============================] - 3s 2ms/step - loss: 118.7887 - mean_squared_error: 118.7887 - val_loss: 128.2940 - val_mean_squared_error: 128.2940\n",
            "Epoch 45/100\n",
            "1366/1366 [==============================] - 3s 2ms/step - loss: 118.8190 - mean_squared_error: 118.8190 - val_loss: 127.9033 - val_mean_squared_error: 127.9033\n",
            "Epoch 46/100\n",
            "1366/1366 [==============================] - 3s 2ms/step - loss: 118.9326 - mean_squared_error: 118.9326 - val_loss: 128.0803 - val_mean_squared_error: 128.0803\n",
            "Epoch 47/100\n",
            "1366/1366 [==============================] - 3s 2ms/step - loss: 118.9388 - mean_squared_error: 118.9388 - val_loss: 128.1570 - val_mean_squared_error: 128.1570\n",
            "Epoch 48/100\n",
            "1366/1366 [==============================] - 3s 2ms/step - loss: 118.9332 - mean_squared_error: 118.9332 - val_loss: 128.6444 - val_mean_squared_error: 128.6444\n",
            "Epoch 49/100\n",
            "1366/1366 [==============================] - 3s 2ms/step - loss: 118.9534 - mean_squared_error: 118.9534 - val_loss: 128.3122 - val_mean_squared_error: 128.3122\n",
            "Epoch 50/100\n",
            "1366/1366 [==============================] - 3s 2ms/step - loss: 118.8257 - mean_squared_error: 118.8257 - val_loss: 128.3905 - val_mean_squared_error: 128.3905\n",
            "Epoch 51/100\n",
            "1366/1366 [==============================] - 3s 2ms/step - loss: 118.8486 - mean_squared_error: 118.8486 - val_loss: 128.1734 - val_mean_squared_error: 128.1734\n",
            "Epoch 52/100\n",
            "1366/1366 [==============================] - 3s 2ms/step - loss: 118.9102 - mean_squared_error: 118.9102 - val_loss: 128.3125 - val_mean_squared_error: 128.3125\n",
            "Epoch 53/100\n",
            "1366/1366 [==============================] - 3s 2ms/step - loss: 118.7416 - mean_squared_error: 118.7416 - val_loss: 128.3904 - val_mean_squared_error: 128.3904\n",
            "Epoch 54/100\n",
            "1366/1366 [==============================] - 3s 2ms/step - loss: 118.8562 - mean_squared_error: 118.8562 - val_loss: 128.2771 - val_mean_squared_error: 128.2771\n",
            "Epoch 55/100\n",
            "1366/1366 [==============================] - 3s 2ms/step - loss: 118.8937 - mean_squared_error: 118.8937 - val_loss: 128.1756 - val_mean_squared_error: 128.1756\n",
            "Epoch 56/100\n",
            "1366/1366 [==============================] - 3s 2ms/step - loss: 118.7354 - mean_squared_error: 118.7354 - val_loss: 128.7438 - val_mean_squared_error: 128.7438\n",
            "Epoch 57/100\n",
            "1366/1366 [==============================] - 3s 2ms/step - loss: 118.9398 - mean_squared_error: 118.9398 - val_loss: 128.4185 - val_mean_squared_error: 128.4185\n",
            "Epoch 58/100\n",
            "1366/1366 [==============================] - 3s 2ms/step - loss: 119.0365 - mean_squared_error: 119.0365 - val_loss: 128.5286 - val_mean_squared_error: 128.5286\n",
            "Epoch 59/100\n",
            "1366/1366 [==============================] - 3s 2ms/step - loss: 118.7902 - mean_squared_error: 118.7902 - val_loss: 128.3260 - val_mean_squared_error: 128.3260\n",
            "Epoch 60/100\n",
            "1366/1366 [==============================] - 3s 2ms/step - loss: 118.6699 - mean_squared_error: 118.6699 - val_loss: 128.2619 - val_mean_squared_error: 128.2619\n",
            "Epoch 61/100\n",
            "1366/1366 [==============================] - 3s 2ms/step - loss: 118.8735 - mean_squared_error: 118.8735 - val_loss: 128.1243 - val_mean_squared_error: 128.1243\n",
            "Epoch 62/100\n",
            "1366/1366 [==============================] - 3s 2ms/step - loss: 118.8421 - mean_squared_error: 118.8421 - val_loss: 128.4852 - val_mean_squared_error: 128.4852\n",
            "Epoch 63/100\n",
            "1366/1366 [==============================] - 3s 2ms/step - loss: 118.8059 - mean_squared_error: 118.8059 - val_loss: 128.4041 - val_mean_squared_error: 128.4041\n",
            "Epoch 64/100\n",
            "1366/1366 [==============================] - 3s 2ms/step - loss: 118.7387 - mean_squared_error: 118.7387 - val_loss: 128.1139 - val_mean_squared_error: 128.1139\n",
            "Epoch 65/100\n",
            "1366/1366 [==============================] - 3s 2ms/step - loss: 118.6565 - mean_squared_error: 118.6565 - val_loss: 128.4724 - val_mean_squared_error: 128.4724\n",
            "Epoch 66/100\n",
            "1366/1366 [==============================] - 3s 2ms/step - loss: 118.7007 - mean_squared_error: 118.7007 - val_loss: 128.1834 - val_mean_squared_error: 128.1834\n",
            "Epoch 67/100\n",
            "1366/1366 [==============================] - 3s 2ms/step - loss: 118.8313 - mean_squared_error: 118.8313 - val_loss: 128.3234 - val_mean_squared_error: 128.3234\n",
            "Epoch 68/100\n",
            "1366/1366 [==============================] - 3s 2ms/step - loss: 118.6838 - mean_squared_error: 118.6838 - val_loss: 128.5899 - val_mean_squared_error: 128.5899\n",
            "Epoch 69/100\n",
            "1366/1366 [==============================] - 3s 2ms/step - loss: 118.5451 - mean_squared_error: 118.5451 - val_loss: 128.3123 - val_mean_squared_error: 128.3123\n",
            "Epoch 70/100\n",
            "1366/1366 [==============================] - 3s 2ms/step - loss: 118.7204 - mean_squared_error: 118.7204 - val_loss: 128.6690 - val_mean_squared_error: 128.6690\n",
            "Epoch 71/100\n",
            "1366/1366 [==============================] - 3s 2ms/step - loss: 118.9252 - mean_squared_error: 118.9252 - val_loss: 128.7012 - val_mean_squared_error: 128.7012\n",
            "Epoch 72/100\n",
            "1366/1366 [==============================] - 3s 2ms/step - loss: 118.8674 - mean_squared_error: 118.8674 - val_loss: 128.9501 - val_mean_squared_error: 128.9501\n",
            "Epoch 73/100\n",
            "1366/1366 [==============================] - 3s 2ms/step - loss: 118.6917 - mean_squared_error: 118.6917 - val_loss: 129.0807 - val_mean_squared_error: 129.0807\n",
            "Epoch 74/100\n",
            "1366/1366 [==============================] - 3s 2ms/step - loss: 118.6319 - mean_squared_error: 118.6319 - val_loss: 129.5330 - val_mean_squared_error: 129.5330\n",
            "Epoch 75/100\n",
            "1366/1366 [==============================] - 3s 2ms/step - loss: 118.8530 - mean_squared_error: 118.8530 - val_loss: 128.6008 - val_mean_squared_error: 128.6008\n",
            "Epoch 76/100\n",
            "1366/1366 [==============================] - 3s 2ms/step - loss: 118.5979 - mean_squared_error: 118.5979 - val_loss: 128.5106 - val_mean_squared_error: 128.5106\n",
            "Epoch 77/100\n",
            "1366/1366 [==============================] - 3s 2ms/step - loss: 118.8665 - mean_squared_error: 118.8665 - val_loss: 128.6492 - val_mean_squared_error: 128.6492\n",
            "Epoch 78/100\n",
            "1366/1366 [==============================] - 3s 2ms/step - loss: 118.5965 - mean_squared_error: 118.5965 - val_loss: 128.6376 - val_mean_squared_error: 128.6376\n",
            "Epoch 79/100\n",
            "1366/1366 [==============================] - 3s 2ms/step - loss: 118.6611 - mean_squared_error: 118.6611 - val_loss: 128.2742 - val_mean_squared_error: 128.2742\n",
            "Epoch 80/100\n",
            "1366/1366 [==============================] - 3s 2ms/step - loss: 118.7299 - mean_squared_error: 118.7299 - val_loss: 128.3520 - val_mean_squared_error: 128.3520\n",
            "Epoch 81/100\n",
            "1366/1366 [==============================] - 3s 2ms/step - loss: 118.8202 - mean_squared_error: 118.8202 - val_loss: 128.5500 - val_mean_squared_error: 128.5500\n",
            "Epoch 82/100\n",
            "1366/1366 [==============================] - 3s 2ms/step - loss: 118.6195 - mean_squared_error: 118.6195 - val_loss: 128.7036 - val_mean_squared_error: 128.7036\n",
            "Epoch 83/100\n",
            "1366/1366 [==============================] - 3s 2ms/step - loss: 118.6740 - mean_squared_error: 118.6740 - val_loss: 128.6516 - val_mean_squared_error: 128.6516\n",
            "Epoch 84/100\n",
            "1366/1366 [==============================] - 3s 2ms/step - loss: 118.7147 - mean_squared_error: 118.7147 - val_loss: 128.6804 - val_mean_squared_error: 128.6804\n",
            "Epoch 85/100\n",
            "1366/1366 [==============================] - 3s 2ms/step - loss: 118.6760 - mean_squared_error: 118.6760 - val_loss: 128.5893 - val_mean_squared_error: 128.5893\n",
            "Epoch 86/100\n",
            "1366/1366 [==============================] - 3s 2ms/step - loss: 118.7799 - mean_squared_error: 118.7799 - val_loss: 128.4131 - val_mean_squared_error: 128.4131\n",
            "Epoch 87/100\n",
            "1366/1366 [==============================] - 3s 2ms/step - loss: 118.6667 - mean_squared_error: 118.6667 - val_loss: 128.9146 - val_mean_squared_error: 128.9146\n",
            "Epoch 88/100\n",
            "1366/1366 [==============================] - 3s 2ms/step - loss: 118.5700 - mean_squared_error: 118.5700 - val_loss: 128.4322 - val_mean_squared_error: 128.4322\n",
            "Epoch 89/100\n",
            "1366/1366 [==============================] - 3s 2ms/step - loss: 118.6795 - mean_squared_error: 118.6795 - val_loss: 128.5081 - val_mean_squared_error: 128.5081\n",
            "Epoch 90/100\n",
            "1366/1366 [==============================] - 3s 2ms/step - loss: 118.6834 - mean_squared_error: 118.6834 - val_loss: 128.5657 - val_mean_squared_error: 128.5657\n",
            "Epoch 91/100\n",
            "1366/1366 [==============================] - 3s 2ms/step - loss: 118.6883 - mean_squared_error: 118.6883 - val_loss: 128.3810 - val_mean_squared_error: 128.3810\n",
            "Epoch 92/100\n",
            "1366/1366 [==============================] - 3s 2ms/step - loss: 118.7793 - mean_squared_error: 118.7793 - val_loss: 128.4168 - val_mean_squared_error: 128.4168\n",
            "Epoch 93/100\n",
            "1366/1366 [==============================] - 3s 2ms/step - loss: 119.2684 - mean_squared_error: 119.2684 - val_loss: 129.4951 - val_mean_squared_error: 129.4951\n",
            "Epoch 94/100\n",
            "1366/1366 [==============================] - 3s 2ms/step - loss: 118.8464 - mean_squared_error: 118.8464 - val_loss: 129.0685 - val_mean_squared_error: 129.0685\n",
            "Epoch 95/100\n",
            "1366/1366 [==============================] - 3s 2ms/step - loss: 118.6406 - mean_squared_error: 118.6406 - val_loss: 128.9396 - val_mean_squared_error: 128.9396\n",
            "Epoch 96/100\n",
            "1366/1366 [==============================] - 3s 2ms/step - loss: 118.6626 - mean_squared_error: 118.6626 - val_loss: 128.9747 - val_mean_squared_error: 128.9747\n",
            "Epoch 97/100\n",
            "1366/1366 [==============================] - 3s 2ms/step - loss: 118.8505 - mean_squared_error: 118.8505 - val_loss: 129.2820 - val_mean_squared_error: 129.2820\n",
            "Epoch 98/100\n",
            "1366/1366 [==============================] - 3s 2ms/step - loss: 118.6471 - mean_squared_error: 118.6471 - val_loss: 129.0557 - val_mean_squared_error: 129.0557\n",
            "Epoch 99/100\n",
            "1366/1366 [==============================] - 3s 2ms/step - loss: 118.6145 - mean_squared_error: 118.6145 - val_loss: 128.8631 - val_mean_squared_error: 128.8631\n",
            "Epoch 100/100\n",
            "1366/1366 [==============================] - 3s 2ms/step - loss: 118.5740 - mean_squared_error: 118.5740 - val_loss: 129.7444 - val_mean_squared_error: 129.7444\n"
          ],
          "name": "stdout"
        }
      ]
    },
    {
      "cell_type": "code",
      "metadata": {
        "colab": {
          "base_uri": "https://localhost:8080/"
        },
        "id": "Sv6lbQ8bNVIn",
        "outputId": "a48476e7-4adc-468f-d46a-ae60d4e30f81"
      },
      "source": [
        "from sklearn.metrics import mean_squared_error\n",
        "from math import sqrt\n",
        "\n",
        "pred_train = model.predict(X_train)\n",
        "print(np.sqrt(mean_squared_error(y_train,pred_train)))\n",
        "\n",
        "pred = model.predict(X_test)\n",
        "print(np.sqrt(mean_squared_error(y_test,pred)))"
      ],
      "execution_count": 32,
      "outputs": [
        {
          "output_type": "stream",
          "text": [
            "11.002986323340373\n",
            "11.206529799870461\n"
          ],
          "name": "stdout"
        }
      ]
    },
    {
      "cell_type": "code",
      "metadata": {
        "colab": {
          "base_uri": "https://localhost:8080/"
        },
        "id": "63Mo4zNPOgeT",
        "outputId": "8df8a5f1-407c-4957-c0b9-2c05da277421"
      },
      "source": [
        "pred_train"
      ],
      "execution_count": 33,
      "outputs": [
        {
          "output_type": "execute_result",
          "data": {
            "text/plain": [
              "array([[14.998022],\n",
              "       [12.349526],\n",
              "       [15.71028 ],\n",
              "       ...,\n",
              "       [14.998022],\n",
              "       [15.729901],\n",
              "       [15.726516]], dtype=float32)"
            ]
          },
          "metadata": {
            "tags": []
          },
          "execution_count": 33
        }
      ]
    },
    {
      "cell_type": "code",
      "metadata": {
        "id": "TFHxAYJ1Ok7J",
        "colab": {
          "base_uri": "https://localhost:8080/"
        },
        "outputId": "b563c32e-8270-4737-a030-f94cbd50f2fe"
      },
      "source": [
        "pred = model.predict([[2,3,4,2,2]])\n",
        "pred"
      ],
      "execution_count": 34,
      "outputs": [
        {
          "output_type": "execute_result",
          "data": {
            "text/plain": [
              "array([[15.729845]], dtype=float32)"
            ]
          },
          "metadata": {
            "tags": []
          },
          "execution_count": 34
        }
      ]
    },
    {
      "cell_type": "code",
      "metadata": {
        "id": "DotNPs2KMXLC"
      },
      "source": [
        "model.save('myModel.h5')"
      ],
      "execution_count": 35,
      "outputs": []
    },
    {
      "cell_type": "code",
      "metadata": {
        "id": "PaY-Nqfw7cBw"
      },
      "source": [
        "load_model = tf.keras.models.load_model(\"/content/myModel.h5\")\n"
      ],
      "execution_count": 38,
      "outputs": []
    },
    {
      "cell_type": "code",
      "metadata": {
        "colab": {
          "base_uri": "https://localhost:8080/"
        },
        "id": "gUh22vVf7nkZ",
        "outputId": "fb79017d-d117-4034-bf45-6e242c045ca8"
      },
      "source": [
        "pred_result = load_model.predict([[2,3,4,2,2]])\n",
        "pred_result"
      ],
      "execution_count": 39,
      "outputs": [
        {
          "output_type": "execute_result",
          "data": {
            "text/plain": [
              "array([[15.729845]], dtype=float32)"
            ]
          },
          "metadata": {
            "tags": []
          },
          "execution_count": 39
        }
      ]
    },
    {
      "cell_type": "code",
      "metadata": {
        "id": "2F92a_2q71CX"
      },
      "source": [
        ""
      ],
      "execution_count": null,
      "outputs": []
    }
  ]
}