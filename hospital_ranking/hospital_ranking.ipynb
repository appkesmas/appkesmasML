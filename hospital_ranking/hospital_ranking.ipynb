{
 "cells": [
  {
   "cell_type": "code",
   "execution_count": 1,
   "metadata": {
    "collapsed": true
   },
   "outputs": [],
   "source": [
    "import pandas as pd\n",
    "import json\n",
    "import requests"
   ]
  },
  {
   "cell_type": "code",
   "execution_count": 2,
   "outputs": [],
   "source": [
    "RS_type = {\n",
    "    \"0\": \"RSU\",\n",
    "    \"1\": \"RSIA\",\n",
    "    \"2\": \"RSK GM\",\n",
    "    \"3\": \"RSK BEDAH\",\n",
    "    \"4\": \"RSK Mata\",\n",
    "    \"5\": \"RSK Jiwa\",\n",
    "    \"6\": \"RSK JANTUNG\",\n",
    "    \"7\": \"RSK KANKER\",\n",
    "    \"8\": \"RSK THT-KL\",\n",
    "    \"9\": \"RSK OTAK\",\n",
    "    \"10\": \"RSK INFEKSI\",\n",
    "    \"11\": \"RSKO\"\n",
    "}"
   ],
   "metadata": {
    "collapsed": false,
    "pycharm": {
     "name": "#%%\n"
    }
   }
  },
  {
   "cell_type": "code",
   "execution_count": 3,
   "outputs": [],
   "source": [
    "response = requests.get('http://eis.dinkes.jakarta.go.id/eis/home/ajax_list_data_bed', headers={'accept': 'application/json'})"
   ],
   "metadata": {
    "collapsed": false,
    "pycharm": {
     "name": "#%%\n"
    }
   }
  },
  {
   "cell_type": "code",
   "execution_count": 4,
   "outputs": [],
   "source": [
    "j = json.loads(response.text[response.text.index(\"{\"):response.text.index(\"}\")+1])"
   ],
   "metadata": {
    "collapsed": false,
    "pycharm": {
     "name": "#%%\n"
    }
   }
  },
  {
   "cell_type": "code",
   "execution_count": 5,
   "outputs": [],
   "source": [
    "bor_header = ['No', 'Wilayah', 'Nama RS', 'Ketersediaan ICU Tekanan Negatif Dengan Ventilator',\n",
    "                  'Ketersediaan ICU Tekanan Negatif Tanpa Ventilator', 'Ketersediaan ICU Tanpa Tekanan Negatif dengan Ventilator',\n",
    "                  'Ketersediaan ICU Tanpa Tekanan Negatif tanpa Ventilator', 'Ketersediaan Isolasi Tekanan Negatif',\n",
    "                  'Ketersediaan Isolasi Tanpa Tekanan Negatif', 'Ketersediaan NICU khusus COVID-19', 'Ketersediaan Perina khusus COVID-19',\n",
    "                  'Ketersediaan PICU khusus COVID-19', 'Ketersediaan OK khusus COVID-19', 'Ketersediaan HD khusus COVID-19',\n",
    "                  'Update Terakhir', 'Hotline SPGDT']\n",
    "\n",
    "curl_df = pd.DataFrame.from_dict(j['data'])\n",
    "curl_df.columns = bor_header"
   ],
   "metadata": {
    "collapsed": false,
    "pycharm": {
     "name": "#%%\n"
    }
   }
  },
  {
   "cell_type": "code",
   "execution_count": 6,
   "outputs": [],
   "source": [
    "def get_availabilility_columns(df):\n",
    "    return [col for col in df.columns if 'Ketersediaan' in col]"
   ],
   "metadata": {
    "collapsed": false,
    "pycharm": {
     "name": "#%%\n"
    }
   }
  },
  {
   "cell_type": "code",
   "execution_count": 7,
   "outputs": [],
   "source": [
    "curl_df[get_availabilility_columns(curl_df)] = curl_df[get_availabilility_columns(curl_df)].apply(pd.to_numeric)"
   ],
   "metadata": {
    "collapsed": false,
    "pycharm": {
     "name": "#%%\n"
    }
   }
  },
  {
   "cell_type": "code",
   "execution_count": 8,
   "outputs": [],
   "source": [
    "rs_clean_df = pd.read_csv('rs_dki_cleaned.csv', dtype={\"Latitude\": str, \"Longitude\": str})"
   ],
   "metadata": {
    "collapsed": false,
    "pycharm": {
     "name": "#%%\n"
    }
   }
  },
  {
   "cell_type": "code",
   "execution_count": 9,
   "outputs": [],
   "source": [
    "curl_df['Nama RS'] = curl_df['Nama RS'].apply(lambda x: 'RS Darurat Covid Wisma Atlet' if 'RSDC' in x else x)\n",
    "curl_df['Nama RS'] = curl_df['Nama RS'].apply(lambda x: 'RS Ibu dan Anak Avisena' if 'Avisena' in x else x)\n",
    "\n",
    "combined_df = pd.merge(curl_df,rs_clean_df,on='Nama RS')"
   ],
   "metadata": {
    "collapsed": false,
    "pycharm": {
     "name": "#%%\n"
    }
   }
  },
  {
   "cell_type": "code",
   "execution_count": 10,
   "outputs": [],
   "source": [
    "combined_df = combined_df.set_index('Kode RS')"
   ],
   "metadata": {
    "collapsed": false,
    "pycharm": {
     "name": "#%%\n"
    }
   }
  },
  {
   "cell_type": "code",
   "execution_count": 11,
   "outputs": [],
   "source": [
    "from geopy.distance import geodesic\n",
    "\n",
    "def calc_distance(row, site_coords):\n",
    "    station_coords = (row['Latitude'], row['Longitude'])\n",
    "    dist = geodesic(site_coords, station_coords).km\n",
    "    return(dist)"
   ],
   "metadata": {
    "collapsed": false,
    "pycharm": {
     "name": "#%%\n"
    }
   }
  },
  {
   "cell_type": "code",
   "execution_count": 12,
   "outputs": [
    {
     "data": {
      "text/plain": "RSU    141\nName: Jenis RS, dtype: int64"
     },
     "execution_count": 12,
     "metadata": {},
     "output_type": "execute_result"
    }
   ],
   "source": [
    "# Change \"0\" with desired variable\n",
    "combined_df = combined_df[combined_df[\"Jenis RS\"] == RS_type[\"0\"]]\n",
    "combined_df[\"Jenis RS\"].value_counts()"
   ],
   "metadata": {
    "collapsed": false,
    "pycharm": {
     "name": "#%%\n"
    }
   }
  },
  {
   "cell_type": "code",
   "execution_count": 13,
   "outputs": [],
   "source": [
    "# Change latitude & latitude with desired variables\n",
    "tes_lat = -6.317546231739774\n",
    "tes_lon = 106.94013742650952\n",
    "combined_df['Jarak'] = combined_df.apply(calc_distance, site_coords=(tes_lat, tes_lon), axis=1)\n",
    "combined_df['Jarak_Weighted'] = combined_df['Jarak'].copy()"
   ],
   "metadata": {
    "collapsed": false,
    "pycharm": {
     "name": "#%%\n"
    }
   }
  },
  {
   "cell_type": "code",
   "execution_count": 14,
   "outputs": [],
   "source": [
    "availability_cols = get_availabilility_columns(combined_df)\n",
    "combined_df['Total Ketersediaan'] = combined_df[availability_cols].sum(axis=1)\n",
    "combined_df['Ketersediaan_Weighted'] = combined_df['Total Ketersediaan'].copy()"
   ],
   "metadata": {
    "collapsed": false,
    "pycharm": {
     "name": "#%%\n"
    }
   }
  },
  {
   "cell_type": "code",
   "execution_count": 15,
   "outputs": [],
   "source": [
    "# Encode 'Kelas RS'\n",
    "combined_df.loc[combined_df.query(\"Kelas == 'A'\").index, 'Kelas_Weighted'] = 5\n",
    "combined_df.loc[combined_df.query(\"Kelas == 'B'\").index, 'Kelas_Weighted'] = 4\n",
    "combined_df.loc[combined_df.query(\"Kelas == 'C'\").index, 'Kelas_Weighted'] = 3\n",
    "combined_df.loc[combined_df.query(\"Kelas == 'D'\").index, 'Kelas_Weighted'] = 2\n",
    "combined_df.loc[combined_df.query(\"Kelas == 'Belum Ditetapkan'\").index, 'Kelas_Weighted'] = 1"
   ],
   "metadata": {
    "collapsed": false,
    "pycharm": {
     "name": "#%%\n"
    }
   }
  },
  {
   "cell_type": "code",
   "execution_count": 16,
   "outputs": [],
   "source": [
    "cols = ['Ketersediaan_Weighted','Kelas_Weighted','Jarak_Weighted']\n",
    "for col in cols:\n",
    "  combined_df[col] = (combined_df[col]-combined_df[col].min())/(combined_df[col].max()-combined_df[col].min())"
   ],
   "metadata": {
    "collapsed": false,
    "pycharm": {
     "name": "#%%\n"
    }
   }
  },
  {
   "cell_type": "code",
   "execution_count": 17,
   "outputs": [],
   "source": [
    "combined_df['Jarak_Weighted'] = 1 - combined_df['Jarak_Weighted']\n",
    "combined_df.loc[combined_df.query(\"Ketersediaan_Weighted == 0\").index, 'Ketersediaan_Weighted'] = -1"
   ],
   "metadata": {
    "collapsed": false,
    "pycharm": {
     "name": "#%%\n"
    }
   }
  },
  {
   "cell_type": "code",
   "execution_count": 18,
   "outputs": [],
   "source": [
    "combined_df['Rank'] = (combined_df['Jarak_Weighted']*0.45 + combined_df['Kelas_Weighted']*0.1 + combined_df['Ketersediaan_Weighted']*0.45).rank(ascending=False).astype('int')\n",
    "combined_df = combined_df.sort_values(\"Rank\")"
   ],
   "metadata": {
    "collapsed": false,
    "pycharm": {
     "name": "#%%\n"
    }
   }
  },
  {
   "cell_type": "code",
   "execution_count": 19,
   "outputs": [],
   "source": [
    "final_features = ['Nama RS', 'Wilayah',\n",
    "       'Total Ketersediaan', 'Ketersediaan ICU Tekanan Negatif Dengan Ventilator',\n",
    "       'Ketersediaan ICU Tekanan Negatif Tanpa Ventilator',\n",
    "       'Ketersediaan ICU Tanpa Tekanan Negatif dengan Ventilator',\n",
    "       'Ketersediaan ICU Tanpa Tekanan Negatif tanpa Ventilator',\n",
    "       'Ketersediaan Isolasi Tekanan Negatif',\n",
    "       'Ketersediaan Isolasi Tanpa Tekanan Negatif',\n",
    "       'Ketersediaan NICU khusus COVID-19',\n",
    "       'Ketersediaan Perina khusus COVID-19',\n",
    "       'Ketersediaan PICU khusus COVID-19', 'Ketersediaan OK khusus COVID-19',\n",
    "       'Ketersediaan HD khusus COVID-19', 'Hotline SPGDT',\n",
    "       'Jenis RS', 'Kelas',\n",
    "       'Jarak', 'Rank']\n",
    "# Change 10 with desired variable\n",
    "final_data = combined_df[final_features][:10]"
   ],
   "metadata": {
    "collapsed": false,
    "pycharm": {
     "name": "#%%\n"
    }
   }
  },
  {
   "cell_type": "code",
   "execution_count": 20,
   "outputs": [
    {
     "data": {
      "text/plain": "{'3171900S': {'Nama RS': 'RS Darurat Covid Wisma Atlet',\n  'Wilayah': 'Jakarta Pusat',\n  'Total Ketersediaan': 1859,\n  'Ketersediaan ICU Tekanan Negatif Dengan Ventilator': 0,\n  'Ketersediaan ICU Tekanan Negatif Tanpa Ventilator': 0,\n  'Ketersediaan ICU Tanpa Tekanan Negatif dengan Ventilator': 0,\n  'Ketersediaan ICU Tanpa Tekanan Negatif tanpa Ventilator': 1859,\n  'Ketersediaan Isolasi Tekanan Negatif': 0,\n  'Ketersediaan Isolasi Tanpa Tekanan Negatif': 0,\n  'Ketersediaan NICU khusus COVID-19': 0,\n  'Ketersediaan Perina khusus COVID-19': 0,\n  'Ketersediaan PICU khusus COVID-19': 0,\n  'Ketersediaan OK khusus COVID-19': 0,\n  'Ketersediaan HD khusus COVID-19': 0,\n  'Hotline SPGDT': '119 ext 9',\n  'Jenis RS': 'RSU',\n  'Kelas': 'A',\n  'Jarak': 20.4036209327,\n  'Rank': 1},\n '3172724': {'Nama RS': 'RS Umum Haji Jakarta',\n  'Wilayah': 'Jakarta Timur',\n  'Total Ketersediaan': 27,\n  'Ketersediaan ICU Tekanan Negatif Dengan Ventilator': 0,\n  'Ketersediaan ICU Tekanan Negatif Tanpa Ventilator': 4,\n  'Ketersediaan ICU Tanpa Tekanan Negatif dengan Ventilator': 2,\n  'Ketersediaan ICU Tanpa Tekanan Negatif tanpa Ventilator': 0,\n  'Ketersediaan Isolasi Tekanan Negatif': 0,\n  'Ketersediaan Isolasi Tanpa Tekanan Negatif': 21,\n  'Ketersediaan NICU khusus COVID-19': 0,\n  'Ketersediaan Perina khusus COVID-19': 0,\n  'Ketersediaan PICU khusus COVID-19': 0,\n  'Ketersediaan OK khusus COVID-19': 0,\n  'Ketersediaan HD khusus COVID-19': 0,\n  'Hotline SPGDT': '02180876060',\n  'Jenis RS': 'RSU',\n  'Kelas': 'B',\n  'Jarak': 6.3837433623,\n  'Rank': 2},\n '3172072': {'Nama RS': 'RS Umum Bhayangkara Tk. I R.Said Sukanto',\n  'Wilayah': 'Jakarta Timur',\n  'Total Ketersediaan': 0,\n  'Ketersediaan ICU Tekanan Negatif Dengan Ventilator': 0,\n  'Ketersediaan ICU Tekanan Negatif Tanpa Ventilator': 0,\n  'Ketersediaan ICU Tanpa Tekanan Negatif dengan Ventilator': 0,\n  'Ketersediaan ICU Tanpa Tekanan Negatif tanpa Ventilator': 0,\n  'Ketersediaan Isolasi Tekanan Negatif': 0,\n  'Ketersediaan Isolasi Tanpa Tekanan Negatif': 0,\n  'Ketersediaan NICU khusus COVID-19': 0,\n  'Ketersediaan Perina khusus COVID-19': 0,\n  'Ketersediaan PICU khusus COVID-19': 0,\n  'Ketersediaan OK khusus COVID-19': 0,\n  'Ketersediaan HD khusus COVID-19': 0,\n  'Hotline SPGDT': '085717286976',\n  'Jenis RS': 'RSU',\n  'Kelas': 'A',\n  'Jarak': 9.3394948434,\n  'Rank': 3},\n '3173084': {'Nama RS': 'RS Tk. II M. Ridwan Meuraksa',\n  'Wilayah': 'Jakarta Timur',\n  'Total Ketersediaan': 3,\n  'Ketersediaan ICU Tekanan Negatif Dengan Ventilator': 0,\n  'Ketersediaan ICU Tekanan Negatif Tanpa Ventilator': 0,\n  'Ketersediaan ICU Tanpa Tekanan Negatif dengan Ventilator': 0,\n  'Ketersediaan ICU Tanpa Tekanan Negatif tanpa Ventilator': 0,\n  'Ketersediaan Isolasi Tekanan Negatif': 0,\n  'Ketersediaan Isolasi Tanpa Tekanan Negatif': 3,\n  'Ketersediaan NICU khusus COVID-19': 0,\n  'Ketersediaan Perina khusus COVID-19': 0,\n  'Ketersediaan PICU khusus COVID-19': 0,\n  'Ketersediaan OK khusus COVID-19': 0,\n  'Ketersediaan HD khusus COVID-19': 0,\n  'Hotline SPGDT': '02122819569',\n  'Jenis RS': 'RSU',\n  'Kelas': 'B',\n  'Jarak': 6.8523423574,\n  'Rank': 4},\n '3172061': {'Nama RS': 'RS AU dr. Esnawan Antariksa',\n  'Wilayah': 'Jakarta Timur',\n  'Total Ketersediaan': 34,\n  'Ketersediaan ICU Tekanan Negatif Dengan Ventilator': 8,\n  'Ketersediaan ICU Tekanan Negatif Tanpa Ventilator': 0,\n  'Ketersediaan ICU Tanpa Tekanan Negatif dengan Ventilator': 0,\n  'Ketersediaan ICU Tanpa Tekanan Negatif tanpa Ventilator': 0,\n  'Ketersediaan Isolasi Tekanan Negatif': 14,\n  'Ketersediaan Isolasi Tanpa Tekanan Negatif': 12,\n  'Ketersediaan NICU khusus COVID-19': 0,\n  'Ketersediaan Perina khusus COVID-19': 0,\n  'Ketersediaan PICU khusus COVID-19': 0,\n  'Ketersediaan OK khusus COVID-19': 0,\n  'Ketersediaan HD khusus COVID-19': 0,\n  'Hotline SPGDT': '081283629265',\n  'Jenis RS': 'RSU',\n  'Kelas': 'B',\n  'Jarak': 8.5764338744,\n  'Rank': 5},\n '3172757': {'Nama RS': 'RS Umum Adhyaksa',\n  'Wilayah': 'Jakarta Timur',\n  'Total Ketersediaan': 34,\n  'Ketersediaan ICU Tekanan Negatif Dengan Ventilator': 2,\n  'Ketersediaan ICU Tekanan Negatif Tanpa Ventilator': 0,\n  'Ketersediaan ICU Tanpa Tekanan Negatif dengan Ventilator': 0,\n  'Ketersediaan ICU Tanpa Tekanan Negatif tanpa Ventilator': 0,\n  'Ketersediaan Isolasi Tekanan Negatif': 14,\n  'Ketersediaan Isolasi Tanpa Tekanan Negatif': 18,\n  'Ketersediaan NICU khusus COVID-19': 0,\n  'Ketersediaan Perina khusus COVID-19': 0,\n  'Ketersediaan PICU khusus COVID-19': 0,\n  'Ketersediaan OK khusus COVID-19': 0,\n  'Ketersediaan HD khusus COVID-19': 0,\n  'Hotline SPGDT': '08111261124',\n  'Jenis RS': 'RSU',\n  'Kelas': 'C',\n  'Jarak': 5.3100504408,\n  'Rank': 6},\n '3172553': {'Nama RS': 'RS Umum Harapan Bunda',\n  'Wilayah': 'Jakarta Timur',\n  'Total Ketersediaan': 0,\n  'Ketersediaan ICU Tekanan Negatif Dengan Ventilator': 0,\n  'Ketersediaan ICU Tekanan Negatif Tanpa Ventilator': 0,\n  'Ketersediaan ICU Tanpa Tekanan Negatif dengan Ventilator': 0,\n  'Ketersediaan ICU Tanpa Tekanan Negatif tanpa Ventilator': 0,\n  'Ketersediaan Isolasi Tekanan Negatif': 0,\n  'Ketersediaan Isolasi Tanpa Tekanan Negatif': 0,\n  'Ketersediaan NICU khusus COVID-19': 0,\n  'Ketersediaan Perina khusus COVID-19': 0,\n  'Ketersediaan PICU khusus COVID-19': 0,\n  'Ketersediaan OK khusus COVID-19': 0,\n  'Ketersediaan HD khusus COVID-19': 0,\n  'Hotline SPGDT': '087820850831',\n  'Jenis RS': 'RSU',\n  'Kelas': 'B',\n  'Jarak': 8.1276645831,\n  'Rank': 7},\n '3172126': {'Nama RS': 'RS Umum Daerah Pasar Rebo',\n  'Wilayah': 'Jakarta Timur',\n  'Total Ketersediaan': 9,\n  'Ketersediaan ICU Tekanan Negatif Dengan Ventilator': 0,\n  'Ketersediaan ICU Tekanan Negatif Tanpa Ventilator': 0,\n  'Ketersediaan ICU Tanpa Tekanan Negatif dengan Ventilator': 0,\n  'Ketersediaan ICU Tanpa Tekanan Negatif tanpa Ventilator': 0,\n  'Ketersediaan Isolasi Tekanan Negatif': 9,\n  'Ketersediaan Isolasi Tanpa Tekanan Negatif': 0,\n  'Ketersediaan NICU khusus COVID-19': 0,\n  'Ketersediaan Perina khusus COVID-19': 0,\n  'Ketersediaan PICU khusus COVID-19': 0,\n  'Ketersediaan OK khusus COVID-19': 0,\n  'Ketersediaan HD khusus COVID-19': 0,\n  'Hotline SPGDT': '081290847772',\n  'Jenis RS': 'RSU',\n  'Kelas': 'B',\n  'Jarak': 8.7438729968,\n  'Rank': 8},\n '3172013': {'Nama RS': 'RSUP Persahabatan',\n  'Wilayah': 'Jakarta Timur',\n  'Total Ketersediaan': 43,\n  'Ketersediaan ICU Tekanan Negatif Dengan Ventilator': 1,\n  'Ketersediaan ICU Tekanan Negatif Tanpa Ventilator': 0,\n  'Ketersediaan ICU Tanpa Tekanan Negatif dengan Ventilator': 0,\n  'Ketersediaan ICU Tanpa Tekanan Negatif tanpa Ventilator': 0,\n  'Ketersediaan Isolasi Tekanan Negatif': 37,\n  'Ketersediaan Isolasi Tanpa Tekanan Negatif': 0,\n  'Ketersediaan NICU khusus COVID-19': 1,\n  'Ketersediaan Perina khusus COVID-19': 4,\n  'Ketersediaan PICU khusus COVID-19': 0,\n  'Ketersediaan OK khusus COVID-19': 0,\n  'Ketersediaan HD khusus COVID-19': 0,\n  'Hotline SPGDT': '089638516606',\n  'Jenis RS': 'RSU',\n  'Kelas': 'A',\n  'Jarak': 14.0935830729,\n  'Rank': 9},\n '3172505': {'Nama RS': 'RS Islam Jakarta Pondok Kopi',\n  'Wilayah': 'Jakarta Timur',\n  'Total Ketersediaan': 53,\n  'Ketersediaan ICU Tekanan Negatif Dengan Ventilator': 0,\n  'Ketersediaan ICU Tekanan Negatif Tanpa Ventilator': 0,\n  'Ketersediaan ICU Tanpa Tekanan Negatif dengan Ventilator': 0,\n  'Ketersediaan ICU Tanpa Tekanan Negatif tanpa Ventilator': 0,\n  'Ketersediaan Isolasi Tekanan Negatif': 0,\n  'Ketersediaan Isolasi Tanpa Tekanan Negatif': 53,\n  'Ketersediaan NICU khusus COVID-19': 0,\n  'Ketersediaan Perina khusus COVID-19': 0,\n  'Ketersediaan PICU khusus COVID-19': 0,\n  'Ketersediaan OK khusus COVID-19': 0,\n  'Ketersediaan HD khusus COVID-19': 0,\n  'Hotline SPGDT': '085793149220',\n  'Jenis RS': 'RSU',\n  'Kelas': 'B',\n  'Jarak': 10.7684154287,\n  'Rank': 10}}"
     },
     "execution_count": 20,
     "metadata": {},
     "output_type": "execute_result"
    }
   ],
   "source": [
    "result = final_data.to_json(orient='index')\n",
    "parsed = json.loads(result)\n",
    "parsed\n"
   ],
   "metadata": {
    "collapsed": false,
    "pycharm": {
     "name": "#%%\n"
    }
   }
  }
 ],
 "metadata": {
  "kernelspec": {
   "display_name": "Python 3",
   "language": "python",
   "name": "python3"
  },
  "language_info": {
   "codemirror_mode": {
    "name": "ipython",
    "version": 2
   },
   "file_extension": ".py",
   "mimetype": "text/x-python",
   "name": "python",
   "nbconvert_exporter": "python",
   "pygments_lexer": "ipython2",
   "version": "2.7.6"
  }
 },
 "nbformat": 4,
 "nbformat_minor": 0
}