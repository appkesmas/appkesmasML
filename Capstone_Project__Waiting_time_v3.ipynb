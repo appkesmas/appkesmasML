{
  "nbformat": 4,
  "nbformat_minor": 0,
  "metadata": {
    "accelerator": "GPU",
    "colab": {
      "name": "Capstone_Project_ Waiting time v2.ipynb",
      "provenance": [],
      "collapsed_sections": [
        "ezSWc7JKxcM6"
      ],
      "toc_visible": true
    },
    "kernelspec": {
      "display_name": "Python 3",
      "language": "python",
      "name": "python3"
    },
    "language_info": {
      "codemirror_mode": {
        "name": "ipython",
        "version": 3
      },
      "file_extension": ".py",
      "mimetype": "text/x-python",
      "name": "python",
      "nbconvert_exporter": "python",
      "pygments_lexer": "ipython3",
      "version": "3.7.1"
    }
  },
  "cells": [
    {
      "cell_type": "code",
      "metadata": {
        "colab": {
          "base_uri": "https://localhost:8080/"
        },
        "id": "g_snBObBwSLv",
        "outputId": "47f65b2f-2bba-4e3e-a8bc-c4fc8a2ffff0"
      },
      "source": [
        "from google.colab import drive\n",
        "drive.mount('/content/gdrive')"
      ],
      "execution_count": null,
      "outputs": [
        {
          "output_type": "stream",
          "text": [
            "Mounted at /content/gdrive\n"
          ],
          "name": "stdout"
        }
      ]
    },
    {
      "cell_type": "markdown",
      "metadata": {
        "id": "2M1tKrg-NJrW"
      },
      "source": [
        "Library yang digunakan \n",
        "- pandas\n",
        "- numpy\n",
        "- matplotlib\n",
        "- tensorflow\n",
        "- sklearn"
      ]
    },
    {
      "cell_type": "code",
      "metadata": {
        "id": "Xa5kbleJCGPA"
      },
      "source": [
        "import pandas as pd\n",
        "import numpy as np\n",
        "import matplotlib.pyplot as plt\n",
        "from tensorflow.keras.layers import Input, Dense, Activation,Dropout\n",
        "from tensorflow.keras.models import Model\n",
        "from tensorflow.keras.models import Sequential\n",
        "import tensorflow as tf\n",
        "from sklearn.model_selection import train_test_split\n",
        "from sklearn.preprocessing import StandardScaler"
      ],
      "execution_count": null,
      "outputs": []
    },
    {
      "cell_type": "markdown",
      "metadata": {
        "id": "qrHvGkk_YpZP"
      },
      "source": [
        "Dataset retrieved from 2017 National Hospital Ambulatory Medical Care Survey Data Files [https://ftp.cdc.gov/pub/Health_Statistics/NCHS/Datasets/NHAMCS/]\n",
        "\n",
        "\n",
        "The total number of data is 16709 data and 949\n",
        "\n"
      ]
    },
    {
      "cell_type": "code",
      "metadata": {
        "colab": {
          "base_uri": "https://localhost:8080/",
          "height": 253
        },
        "id": "PzwMZkam3paq",
        "outputId": "b3790a18-96fa-4e59-beff-da5e904bfa24"
      },
      "source": [
        "full_df = pd.read_csv('/content/gdrive/MyDrive/Capstone/ed2017_data.csv',low_memory=False)\n",
        "full_df = full_df.fillna(value=-1)\n",
        "full_df.head()"
      ],
      "execution_count": null,
      "outputs": [
        {
          "output_type": "execute_result",
          "data": {
            "text/html": [
              "<div>\n",
              "<style scoped>\n",
              "    .dataframe tbody tr th:only-of-type {\n",
              "        vertical-align: middle;\n",
              "    }\n",
              "\n",
              "    .dataframe tbody tr th {\n",
              "        vertical-align: top;\n",
              "    }\n",
              "\n",
              "    .dataframe thead th {\n",
              "        text-align: right;\n",
              "    }\n",
              "</style>\n",
              "<table border=\"1\" class=\"dataframe\">\n",
              "  <thead>\n",
              "    <tr style=\"text-align: right;\">\n",
              "      <th></th>\n",
              "      <th>VMONTH</th>\n",
              "      <th>VDAYR</th>\n",
              "      <th>ARRTIME</th>\n",
              "      <th>WAITTIME</th>\n",
              "      <th>BLANK1</th>\n",
              "      <th>AGE</th>\n",
              "      <th>AGER</th>\n",
              "      <th>AGEDAYS</th>\n",
              "      <th>RESIDNCE</th>\n",
              "      <th>SEX</th>\n",
              "      <th>ETHUN</th>\n",
              "      <th>ETHIM</th>\n",
              "      <th>RACEUN</th>\n",
              "      <th>RACER</th>\n",
              "      <th>RACERETH</th>\n",
              "      <th>ARREMS</th>\n",
              "      <th>AMBTRANSFER</th>\n",
              "      <th>NOPAY</th>\n",
              "      <th>PAYPRIV</th>\n",
              "      <th>PAYMCARE</th>\n",
              "      <th>PAYMCAID</th>\n",
              "      <th>PAYWKCMP</th>\n",
              "      <th>PAYSELF</th>\n",
              "      <th>PAYNOCHG</th>\n",
              "      <th>PAYOTH</th>\n",
              "      <th>PAYDK</th>\n",
              "      <th>PAYTYPER</th>\n",
              "      <th>TEMPF</th>\n",
              "      <th>PULSE</th>\n",
              "      <th>RESPR</th>\n",
              "      <th>BPSYS</th>\n",
              "      <th>BPDIAS</th>\n",
              "      <th>POPCT</th>\n",
              "      <th>IMMEDR</th>\n",
              "      <th>PAINSCALE</th>\n",
              "      <th>SEEN72</th>\n",
              "      <th>RFV1</th>\n",
              "      <th>RFV2</th>\n",
              "      <th>RFV3</th>\n",
              "      <th>RFV4</th>\n",
              "      <th>...</th>\n",
              "      <th>RX29CAT3</th>\n",
              "      <th>RX29CAT4</th>\n",
              "      <th>RX29V1C1</th>\n",
              "      <th>RX29V1C2</th>\n",
              "      <th>RX29V1C3</th>\n",
              "      <th>RX29V1C4</th>\n",
              "      <th>RX29V2C1</th>\n",
              "      <th>RX29V2C2</th>\n",
              "      <th>RX29V2C3</th>\n",
              "      <th>RX29V2C4</th>\n",
              "      <th>RX29V3C1</th>\n",
              "      <th>RX29V3C2</th>\n",
              "      <th>RX29V3C3</th>\n",
              "      <th>RX29V3C4</th>\n",
              "      <th>DRUGID30</th>\n",
              "      <th>PRESCR30</th>\n",
              "      <th>CONTSUB30</th>\n",
              "      <th>COMSTAT30</th>\n",
              "      <th>RX30CAT1</th>\n",
              "      <th>RX30CAT2</th>\n",
              "      <th>RX30CAT3</th>\n",
              "      <th>RX30CAT4</th>\n",
              "      <th>RX30V1C1</th>\n",
              "      <th>RX30V1C2</th>\n",
              "      <th>RX30V1C3</th>\n",
              "      <th>RX30V1C4</th>\n",
              "      <th>RX30V2C1</th>\n",
              "      <th>RX30V2C2</th>\n",
              "      <th>RX30V2C3</th>\n",
              "      <th>RX30V2C4</th>\n",
              "      <th>RX30V3C1</th>\n",
              "      <th>RX30V3C2</th>\n",
              "      <th>RX30V3C3</th>\n",
              "      <th>RX30V3C4</th>\n",
              "      <th>SETTYPE</th>\n",
              "      <th>YEAR</th>\n",
              "      <th>CSTRATM</th>\n",
              "      <th>CPSUM</th>\n",
              "      <th>PATWT</th>\n",
              "      <th>EDWT</th>\n",
              "    </tr>\n",
              "  </thead>\n",
              "  <tbody>\n",
              "    <tr>\n",
              "      <th>0</th>\n",
              "      <td>6</td>\n",
              "      <td>6</td>\n",
              "      <td>2056</td>\n",
              "      <td>72</td>\n",
              "      <td>-1.0</td>\n",
              "      <td>27</td>\n",
              "      <td>3</td>\n",
              "      <td>-7</td>\n",
              "      <td>1</td>\n",
              "      <td>2</td>\n",
              "      <td>2</td>\n",
              "      <td>2</td>\n",
              "      <td>1</td>\n",
              "      <td>1</td>\n",
              "      <td>1</td>\n",
              "      <td>2</td>\n",
              "      <td>-7</td>\n",
              "      <td>0</td>\n",
              "      <td>1</td>\n",
              "      <td>0</td>\n",
              "      <td>0</td>\n",
              "      <td>0</td>\n",
              "      <td>0</td>\n",
              "      <td>0</td>\n",
              "      <td>0</td>\n",
              "      <td>0</td>\n",
              "      <td>1</td>\n",
              "      <td>982</td>\n",
              "      <td>72</td>\n",
              "      <td>16</td>\n",
              "      <td>124</td>\n",
              "      <td>74</td>\n",
              "      <td>100</td>\n",
              "      <td>4</td>\n",
              "      <td>5</td>\n",
              "      <td>2</td>\n",
              "      <td>52200</td>\n",
              "      <td>-9</td>\n",
              "      <td>-9</td>\n",
              "      <td>-9</td>\n",
              "      <td>...</td>\n",
              "      <td>-1.0</td>\n",
              "      <td>-1.0</td>\n",
              "      <td>-1.0</td>\n",
              "      <td>-1.0</td>\n",
              "      <td>-1.0</td>\n",
              "      <td>-1.0</td>\n",
              "      <td>-1.0</td>\n",
              "      <td>-1.0</td>\n",
              "      <td>-1.0</td>\n",
              "      <td>-1.0</td>\n",
              "      <td>-1.0</td>\n",
              "      <td>-1.0</td>\n",
              "      <td>-1.0</td>\n",
              "      <td>-1.0</td>\n",
              "      <td>-1</td>\n",
              "      <td>-1.0</td>\n",
              "      <td>-1.0</td>\n",
              "      <td>-1.0</td>\n",
              "      <td>-1.0</td>\n",
              "      <td>-1.0</td>\n",
              "      <td>-1.0</td>\n",
              "      <td>-1.0</td>\n",
              "      <td>-1.0</td>\n",
              "      <td>-1.0</td>\n",
              "      <td>-1.0</td>\n",
              "      <td>-1.0</td>\n",
              "      <td>-1.0</td>\n",
              "      <td>-1.0</td>\n",
              "      <td>-1.0</td>\n",
              "      <td>-1.0</td>\n",
              "      <td>-1.0</td>\n",
              "      <td>-1.0</td>\n",
              "      <td>-1.0</td>\n",
              "      <td>-1.0</td>\n",
              "      <td>3</td>\n",
              "      <td>2017</td>\n",
              "      <td>40100000</td>\n",
              "      <td>4</td>\n",
              "      <td>3723.12641</td>\n",
              "      <td>21.58043</td>\n",
              "    </tr>\n",
              "    <tr>\n",
              "      <th>1</th>\n",
              "      <td>6</td>\n",
              "      <td>2</td>\n",
              "      <td>1417</td>\n",
              "      <td>64</td>\n",
              "      <td>-1.0</td>\n",
              "      <td>1</td>\n",
              "      <td>1</td>\n",
              "      <td>-7</td>\n",
              "      <td>1</td>\n",
              "      <td>1</td>\n",
              "      <td>1</td>\n",
              "      <td>1</td>\n",
              "      <td>-9</td>\n",
              "      <td>1</td>\n",
              "      <td>3</td>\n",
              "      <td>2</td>\n",
              "      <td>-7</td>\n",
              "      <td>0</td>\n",
              "      <td>0</td>\n",
              "      <td>0</td>\n",
              "      <td>1</td>\n",
              "      <td>0</td>\n",
              "      <td>0</td>\n",
              "      <td>0</td>\n",
              "      <td>0</td>\n",
              "      <td>0</td>\n",
              "      <td>3</td>\n",
              "      <td>1014</td>\n",
              "      <td>151</td>\n",
              "      <td>24</td>\n",
              "      <td>-9</td>\n",
              "      <td>-9</td>\n",
              "      <td>98</td>\n",
              "      <td>4</td>\n",
              "      <td>-8</td>\n",
              "      <td>2</td>\n",
              "      <td>14400</td>\n",
              "      <td>10100</td>\n",
              "      <td>-9</td>\n",
              "      <td>-9</td>\n",
              "      <td>...</td>\n",
              "      <td>-1.0</td>\n",
              "      <td>-1.0</td>\n",
              "      <td>-1.0</td>\n",
              "      <td>-1.0</td>\n",
              "      <td>-1.0</td>\n",
              "      <td>-1.0</td>\n",
              "      <td>-1.0</td>\n",
              "      <td>-1.0</td>\n",
              "      <td>-1.0</td>\n",
              "      <td>-1.0</td>\n",
              "      <td>-1.0</td>\n",
              "      <td>-1.0</td>\n",
              "      <td>-1.0</td>\n",
              "      <td>-1.0</td>\n",
              "      <td>-1</td>\n",
              "      <td>-1.0</td>\n",
              "      <td>-1.0</td>\n",
              "      <td>-1.0</td>\n",
              "      <td>-1.0</td>\n",
              "      <td>-1.0</td>\n",
              "      <td>-1.0</td>\n",
              "      <td>-1.0</td>\n",
              "      <td>-1.0</td>\n",
              "      <td>-1.0</td>\n",
              "      <td>-1.0</td>\n",
              "      <td>-1.0</td>\n",
              "      <td>-1.0</td>\n",
              "      <td>-1.0</td>\n",
              "      <td>-1.0</td>\n",
              "      <td>-1.0</td>\n",
              "      <td>-1.0</td>\n",
              "      <td>-1.0</td>\n",
              "      <td>-1.0</td>\n",
              "      <td>-1.0</td>\n",
              "      <td>3</td>\n",
              "      <td>2017</td>\n",
              "      <td>40100000</td>\n",
              "      <td>4</td>\n",
              "      <td>3723.12641</td>\n",
              "      <td>-1.00000</td>\n",
              "    </tr>\n",
              "    <tr>\n",
              "      <th>2</th>\n",
              "      <td>6</td>\n",
              "      <td>2</td>\n",
              "      <td>2303</td>\n",
              "      <td>-7</td>\n",
              "      <td>-1.0</td>\n",
              "      <td>52</td>\n",
              "      <td>4</td>\n",
              "      <td>-7</td>\n",
              "      <td>1</td>\n",
              "      <td>2</td>\n",
              "      <td>2</td>\n",
              "      <td>2</td>\n",
              "      <td>1</td>\n",
              "      <td>1</td>\n",
              "      <td>1</td>\n",
              "      <td>2</td>\n",
              "      <td>-7</td>\n",
              "      <td>0</td>\n",
              "      <td>1</td>\n",
              "      <td>0</td>\n",
              "      <td>0</td>\n",
              "      <td>0</td>\n",
              "      <td>0</td>\n",
              "      <td>0</td>\n",
              "      <td>0</td>\n",
              "      <td>0</td>\n",
              "      <td>1</td>\n",
              "      <td>973</td>\n",
              "      <td>124</td>\n",
              "      <td>16</td>\n",
              "      <td>100</td>\n",
              "      <td>60</td>\n",
              "      <td>98</td>\n",
              "      <td>3</td>\n",
              "      <td>-9</td>\n",
              "      <td>2</td>\n",
              "      <td>15451</td>\n",
              "      <td>-9</td>\n",
              "      <td>-9</td>\n",
              "      <td>-9</td>\n",
              "      <td>...</td>\n",
              "      <td>-1.0</td>\n",
              "      <td>-1.0</td>\n",
              "      <td>-1.0</td>\n",
              "      <td>-1.0</td>\n",
              "      <td>-1.0</td>\n",
              "      <td>-1.0</td>\n",
              "      <td>-1.0</td>\n",
              "      <td>-1.0</td>\n",
              "      <td>-1.0</td>\n",
              "      <td>-1.0</td>\n",
              "      <td>-1.0</td>\n",
              "      <td>-1.0</td>\n",
              "      <td>-1.0</td>\n",
              "      <td>-1.0</td>\n",
              "      <td>-1</td>\n",
              "      <td>-1.0</td>\n",
              "      <td>-1.0</td>\n",
              "      <td>-1.0</td>\n",
              "      <td>-1.0</td>\n",
              "      <td>-1.0</td>\n",
              "      <td>-1.0</td>\n",
              "      <td>-1.0</td>\n",
              "      <td>-1.0</td>\n",
              "      <td>-1.0</td>\n",
              "      <td>-1.0</td>\n",
              "      <td>-1.0</td>\n",
              "      <td>-1.0</td>\n",
              "      <td>-1.0</td>\n",
              "      <td>-1.0</td>\n",
              "      <td>-1.0</td>\n",
              "      <td>-1.0</td>\n",
              "      <td>-1.0</td>\n",
              "      <td>-1.0</td>\n",
              "      <td>-1.0</td>\n",
              "      <td>3</td>\n",
              "      <td>2017</td>\n",
              "      <td>40100000</td>\n",
              "      <td>4</td>\n",
              "      <td>3723.12641</td>\n",
              "      <td>-1.00000</td>\n",
              "    </tr>\n",
              "    <tr>\n",
              "      <th>3</th>\n",
              "      <td>6</td>\n",
              "      <td>5</td>\n",
              "      <td>930</td>\n",
              "      <td>29</td>\n",
              "      <td>-1.0</td>\n",
              "      <td>5</td>\n",
              "      <td>1</td>\n",
              "      <td>-7</td>\n",
              "      <td>1</td>\n",
              "      <td>2</td>\n",
              "      <td>2</td>\n",
              "      <td>2</td>\n",
              "      <td>1</td>\n",
              "      <td>1</td>\n",
              "      <td>1</td>\n",
              "      <td>2</td>\n",
              "      <td>-7</td>\n",
              "      <td>0</td>\n",
              "      <td>1</td>\n",
              "      <td>0</td>\n",
              "      <td>0</td>\n",
              "      <td>0</td>\n",
              "      <td>0</td>\n",
              "      <td>0</td>\n",
              "      <td>0</td>\n",
              "      <td>0</td>\n",
              "      <td>1</td>\n",
              "      <td>983</td>\n",
              "      <td>81</td>\n",
              "      <td>22</td>\n",
              "      <td>-9</td>\n",
              "      <td>-9</td>\n",
              "      <td>99</td>\n",
              "      <td>4</td>\n",
              "      <td>-8</td>\n",
              "      <td>2</td>\n",
              "      <td>14400</td>\n",
              "      <td>-9</td>\n",
              "      <td>-9</td>\n",
              "      <td>-9</td>\n",
              "      <td>...</td>\n",
              "      <td>-1.0</td>\n",
              "      <td>-1.0</td>\n",
              "      <td>-1.0</td>\n",
              "      <td>-1.0</td>\n",
              "      <td>-1.0</td>\n",
              "      <td>-1.0</td>\n",
              "      <td>-1.0</td>\n",
              "      <td>-1.0</td>\n",
              "      <td>-1.0</td>\n",
              "      <td>-1.0</td>\n",
              "      <td>-1.0</td>\n",
              "      <td>-1.0</td>\n",
              "      <td>-1.0</td>\n",
              "      <td>-1.0</td>\n",
              "      <td>-1</td>\n",
              "      <td>-1.0</td>\n",
              "      <td>-1.0</td>\n",
              "      <td>-1.0</td>\n",
              "      <td>-1.0</td>\n",
              "      <td>-1.0</td>\n",
              "      <td>-1.0</td>\n",
              "      <td>-1.0</td>\n",
              "      <td>-1.0</td>\n",
              "      <td>-1.0</td>\n",
              "      <td>-1.0</td>\n",
              "      <td>-1.0</td>\n",
              "      <td>-1.0</td>\n",
              "      <td>-1.0</td>\n",
              "      <td>-1.0</td>\n",
              "      <td>-1.0</td>\n",
              "      <td>-1.0</td>\n",
              "      <td>-1.0</td>\n",
              "      <td>-1.0</td>\n",
              "      <td>-1.0</td>\n",
              "      <td>3</td>\n",
              "      <td>2017</td>\n",
              "      <td>40100000</td>\n",
              "      <td>4</td>\n",
              "      <td>3723.12641</td>\n",
              "      <td>-1.00000</td>\n",
              "    </tr>\n",
              "    <tr>\n",
              "      <th>4</th>\n",
              "      <td>6</td>\n",
              "      <td>2</td>\n",
              "      <td>1332</td>\n",
              "      <td>20</td>\n",
              "      <td>-1.0</td>\n",
              "      <td>4</td>\n",
              "      <td>1</td>\n",
              "      <td>-7</td>\n",
              "      <td>1</td>\n",
              "      <td>1</td>\n",
              "      <td>2</td>\n",
              "      <td>2</td>\n",
              "      <td>1</td>\n",
              "      <td>1</td>\n",
              "      <td>1</td>\n",
              "      <td>2</td>\n",
              "      <td>-7</td>\n",
              "      <td>0</td>\n",
              "      <td>0</td>\n",
              "      <td>0</td>\n",
              "      <td>1</td>\n",
              "      <td>0</td>\n",
              "      <td>0</td>\n",
              "      <td>0</td>\n",
              "      <td>0</td>\n",
              "      <td>0</td>\n",
              "      <td>3</td>\n",
              "      <td>976</td>\n",
              "      <td>98</td>\n",
              "      <td>20</td>\n",
              "      <td>107</td>\n",
              "      <td>56</td>\n",
              "      <td>98</td>\n",
              "      <td>4</td>\n",
              "      <td>-9</td>\n",
              "      <td>2</td>\n",
              "      <td>55700</td>\n",
              "      <td>-9</td>\n",
              "      <td>-9</td>\n",
              "      <td>-9</td>\n",
              "      <td>...</td>\n",
              "      <td>-1.0</td>\n",
              "      <td>-1.0</td>\n",
              "      <td>-1.0</td>\n",
              "      <td>-1.0</td>\n",
              "      <td>-1.0</td>\n",
              "      <td>-1.0</td>\n",
              "      <td>-1.0</td>\n",
              "      <td>-1.0</td>\n",
              "      <td>-1.0</td>\n",
              "      <td>-1.0</td>\n",
              "      <td>-1.0</td>\n",
              "      <td>-1.0</td>\n",
              "      <td>-1.0</td>\n",
              "      <td>-1.0</td>\n",
              "      <td>-1</td>\n",
              "      <td>-1.0</td>\n",
              "      <td>-1.0</td>\n",
              "      <td>-1.0</td>\n",
              "      <td>-1.0</td>\n",
              "      <td>-1.0</td>\n",
              "      <td>-1.0</td>\n",
              "      <td>-1.0</td>\n",
              "      <td>-1.0</td>\n",
              "      <td>-1.0</td>\n",
              "      <td>-1.0</td>\n",
              "      <td>-1.0</td>\n",
              "      <td>-1.0</td>\n",
              "      <td>-1.0</td>\n",
              "      <td>-1.0</td>\n",
              "      <td>-1.0</td>\n",
              "      <td>-1.0</td>\n",
              "      <td>-1.0</td>\n",
              "      <td>-1.0</td>\n",
              "      <td>-1.0</td>\n",
              "      <td>3</td>\n",
              "      <td>2017</td>\n",
              "      <td>40100000</td>\n",
              "      <td>4</td>\n",
              "      <td>3723.12641</td>\n",
              "      <td>-1.00000</td>\n",
              "    </tr>\n",
              "  </tbody>\n",
              "</table>\n",
              "<p>5 rows × 949 columns</p>\n",
              "</div>"
            ],
            "text/plain": [
              "   VMONTH  VDAYR  ARRTIME  WAITTIME  ...   CSTRATM  CPSUM       PATWT      EDWT\n",
              "0       6      6     2056        72  ...  40100000      4  3723.12641  21.58043\n",
              "1       6      2     1417        64  ...  40100000      4  3723.12641  -1.00000\n",
              "2       6      2     2303        -7  ...  40100000      4  3723.12641  -1.00000\n",
              "3       6      5      930        29  ...  40100000      4  3723.12641  -1.00000\n",
              "4       6      2     1332        20  ...  40100000      4  3723.12641  -1.00000\n",
              "\n",
              "[5 rows x 949 columns]"
            ]
          },
          "metadata": {
            "tags": []
          },
          "execution_count": 3
        }
      ]
    },
    {
      "cell_type": "code",
      "metadata": {
        "colab": {
          "base_uri": "https://localhost:8080/"
        },
        "id": "vF06MQIWyxV-",
        "outputId": "2c3894ec-ff30-42a7-bf65-a188f29dbf93"
      },
      "source": [
        "full_df.shape"
      ],
      "execution_count": null,
      "outputs": [
        {
          "output_type": "execute_result",
          "data": {
            "text/plain": [
              "(16709, 949)"
            ]
          },
          "metadata": {
            "tags": []
          },
          "execution_count": 4
        }
      ]
    },
    {
      "cell_type": "code",
      "metadata": {
        "id": "aEyeZoSafUwb"
      },
      "source": [
        "subset_df = full_df.iloc[:,:36].drop(columns=[\"BLANK1\"])"
      ],
      "execution_count": null,
      "outputs": []
    },
    {
      "cell_type": "code",
      "metadata": {
        "id": "MpBDuECefXY1"
      },
      "source": [
        "subset_df.corr()"
      ],
      "execution_count": null,
      "outputs": []
    },
    {
      "cell_type": "markdown",
      "metadata": {
        "id": "ezSWc7JKxcM6"
      },
      "source": [
        "## PREPROCESSING ##\n",
        "\n"
      ]
    },
    {
      "cell_type": "markdown",
      "metadata": {
        "id": "GfBgTTu-foml"
      },
      "source": [
        "The column used is\n",
        "\n",
        "1.   WaitingTime\n",
        "- -9 = Blank\n",
        "- -7 = Not applicable (Not seen by PHYSICIAN/APRN/PA)\n",
        "\n",
        "2.   Age\n",
        "\n",
        "3. Sex\n",
        "- 1 = Female\n",
        "- 2 = Male\n",
        "\n",
        "4. Tempf (Fahrenheit)\n",
        "- -9 = Blank\n",
        "- 0901-1080 = 90.1 – 108.0 Fahrenheit (reported range)\n",
        "\n",
        "5. Immedr\n",
        "- -9 = Blank\n",
        "- -8 = Unknown\n",
        "- 0 = ‘No triage’ reported for this visit but ESA does conduct nursing \n",
        "- 1 = Immediate\n",
        "- 2 = Emergent\n",
        "- 3 = Urgent\n",
        "- 4 = Semi-urgent\n",
        "- 5 = Nonurgent\n",
        "\n",
        "6. Painscale\n",
        "- -9 = Blank\n",
        "- -8 = Unknown \n",
        "- 0-10\n",
        "\n",
        "\n",
        "\n",
        "\n"
      ]
    },
    {
      "cell_type": "code",
      "metadata": {
        "colab": {
          "base_uri": "https://localhost:8080/",
          "height": 419
        },
        "id": "ypAqjCwGxnQI",
        "outputId": "993215ed-6616-4bd1-c84d-50d872aaa398"
      },
      "source": [
        "subset_df = full_df[[\"WAITTIME\",\"AGE\",\"TEMPF\",\"SEX\",\"IMMEDR\",\"PAINSCALE\"]]\n",
        "subset_df"
      ],
      "execution_count": null,
      "outputs": [
        {
          "output_type": "execute_result",
          "data": {
            "text/html": [
              "<div>\n",
              "<style scoped>\n",
              "    .dataframe tbody tr th:only-of-type {\n",
              "        vertical-align: middle;\n",
              "    }\n",
              "\n",
              "    .dataframe tbody tr th {\n",
              "        vertical-align: top;\n",
              "    }\n",
              "\n",
              "    .dataframe thead th {\n",
              "        text-align: right;\n",
              "    }\n",
              "</style>\n",
              "<table border=\"1\" class=\"dataframe\">\n",
              "  <thead>\n",
              "    <tr style=\"text-align: right;\">\n",
              "      <th></th>\n",
              "      <th>WAITTIME</th>\n",
              "      <th>AGE</th>\n",
              "      <th>TEMPF</th>\n",
              "      <th>SEX</th>\n",
              "      <th>IMMEDR</th>\n",
              "      <th>PAINSCALE</th>\n",
              "    </tr>\n",
              "  </thead>\n",
              "  <tbody>\n",
              "    <tr>\n",
              "      <th>0</th>\n",
              "      <td>72</td>\n",
              "      <td>27</td>\n",
              "      <td>982</td>\n",
              "      <td>2</td>\n",
              "      <td>4</td>\n",
              "      <td>5</td>\n",
              "    </tr>\n",
              "    <tr>\n",
              "      <th>1</th>\n",
              "      <td>64</td>\n",
              "      <td>1</td>\n",
              "      <td>1014</td>\n",
              "      <td>1</td>\n",
              "      <td>4</td>\n",
              "      <td>-8</td>\n",
              "    </tr>\n",
              "    <tr>\n",
              "      <th>2</th>\n",
              "      <td>-7</td>\n",
              "      <td>52</td>\n",
              "      <td>973</td>\n",
              "      <td>2</td>\n",
              "      <td>3</td>\n",
              "      <td>-9</td>\n",
              "    </tr>\n",
              "    <tr>\n",
              "      <th>3</th>\n",
              "      <td>29</td>\n",
              "      <td>5</td>\n",
              "      <td>983</td>\n",
              "      <td>2</td>\n",
              "      <td>4</td>\n",
              "      <td>-8</td>\n",
              "    </tr>\n",
              "    <tr>\n",
              "      <th>4</th>\n",
              "      <td>20</td>\n",
              "      <td>4</td>\n",
              "      <td>976</td>\n",
              "      <td>1</td>\n",
              "      <td>4</td>\n",
              "      <td>-9</td>\n",
              "    </tr>\n",
              "    <tr>\n",
              "      <th>...</th>\n",
              "      <td>...</td>\n",
              "      <td>...</td>\n",
              "      <td>...</td>\n",
              "      <td>...</td>\n",
              "      <td>...</td>\n",
              "      <td>...</td>\n",
              "    </tr>\n",
              "    <tr>\n",
              "      <th>16704</th>\n",
              "      <td>8</td>\n",
              "      <td>24</td>\n",
              "      <td>970</td>\n",
              "      <td>2</td>\n",
              "      <td>3</td>\n",
              "      <td>10</td>\n",
              "    </tr>\n",
              "    <tr>\n",
              "      <th>16705</th>\n",
              "      <td>23</td>\n",
              "      <td>36</td>\n",
              "      <td>976</td>\n",
              "      <td>1</td>\n",
              "      <td>3</td>\n",
              "      <td>8</td>\n",
              "    </tr>\n",
              "    <tr>\n",
              "      <th>16706</th>\n",
              "      <td>96</td>\n",
              "      <td>40</td>\n",
              "      <td>971</td>\n",
              "      <td>2</td>\n",
              "      <td>3</td>\n",
              "      <td>3</td>\n",
              "    </tr>\n",
              "    <tr>\n",
              "      <th>16707</th>\n",
              "      <td>33</td>\n",
              "      <td>75</td>\n",
              "      <td>971</td>\n",
              "      <td>1</td>\n",
              "      <td>3</td>\n",
              "      <td>9</td>\n",
              "    </tr>\n",
              "    <tr>\n",
              "      <th>16708</th>\n",
              "      <td>3</td>\n",
              "      <td>35</td>\n",
              "      <td>965</td>\n",
              "      <td>2</td>\n",
              "      <td>3</td>\n",
              "      <td>9</td>\n",
              "    </tr>\n",
              "  </tbody>\n",
              "</table>\n",
              "<p>16709 rows × 6 columns</p>\n",
              "</div>"
            ],
            "text/plain": [
              "       WAITTIME  AGE  TEMPF  SEX  IMMEDR  PAINSCALE\n",
              "0            72   27    982    2       4          5\n",
              "1            64    1   1014    1       4         -8\n",
              "2            -7   52    973    2       3         -9\n",
              "3            29    5    983    2       4         -8\n",
              "4            20    4    976    1       4         -9\n",
              "...         ...  ...    ...  ...     ...        ...\n",
              "16704         8   24    970    2       3         10\n",
              "16705        23   36    976    1       3          8\n",
              "16706        96   40    971    2       3          3\n",
              "16707        33   75    971    1       3          9\n",
              "16708         3   35    965    2       3          9\n",
              "\n",
              "[16709 rows x 6 columns]"
            ]
          },
          "metadata": {
            "tags": []
          },
          "execution_count": 7
        }
      ]
    },
    {
      "cell_type": "code",
      "metadata": {
        "colab": {
          "base_uri": "https://localhost:8080/"
        },
        "id": "mwOBrZPluaVZ",
        "outputId": "038e687f-a321-4fd5-bce6-866a7df92f87"
      },
      "source": [
        "subset_df.isnull().sum()"
      ],
      "execution_count": null,
      "outputs": [
        {
          "output_type": "execute_result",
          "data": {
            "text/plain": [
              "WAITTIME     0\n",
              "AGE          0\n",
              "TEMPF        0\n",
              "SEX          0\n",
              "IMMEDR       0\n",
              "PAINSCALE    0\n",
              "dtype: int64"
            ]
          },
          "metadata": {
            "tags": []
          },
          "execution_count": 8
        }
      ]
    },
    {
      "cell_type": "code",
      "metadata": {
        "id": "POmB8-Bzafcu"
      },
      "source": [
        "subset_df = subset_df[subset_df[\"WAITTIME\"] != -9]\n",
        "subset_df = subset_df[subset_df[\"WAITTIME\"] != -7]\n",
        "subset_df = subset_df[subset_df[\"WAITTIME\"] != 0]\n",
        "\n",
        "subset_df = subset_df[subset_df[\"AGE\"] != 0]\n",
        "subset_df = subset_df[subset_df[\"SEX\"] != 0]\n",
        "subset_df = subset_df[subset_df[\"IMMEDR\"] != 0]\n",
        "subset_df = subset_df[subset_df[\"PAINSCALE\"] != 0]"
      ],
      "execution_count": null,
      "outputs": []
    },
    {
      "cell_type": "code",
      "metadata": {
        "colab": {
          "base_uri": "https://localhost:8080/"
        },
        "id": "0LD28-9vzqS1",
        "outputId": "415d46af-eb84-414a-c7d8-5afbeb4beda9"
      },
      "source": [
        "sexUniq = subset_df[\"SEX\"].unique()\n",
        "print(sexUniq)"
      ],
      "execution_count": null,
      "outputs": [
        {
          "output_type": "stream",
          "text": [
            "[2 1]\n"
          ],
          "name": "stdout"
        }
      ]
    },
    {
      "cell_type": "code",
      "metadata": {
        "id": "R_KIBuALz_0O"
      },
      "source": [
        "subset_df = subset_df[subset_df[\"TEMPF\"] != -9]\n",
        "\n",
        "subset_df = subset_df[subset_df[\"IMMEDR\"] != -9]\n",
        "subset_df = subset_df[subset_df[\"IMMEDR\"] != -8]\n",
        "\n",
        "subset_df = subset_df[subset_df[\"PAINSCALE\"] != -9]\n",
        "subset_df = subset_df[subset_df[\"PAINSCALE\"] != -8]"
      ],
      "execution_count": null,
      "outputs": []
    },
    {
      "cell_type": "code",
      "metadata": {
        "colab": {
          "base_uri": "https://localhost:8080/",
          "height": 282
        },
        "id": "RNSSMY8l08jL",
        "outputId": "b55ea962-c3d6-4e6c-94f1-a62d67791f25"
      },
      "source": [
        "plt.plot(subset_df[\"WAITTIME\"])"
      ],
      "execution_count": null,
      "outputs": [
        {
          "output_type": "execute_result",
          "data": {
            "text/plain": [
              "[<matplotlib.lines.Line2D at 0x7ff828721690>]"
            ]
          },
          "metadata": {
            "tags": []
          },
          "execution_count": 13
        },
        {
          "output_type": "display_data",
          "data": {
            "image/png": "[encoded data removed]",
            "text/plain": [
              "<Figure size 432x288 with 1 Axes>"
            ]
          },
          "metadata": {
            "tags": [],
            "needs_background": "light"
          }
        }
      ]
    },
    {
      "cell_type": "markdown",
      "metadata": {
        "id": "yexKvQptiFfr"
      },
      "source": [
        "We only take 5-45 minutes of waiting time"
      ]
    },
    {
      "cell_type": "code",
      "metadata": {
        "id": "xD9whgpr16yt"
      },
      "source": [
        "subset_df = subset_df[subset_df[\"WAITTIME\"] < 45]\n",
        "subset_df = subset_df[subset_df[\"WAITTIME\"] > 5]"
      ],
      "execution_count": null,
      "outputs": []
    },
    {
      "cell_type": "code",
      "metadata": {
        "id": "yyuZhXJy2e5a"
      },
      "source": [
        "subset_df[[\"WAITTIME\"]] == 0"
      ],
      "execution_count": null,
      "outputs": []
    },
    {
      "cell_type": "markdown",
      "metadata": {
        "id": "R9B9Bk3IiOq8"
      },
      "source": [
        "Convert temperature from fahrenheit to celsius"
      ]
    },
    {
      "cell_type": "code",
      "metadata": {
        "colab": {
          "base_uri": "https://localhost:8080/",
          "height": 419
        },
        "id": "ji96-r_Q3O26",
        "outputId": "a9145945-d3d1-42bb-e780-017a1e35f090"
      },
      "source": [
        "subset_df['TEMPF'] = subset_df['TEMPF'].apply(lambda x: (x*0.1 - 32) * 5/9 )\n",
        "subset_df"
      ],
      "execution_count": null,
      "outputs": [
        {
          "output_type": "execute_result",
          "data": {
            "text/html": [
              "<div>\n",
              "<style scoped>\n",
              "    .dataframe tbody tr th:only-of-type {\n",
              "        vertical-align: middle;\n",
              "    }\n",
              "\n",
              "    .dataframe tbody tr th {\n",
              "        vertical-align: top;\n",
              "    }\n",
              "\n",
              "    .dataframe thead th {\n",
              "        text-align: right;\n",
              "    }\n",
              "</style>\n",
              "<table border=\"1\" class=\"dataframe\">\n",
              "  <thead>\n",
              "    <tr style=\"text-align: right;\">\n",
              "      <th></th>\n",
              "      <th>WAITTIME</th>\n",
              "      <th>AGE</th>\n",
              "      <th>TEMPF</th>\n",
              "      <th>SEX</th>\n",
              "      <th>IMMEDR</th>\n",
              "      <th>PAINSCALE</th>\n",
              "    </tr>\n",
              "  </thead>\n",
              "  <tbody>\n",
              "    <tr>\n",
              "      <th>11</th>\n",
              "      <td>18</td>\n",
              "      <td>27</td>\n",
              "      <td>36.944444</td>\n",
              "      <td>1</td>\n",
              "      <td>4</td>\n",
              "      <td>5</td>\n",
              "    </tr>\n",
              "    <tr>\n",
              "      <th>14</th>\n",
              "      <td>9</td>\n",
              "      <td>44</td>\n",
              "      <td>36.777778</td>\n",
              "      <td>1</td>\n",
              "      <td>3</td>\n",
              "      <td>6</td>\n",
              "    </tr>\n",
              "    <tr>\n",
              "      <th>16</th>\n",
              "      <td>15</td>\n",
              "      <td>38</td>\n",
              "      <td>36.444444</td>\n",
              "      <td>1</td>\n",
              "      <td>4</td>\n",
              "      <td>6</td>\n",
              "    </tr>\n",
              "    <tr>\n",
              "      <th>21</th>\n",
              "      <td>12</td>\n",
              "      <td>40</td>\n",
              "      <td>37.444444</td>\n",
              "      <td>1</td>\n",
              "      <td>3</td>\n",
              "      <td>5</td>\n",
              "    </tr>\n",
              "    <tr>\n",
              "      <th>23</th>\n",
              "      <td>12</td>\n",
              "      <td>25</td>\n",
              "      <td>37.055556</td>\n",
              "      <td>1</td>\n",
              "      <td>4</td>\n",
              "      <td>8</td>\n",
              "    </tr>\n",
              "    <tr>\n",
              "      <th>...</th>\n",
              "      <td>...</td>\n",
              "      <td>...</td>\n",
              "      <td>...</td>\n",
              "      <td>...</td>\n",
              "      <td>...</td>\n",
              "      <td>...</td>\n",
              "    </tr>\n",
              "    <tr>\n",
              "      <th>16687</th>\n",
              "      <td>19</td>\n",
              "      <td>30</td>\n",
              "      <td>36.833333</td>\n",
              "      <td>2</td>\n",
              "      <td>4</td>\n",
              "      <td>7</td>\n",
              "    </tr>\n",
              "    <tr>\n",
              "      <th>16690</th>\n",
              "      <td>17</td>\n",
              "      <td>33</td>\n",
              "      <td>36.333333</td>\n",
              "      <td>2</td>\n",
              "      <td>4</td>\n",
              "      <td>7</td>\n",
              "    </tr>\n",
              "    <tr>\n",
              "      <th>16704</th>\n",
              "      <td>8</td>\n",
              "      <td>24</td>\n",
              "      <td>36.111111</td>\n",
              "      <td>2</td>\n",
              "      <td>3</td>\n",
              "      <td>10</td>\n",
              "    </tr>\n",
              "    <tr>\n",
              "      <th>16705</th>\n",
              "      <td>23</td>\n",
              "      <td>36</td>\n",
              "      <td>36.444444</td>\n",
              "      <td>1</td>\n",
              "      <td>3</td>\n",
              "      <td>8</td>\n",
              "    </tr>\n",
              "    <tr>\n",
              "      <th>16707</th>\n",
              "      <td>33</td>\n",
              "      <td>75</td>\n",
              "      <td>36.166667</td>\n",
              "      <td>1</td>\n",
              "      <td>3</td>\n",
              "      <td>9</td>\n",
              "    </tr>\n",
              "  </tbody>\n",
              "</table>\n",
              "<p>3338 rows × 6 columns</p>\n",
              "</div>"
            ],
            "text/plain": [
              "       WAITTIME  AGE      TEMPF  SEX  IMMEDR  PAINSCALE\n",
              "11           18   27  36.944444    1       4          5\n",
              "14            9   44  36.777778    1       3          6\n",
              "16           15   38  36.444444    1       4          6\n",
              "21           12   40  37.444444    1       3          5\n",
              "23           12   25  37.055556    1       4          8\n",
              "...         ...  ...        ...  ...     ...        ...\n",
              "16687        19   30  36.833333    2       4          7\n",
              "16690        17   33  36.333333    2       4          7\n",
              "16704         8   24  36.111111    2       3         10\n",
              "16705        23   36  36.444444    1       3          8\n",
              "16707        33   75  36.166667    1       3          9\n",
              "\n",
              "[3338 rows x 6 columns]"
            ]
          },
          "metadata": {
            "tags": []
          },
          "execution_count": 17
        }
      ]
    },
    {
      "cell_type": "code",
      "metadata": {
        "colab": {
          "base_uri": "https://localhost:8080/",
          "height": 282
        },
        "id": "AdId-laP6IkH",
        "outputId": "e6dbac46-a7b5-40cb-ad1a-4099942096e7"
      },
      "source": [
        "plt.plot(subset_df[\"TEMPF\"])"
      ],
      "execution_count": null,
      "outputs": [
        {
          "output_type": "execute_result",
          "data": {
            "text/plain": [
              "[<matplotlib.lines.Line2D at 0x7ff828c23e10>]"
            ]
          },
          "metadata": {
            "tags": []
          },
          "execution_count": 18
        },
        {
          "output_type": "display_data",
          "data": {
            "image/png": "[encoded data removed]",
            "text/plain": [
              "<Figure size 432x288 with 1 Axes>"
            ]
          },
          "metadata": {
            "tags": [],
            "needs_background": "light"
          }
        }
      ]
    },
    {
      "cell_type": "code",
      "metadata": {
        "id": "_XClC0966WpU"
      },
      "source": [
        "subset_df = subset_df[subset_df[\"TEMPF\"] > 34]\n",
        "subset_df = subset_df[subset_df[\"TEMPF\"] < 42]"
      ],
      "execution_count": null,
      "outputs": []
    },
    {
      "cell_type": "code",
      "metadata": {
        "colab": {
          "base_uri": "https://localhost:8080/",
          "height": 282
        },
        "id": "Bkv_S1qZ7J1o",
        "outputId": "a84a37ae-2dbf-4c20-816f-33fcffd8b3e1"
      },
      "source": [
        "plt.plot(subset_df[\"TEMPF\"])"
      ],
      "execution_count": null,
      "outputs": [
        {
          "output_type": "execute_result",
          "data": {
            "text/plain": [
              "[<matplotlib.lines.Line2D at 0x7ff828619d50>]"
            ]
          },
          "metadata": {
            "tags": []
          },
          "execution_count": 20
        },
        {
          "output_type": "display_data",
          "data": {
            "image/png": "[encoded data removed]",
            "text/plain": [
              "<Figure size 432x288 with 1 Axes>"
            ]
          },
          "metadata": {
            "tags": [],
            "needs_background": "light"
          }
        }
      ]
    },
    {
      "cell_type": "code",
      "metadata": {
        "colab": {
          "base_uri": "https://localhost:8080/",
          "height": 419
        },
        "id": "dKPd4Z58CB_m",
        "outputId": "0099cf59-e3bf-4c1d-d10f-2e5e7a35dca2"
      },
      "source": [
        "subset_df"
      ],
      "execution_count": null,
      "outputs": [
        {
          "output_type": "execute_result",
          "data": {
            "text/html": [
              "<div>\n",
              "<style scoped>\n",
              "    .dataframe tbody tr th:only-of-type {\n",
              "        vertical-align: middle;\n",
              "    }\n",
              "\n",
              "    .dataframe tbody tr th {\n",
              "        vertical-align: top;\n",
              "    }\n",
              "\n",
              "    .dataframe thead th {\n",
              "        text-align: right;\n",
              "    }\n",
              "</style>\n",
              "<table border=\"1\" class=\"dataframe\">\n",
              "  <thead>\n",
              "    <tr style=\"text-align: right;\">\n",
              "      <th></th>\n",
              "      <th>WAITTIME</th>\n",
              "      <th>AGE</th>\n",
              "      <th>TEMPF</th>\n",
              "      <th>SEX</th>\n",
              "      <th>IMMEDR</th>\n",
              "      <th>PAINSCALE</th>\n",
              "    </tr>\n",
              "  </thead>\n",
              "  <tbody>\n",
              "    <tr>\n",
              "      <th>11</th>\n",
              "      <td>18</td>\n",
              "      <td>27</td>\n",
              "      <td>36.944444</td>\n",
              "      <td>1</td>\n",
              "      <td>4</td>\n",
              "      <td>5</td>\n",
              "    </tr>\n",
              "    <tr>\n",
              "      <th>14</th>\n",
              "      <td>9</td>\n",
              "      <td>44</td>\n",
              "      <td>36.777778</td>\n",
              "      <td>1</td>\n",
              "      <td>3</td>\n",
              "      <td>6</td>\n",
              "    </tr>\n",
              "    <tr>\n",
              "      <th>16</th>\n",
              "      <td>15</td>\n",
              "      <td>38</td>\n",
              "      <td>36.444444</td>\n",
              "      <td>1</td>\n",
              "      <td>4</td>\n",
              "      <td>6</td>\n",
              "    </tr>\n",
              "    <tr>\n",
              "      <th>21</th>\n",
              "      <td>12</td>\n",
              "      <td>40</td>\n",
              "      <td>37.444444</td>\n",
              "      <td>1</td>\n",
              "      <td>3</td>\n",
              "      <td>5</td>\n",
              "    </tr>\n",
              "    <tr>\n",
              "      <th>23</th>\n",
              "      <td>12</td>\n",
              "      <td>25</td>\n",
              "      <td>37.055556</td>\n",
              "      <td>1</td>\n",
              "      <td>4</td>\n",
              "      <td>8</td>\n",
              "    </tr>\n",
              "    <tr>\n",
              "      <th>...</th>\n",
              "      <td>...</td>\n",
              "      <td>...</td>\n",
              "      <td>...</td>\n",
              "      <td>...</td>\n",
              "      <td>...</td>\n",
              "      <td>...</td>\n",
              "    </tr>\n",
              "    <tr>\n",
              "      <th>16687</th>\n",
              "      <td>19</td>\n",
              "      <td>30</td>\n",
              "      <td>36.833333</td>\n",
              "      <td>2</td>\n",
              "      <td>4</td>\n",
              "      <td>7</td>\n",
              "    </tr>\n",
              "    <tr>\n",
              "      <th>16690</th>\n",
              "      <td>17</td>\n",
              "      <td>33</td>\n",
              "      <td>36.333333</td>\n",
              "      <td>2</td>\n",
              "      <td>4</td>\n",
              "      <td>7</td>\n",
              "    </tr>\n",
              "    <tr>\n",
              "      <th>16704</th>\n",
              "      <td>8</td>\n",
              "      <td>24</td>\n",
              "      <td>36.111111</td>\n",
              "      <td>2</td>\n",
              "      <td>3</td>\n",
              "      <td>10</td>\n",
              "    </tr>\n",
              "    <tr>\n",
              "      <th>16705</th>\n",
              "      <td>23</td>\n",
              "      <td>36</td>\n",
              "      <td>36.444444</td>\n",
              "      <td>1</td>\n",
              "      <td>3</td>\n",
              "      <td>8</td>\n",
              "    </tr>\n",
              "    <tr>\n",
              "      <th>16707</th>\n",
              "      <td>33</td>\n",
              "      <td>75</td>\n",
              "      <td>36.166667</td>\n",
              "      <td>1</td>\n",
              "      <td>3</td>\n",
              "      <td>9</td>\n",
              "    </tr>\n",
              "  </tbody>\n",
              "</table>\n",
              "<p>3338 rows × 6 columns</p>\n",
              "</div>"
            ],
            "text/plain": [
              "       WAITTIME  AGE      TEMPF  SEX  IMMEDR  PAINSCALE\n",
              "11           18   27  36.944444    1       4          5\n",
              "14            9   44  36.777778    1       3          6\n",
              "16           15   38  36.444444    1       4          6\n",
              "21           12   40  37.444444    1       3          5\n",
              "23           12   25  37.055556    1       4          8\n",
              "...         ...  ...        ...  ...     ...        ...\n",
              "16687        19   30  36.833333    2       4          7\n",
              "16690        17   33  36.333333    2       4          7\n",
              "16704         8   24  36.111111    2       3         10\n",
              "16705        23   36  36.444444    1       3          8\n",
              "16707        33   75  36.166667    1       3          9\n",
              "\n",
              "[3338 rows x 6 columns]"
            ]
          },
          "metadata": {
            "tags": []
          },
          "execution_count": 21
        }
      ]
    },
    {
      "cell_type": "code",
      "metadata": {
        "id": "MsFx6aHfcBV-"
      },
      "source": [
        "def categorical_temp (x):\n",
        "  if x <= 36.6 :\n",
        "    x = 1\n",
        "  elif x > 36.6:\n",
        "    x = 2\n",
        "  return x\n",
        "\n",
        "def categorical_age (x):\n",
        "  if x < 15:\n",
        "    x = 1\n",
        "  elif  x > 25 and x <= 15:\n",
        "    x = 2\n",
        "  elif x > 15 and x <=25:\n",
        "    x= 3\n",
        "  elif x > 45 and x <=35:\n",
        "    x= 4\n",
        "  elif x > 65 and x <=45:\n",
        "    x= 5\n",
        "  elif x > 75 and x <=65:\n",
        "    x= 6\n",
        "  return x\n"
      ],
      "execution_count": null,
      "outputs": []
    },
    {
      "cell_type": "code",
      "metadata": {
        "id": "dTPKPY6ZU7v3"
      },
      "source": [
        "subset_df[\"TEMPF\"] = subset_df[\"TEMPF\"].apply(categorical_temp)\n",
        "subset_df[\"AGE\"] = subset_df[\"AGE\"].apply(categorical_temp)"
      ],
      "execution_count": null,
      "outputs": []
    },
    {
      "cell_type": "markdown",
      "metadata": {
        "id": "62jwfzr8iZHa"
      },
      "source": [
        "Feature : Sex, Age, Tempf, Immedr, Painscale\n",
        "\n",
        "Target : Waitingtime"
      ]
    },
    {
      "cell_type": "code",
      "metadata": {
        "id": "jVBEuKEu9ax7"
      },
      "source": [
        "X = subset_df[[\"AGE\",\"SEX\",\"IMMEDR\",\"PAINSCALE\",\"TEMPF\"]] \n",
        "\n",
        "y = subset_df[\"WAITTIME\"]"
      ],
      "execution_count": null,
      "outputs": []
    },
    {
      "cell_type": "code",
      "metadata": {
        "id": "Ho7Apam-9rfa"
      },
      "source": [
        "#Split Data\n",
        "\n",
        "X_train, X_test, y_train, y_test = train_test_split(X, y, test_size = 0.2, random_state = 0)"
      ],
      "execution_count": null,
      "outputs": []
    },
    {
      "cell_type": "code",
      "metadata": {
        "colab": {
          "base_uri": "https://localhost:8080/"
        },
        "id": "A2e1_TKC97UT",
        "outputId": "e3b8a4e1-9bbd-44b8-e299-71d65c968c91"
      },
      "source": [
        "X_train.shape, X_test.shape\n"
      ],
      "execution_count": null,
      "outputs": [
        {
          "output_type": "execute_result",
          "data": {
            "text/plain": [
              "((3416, 5), (855, 5))"
            ]
          },
          "metadata": {
            "tags": []
          },
          "execution_count": 23
        }
      ]
    },
    {
      "cell_type": "code",
      "metadata": {
        "id": "LUVEKEUXjfwn"
      },
      "source": [
        "stdscal = StandardScaler()\n",
        "scale = stdscal.fit_transform(X_train)"
      ],
      "execution_count": null,
      "outputs": []
    },
    {
      "cell_type": "code",
      "metadata": {
        "id": "zzLAKvFijkfg",
        "colab": {
          "base_uri": "https://localhost:8080/"
        },
        "outputId": "ca1cfcaf-6a41-429d-a6cb-4269ee7b27da"
      },
      "source": [
        "X_train = pd.DataFrame(scale,columns=list(X_train.columns.values))\n",
        "X_train"
      ],
      "execution_count": null,
      "outputs": [
        {
          "output_type": "execute_result",
          "data": {
            "text/html": [
              "<div>\n",
              "<style scoped>\n",
              "    .dataframe tbody tr th:only-of-type {\n",
              "        vertical-align: middle;\n",
              "    }\n",
              "\n",
              "    .dataframe tbody tr th {\n",
              "        vertical-align: top;\n",
              "    }\n",
              "\n",
              "    .dataframe thead th {\n",
              "        text-align: right;\n",
              "    }\n",
              "</style>\n",
              "<table border=\"1\" class=\"dataframe\">\n",
              "  <thead>\n",
              "    <tr style=\"text-align: right;\">\n",
              "      <th></th>\n",
              "      <th>AGE</th>\n",
              "      <th>SEX</th>\n",
              "      <th>IMMEDR</th>\n",
              "      <th>PAINSCALE</th>\n",
              "      <th>TEMPF</th>\n",
              "    </tr>\n",
              "  </thead>\n",
              "  <tbody>\n",
              "    <tr>\n",
              "      <th>0</th>\n",
              "      <td>0.976849</td>\n",
              "      <td>1.134906</td>\n",
              "      <td>-0.455715</td>\n",
              "      <td>0.538588</td>\n",
              "      <td>0.627469</td>\n",
              "    </tr>\n",
              "    <tr>\n",
              "      <th>1</th>\n",
              "      <td>0.976849</td>\n",
              "      <td>-0.881131</td>\n",
              "      <td>3.627492</td>\n",
              "      <td>-0.267465</td>\n",
              "      <td>0.627469</td>\n",
              "    </tr>\n",
              "    <tr>\n",
              "      <th>2</th>\n",
              "      <td>0.976849</td>\n",
              "      <td>1.134906</td>\n",
              "      <td>0.565087</td>\n",
              "      <td>0.135561</td>\n",
              "      <td>-1.593705</td>\n",
              "    </tr>\n",
              "    <tr>\n",
              "      <th>3</th>\n",
              "      <td>0.976849</td>\n",
              "      <td>1.134906</td>\n",
              "      <td>-0.455715</td>\n",
              "      <td>-1.879572</td>\n",
              "      <td>0.627469</td>\n",
              "    </tr>\n",
              "    <tr>\n",
              "      <th>4</th>\n",
              "      <td>-1.023700</td>\n",
              "      <td>1.134906</td>\n",
              "      <td>-0.455715</td>\n",
              "      <td>0.135561</td>\n",
              "      <td>0.627469</td>\n",
              "    </tr>\n",
              "    <tr>\n",
              "      <th>...</th>\n",
              "      <td>...</td>\n",
              "      <td>...</td>\n",
              "      <td>...</td>\n",
              "      <td>...</td>\n",
              "      <td>...</td>\n",
              "    </tr>\n",
              "    <tr>\n",
              "      <th>3411</th>\n",
              "      <td>-1.023700</td>\n",
              "      <td>1.134906</td>\n",
              "      <td>1.585889</td>\n",
              "      <td>0.135561</td>\n",
              "      <td>0.627469</td>\n",
              "    </tr>\n",
              "    <tr>\n",
              "      <th>3412</th>\n",
              "      <td>-1.023700</td>\n",
              "      <td>-0.881131</td>\n",
              "      <td>0.565087</td>\n",
              "      <td>1.344642</td>\n",
              "      <td>0.627469</td>\n",
              "    </tr>\n",
              "    <tr>\n",
              "      <th>3413</th>\n",
              "      <td>0.976849</td>\n",
              "      <td>1.134906</td>\n",
              "      <td>-0.455715</td>\n",
              "      <td>0.538588</td>\n",
              "      <td>0.627469</td>\n",
              "    </tr>\n",
              "    <tr>\n",
              "      <th>3414</th>\n",
              "      <td>-1.023700</td>\n",
              "      <td>-0.881131</td>\n",
              "      <td>0.565087</td>\n",
              "      <td>-1.073519</td>\n",
              "      <td>0.627469</td>\n",
              "    </tr>\n",
              "    <tr>\n",
              "      <th>3415</th>\n",
              "      <td>0.976849</td>\n",
              "      <td>1.134906</td>\n",
              "      <td>0.565087</td>\n",
              "      <td>1.344642</td>\n",
              "      <td>0.627469</td>\n",
              "    </tr>\n",
              "  </tbody>\n",
              "</table>\n",
              "<p>3416 rows × 5 columns</p>\n",
              "</div>"
            ],
            "text/plain": [
              "           AGE       SEX    IMMEDR  PAINSCALE     TEMPF\n",
              "0     0.976849  1.134906 -0.455715   0.538588  0.627469\n",
              "1     0.976849 -0.881131  3.627492  -0.267465  0.627469\n",
              "2     0.976849  1.134906  0.565087   0.135561 -1.593705\n",
              "3     0.976849  1.134906 -0.455715  -1.879572  0.627469\n",
              "4    -1.023700  1.134906 -0.455715   0.135561  0.627469\n",
              "...        ...       ...       ...        ...       ...\n",
              "3411 -1.023700  1.134906  1.585889   0.135561  0.627469\n",
              "3412 -1.023700 -0.881131  0.565087   1.344642  0.627469\n",
              "3413  0.976849  1.134906 -0.455715   0.538588  0.627469\n",
              "3414 -1.023700 -0.881131  0.565087  -1.073519  0.627469\n",
              "3415  0.976849  1.134906  0.565087   1.344642  0.627469\n",
              "\n",
              "[3416 rows x 5 columns]"
            ]
          },
          "metadata": {
            "tags": []
          },
          "execution_count": 26
        }
      ]
    },
    {
      "cell_type": "code",
      "metadata": {
        "id": "Tkdkimtzjzdb"
      },
      "source": [
        "stdscal = StandardScaler()\n",
        "scale = stdscal.fit_transform(X_test)"
      ],
      "execution_count": null,
      "outputs": []
    },
    {
      "cell_type": "code",
      "metadata": {
        "id": "5PRkndCRj8Ht",
        "colab": {
          "base_uri": "https://localhost:8080/"
        },
        "outputId": "60de76ed-25da-47ca-82e2-cb96c5d1f6fd"
      },
      "source": [
        "X_test = pd.DataFrame(scale,columns=list(X_test.columns.values))\n",
        "X_test"
      ],
      "execution_count": null,
      "outputs": [
        {
          "output_type": "execute_result",
          "data": {
            "text/html": [
              "<div>\n",
              "<style scoped>\n",
              "    .dataframe tbody tr th:only-of-type {\n",
              "        vertical-align: middle;\n",
              "    }\n",
              "\n",
              "    .dataframe tbody tr th {\n",
              "        vertical-align: top;\n",
              "    }\n",
              "\n",
              "    .dataframe thead th {\n",
              "        text-align: right;\n",
              "    }\n",
              "</style>\n",
              "<table border=\"1\" class=\"dataframe\">\n",
              "  <thead>\n",
              "    <tr style=\"text-align: right;\">\n",
              "      <th></th>\n",
              "      <th>AGE</th>\n",
              "      <th>SEX</th>\n",
              "      <th>IMMEDR</th>\n",
              "      <th>PAINSCALE</th>\n",
              "      <th>TEMPF</th>\n",
              "    </tr>\n",
              "  </thead>\n",
              "  <tbody>\n",
              "    <tr>\n",
              "      <th>0</th>\n",
              "      <td>1.017700</td>\n",
              "      <td>-0.788918</td>\n",
              "      <td>-0.447840</td>\n",
              "      <td>1.380843</td>\n",
              "      <td>-1.512766</td>\n",
              "    </tr>\n",
              "    <tr>\n",
              "      <th>1</th>\n",
              "      <td>-0.982607</td>\n",
              "      <td>-0.788918</td>\n",
              "      <td>0.551907</td>\n",
              "      <td>0.963957</td>\n",
              "      <td>-1.512766</td>\n",
              "    </tr>\n",
              "    <tr>\n",
              "      <th>2</th>\n",
              "      <td>-0.982607</td>\n",
              "      <td>1.267560</td>\n",
              "      <td>-1.447586</td>\n",
              "      <td>-0.703586</td>\n",
              "      <td>-1.512766</td>\n",
              "    </tr>\n",
              "    <tr>\n",
              "      <th>3</th>\n",
              "      <td>-0.982607</td>\n",
              "      <td>-0.788918</td>\n",
              "      <td>1.551653</td>\n",
              "      <td>0.547071</td>\n",
              "      <td>0.661041</td>\n",
              "    </tr>\n",
              "    <tr>\n",
              "      <th>4</th>\n",
              "      <td>-0.982607</td>\n",
              "      <td>-0.788918</td>\n",
              "      <td>0.551907</td>\n",
              "      <td>-1.120472</td>\n",
              "      <td>-1.512766</td>\n",
              "    </tr>\n",
              "    <tr>\n",
              "      <th>...</th>\n",
              "      <td>...</td>\n",
              "      <td>...</td>\n",
              "      <td>...</td>\n",
              "      <td>...</td>\n",
              "      <td>...</td>\n",
              "    </tr>\n",
              "    <tr>\n",
              "      <th>850</th>\n",
              "      <td>-0.982607</td>\n",
              "      <td>-0.788918</td>\n",
              "      <td>0.551907</td>\n",
              "      <td>-1.537358</td>\n",
              "      <td>0.661041</td>\n",
              "    </tr>\n",
              "    <tr>\n",
              "      <th>851</th>\n",
              "      <td>1.017700</td>\n",
              "      <td>-0.788918</td>\n",
              "      <td>-0.447840</td>\n",
              "      <td>1.380843</td>\n",
              "      <td>0.661041</td>\n",
              "    </tr>\n",
              "    <tr>\n",
              "      <th>852</th>\n",
              "      <td>-0.982607</td>\n",
              "      <td>1.267560</td>\n",
              "      <td>-0.447840</td>\n",
              "      <td>0.547071</td>\n",
              "      <td>0.661041</td>\n",
              "    </tr>\n",
              "    <tr>\n",
              "      <th>853</th>\n",
              "      <td>1.017700</td>\n",
              "      <td>-0.788918</td>\n",
              "      <td>-0.447840</td>\n",
              "      <td>0.963957</td>\n",
              "      <td>0.661041</td>\n",
              "    </tr>\n",
              "    <tr>\n",
              "      <th>854</th>\n",
              "      <td>1.017700</td>\n",
              "      <td>-0.788918</td>\n",
              "      <td>0.551907</td>\n",
              "      <td>-0.703586</td>\n",
              "      <td>0.661041</td>\n",
              "    </tr>\n",
              "  </tbody>\n",
              "</table>\n",
              "<p>855 rows × 5 columns</p>\n",
              "</div>"
            ],
            "text/plain": [
              "          AGE       SEX    IMMEDR  PAINSCALE     TEMPF\n",
              "0    1.017700 -0.788918 -0.447840   1.380843 -1.512766\n",
              "1   -0.982607 -0.788918  0.551907   0.963957 -1.512766\n",
              "2   -0.982607  1.267560 -1.447586  -0.703586 -1.512766\n",
              "3   -0.982607 -0.788918  1.551653   0.547071  0.661041\n",
              "4   -0.982607 -0.788918  0.551907  -1.120472 -1.512766\n",
              "..        ...       ...       ...        ...       ...\n",
              "850 -0.982607 -0.788918  0.551907  -1.537358  0.661041\n",
              "851  1.017700 -0.788918 -0.447840   1.380843  0.661041\n",
              "852 -0.982607  1.267560 -0.447840   0.547071  0.661041\n",
              "853  1.017700 -0.788918 -0.447840   0.963957  0.661041\n",
              "854  1.017700 -0.788918  0.551907  -0.703586  0.661041\n",
              "\n",
              "[855 rows x 5 columns]"
            ]
          },
          "metadata": {
            "tags": []
          },
          "execution_count": 28
        }
      ]
    },
    {
      "cell_type": "markdown",
      "metadata": {
        "id": "GV3wULW1M9zc"
      },
      "source": [
        "## TensorFlow\n"
      ]
    },
    {
      "cell_type": "code",
      "metadata": {
        "id": "Xxyh-ZHsNJPm"
      },
      "source": [
        "model = Sequential()\n",
        "input_layer = Input(shape=(X.shape[1],))\n",
        "model.add(Dense(64, activation=\"relu\",input_shape =(X.shape[1],) ))\n",
        "model.add(Dropout(0.1))\n",
        "model.add(Dense(32,activation='relu'))\n",
        "model.add(Dense(8,activation='sigmoid'))\n",
        "model.add(Dense(1))\n",
        "\n",
        "model.compile(loss=\"mean_squared_error\" , optimizer=\"Adam\", metrics=[\"mean_squared_error\"])"
      ],
      "execution_count": null,
      "outputs": []
    },
    {
      "cell_type": "code",
      "metadata": {
        "colab": {
          "base_uri": "https://localhost:8080/"
        },
        "id": "WRHxx27INQAk",
        "outputId": "43ff17a0-59b1-4281-ff32-ec1c47f491f3"
      },
      "source": [
        "history = model.fit(X_train, y_train, batch_size=2, epochs=100, verbose=1, validation_split=0.2)"
      ],
      "execution_count": null,
      "outputs": [
        {
          "output_type": "stream",
          "text": [
            "Epoch 1/100\n",
            "1068/1068 [==============================] - 5s 3ms/step - loss: 403.8065 - mean_squared_error: 403.8065 - val_loss: 368.8416 - val_mean_squared_error: 368.8416\n",
            "Epoch 2/100\n",
            "1068/1068 [==============================] - 3s 2ms/step - loss: 306.7173 - mean_squared_error: 306.7173 - val_loss: 281.0571 - val_mean_squared_error: 281.0571\n",
            "Epoch 3/100\n",
            "1068/1068 [==============================] - 3s 3ms/step - loss: 237.5736 - mean_squared_error: 237.5736 - val_loss: 222.7686 - val_mean_squared_error: 222.7686\n",
            "Epoch 4/100\n",
            "1068/1068 [==============================] - 3s 3ms/step - loss: 188.4846 - mean_squared_error: 188.4846 - val_loss: 180.0553 - val_mean_squared_error: 180.0553\n",
            "Epoch 5/100\n",
            "1068/1068 [==============================] - 3s 3ms/step - loss: 153.6253 - mean_squared_error: 153.6253 - val_loss: 150.2860 - val_mean_squared_error: 150.2860\n",
            "Epoch 6/100\n",
            "1068/1068 [==============================] - 3s 3ms/step - loss: 130.7400 - mean_squared_error: 130.7400 - val_loss: 131.5769 - val_mean_squared_error: 131.5769\n",
            "Epoch 7/100\n",
            "1068/1068 [==============================] - 3s 3ms/step - loss: 116.8014 - mean_squared_error: 116.8014 - val_loss: 120.3394 - val_mean_squared_error: 120.3394\n",
            "Epoch 8/100\n",
            "1068/1068 [==============================] - 3s 3ms/step - loss: 108.9512 - mean_squared_error: 108.9512 - val_loss: 114.3110 - val_mean_squared_error: 114.3110\n",
            "Epoch 9/100\n",
            "1068/1068 [==============================] - 3s 3ms/step - loss: 105.0640 - mean_squared_error: 105.0640 - val_loss: 111.3026 - val_mean_squared_error: 111.3026\n",
            "Epoch 10/100\n",
            "1068/1068 [==============================] - 3s 2ms/step - loss: 103.2206 - mean_squared_error: 103.2206 - val_loss: 109.8426 - val_mean_squared_error: 109.8426\n",
            "Epoch 11/100\n",
            "1068/1068 [==============================] - 3s 3ms/step - loss: 102.3896 - mean_squared_error: 102.3896 - val_loss: 109.1110 - val_mean_squared_error: 109.1110\n",
            "Epoch 12/100\n",
            "1068/1068 [==============================] - 3s 3ms/step - loss: 102.0517 - mean_squared_error: 102.0517 - val_loss: 108.7815 - val_mean_squared_error: 108.7815\n",
            "Epoch 13/100\n",
            "1068/1068 [==============================] - 3s 3ms/step - loss: 101.9130 - mean_squared_error: 101.9130 - val_loss: 108.6310 - val_mean_squared_error: 108.6310\n",
            "Epoch 14/100\n",
            "1068/1068 [==============================] - 3s 3ms/step - loss: 101.8540 - mean_squared_error: 101.8540 - val_loss: 108.5423 - val_mean_squared_error: 108.5423\n",
            "Epoch 15/100\n",
            "1068/1068 [==============================] - 3s 3ms/step - loss: 101.8345 - mean_squared_error: 101.8345 - val_loss: 108.4999 - val_mean_squared_error: 108.4999\n",
            "Epoch 16/100\n",
            "1068/1068 [==============================] - 3s 3ms/step - loss: 101.8231 - mean_squared_error: 101.8231 - val_loss: 108.4857 - val_mean_squared_error: 108.4857\n",
            "Epoch 17/100\n",
            "1068/1068 [==============================] - 3s 3ms/step - loss: 101.8242 - mean_squared_error: 101.8242 - val_loss: 108.4714 - val_mean_squared_error: 108.4714\n",
            "Epoch 18/100\n",
            "1068/1068 [==============================] - 3s 3ms/step - loss: 101.8222 - mean_squared_error: 101.8222 - val_loss: 108.4642 - val_mean_squared_error: 108.4642\n",
            "Epoch 19/100\n",
            "1068/1068 [==============================] - 3s 3ms/step - loss: 101.8209 - mean_squared_error: 101.8209 - val_loss: 108.4501 - val_mean_squared_error: 108.4501\n",
            "Epoch 20/100\n",
            "1068/1068 [==============================] - 3s 3ms/step - loss: 101.8193 - mean_squared_error: 101.8193 - val_loss: 108.4470 - val_mean_squared_error: 108.4470\n",
            "Epoch 21/100\n",
            "1068/1068 [==============================] - 3s 3ms/step - loss: 101.8224 - mean_squared_error: 101.8224 - val_loss: 108.4491 - val_mean_squared_error: 108.4491\n",
            "Epoch 22/100\n",
            "1068/1068 [==============================] - 3s 3ms/step - loss: 101.8183 - mean_squared_error: 101.8183 - val_loss: 108.4365 - val_mean_squared_error: 108.4365\n",
            "Epoch 23/100\n",
            "1068/1068 [==============================] - 3s 3ms/step - loss: 101.8270 - mean_squared_error: 101.8270 - val_loss: 108.4374 - val_mean_squared_error: 108.4374\n",
            "Epoch 24/100\n",
            "1068/1068 [==============================] - 3s 3ms/step - loss: 101.8237 - mean_squared_error: 101.8237 - val_loss: 108.4423 - val_mean_squared_error: 108.4423\n",
            "Epoch 25/100\n",
            "1068/1068 [==============================] - 3s 3ms/step - loss: 101.8179 - mean_squared_error: 101.8179 - val_loss: 108.4463 - val_mean_squared_error: 108.4463\n",
            "Epoch 26/100\n",
            "1068/1068 [==============================] - 3s 3ms/step - loss: 101.8201 - mean_squared_error: 101.8201 - val_loss: 108.4463 - val_mean_squared_error: 108.4463\n",
            "Epoch 27/100\n",
            "1068/1068 [==============================] - 3s 3ms/step - loss: 101.8199 - mean_squared_error: 101.8199 - val_loss: 108.4447 - val_mean_squared_error: 108.4447\n",
            "Epoch 28/100\n",
            "1068/1068 [==============================] - 3s 3ms/step - loss: 101.8144 - mean_squared_error: 101.8144 - val_loss: 108.4320 - val_mean_squared_error: 108.4320\n",
            "Epoch 29/100\n",
            "1068/1068 [==============================] - 3s 3ms/step - loss: 101.8203 - mean_squared_error: 101.8203 - val_loss: 108.4349 - val_mean_squared_error: 108.4349\n",
            "Epoch 30/100\n",
            "1068/1068 [==============================] - 3s 3ms/step - loss: 101.8187 - mean_squared_error: 101.8187 - val_loss: 108.4367 - val_mean_squared_error: 108.4367\n",
            "Epoch 31/100\n",
            "1068/1068 [==============================] - 3s 3ms/step - loss: 101.8187 - mean_squared_error: 101.8187 - val_loss: 108.4363 - val_mean_squared_error: 108.4363\n",
            "Epoch 32/100\n",
            "1068/1068 [==============================] - 3s 3ms/step - loss: 101.8240 - mean_squared_error: 101.8240 - val_loss: 108.4387 - val_mean_squared_error: 108.4387\n",
            "Epoch 33/100\n",
            "1068/1068 [==============================] - 3s 3ms/step - loss: 101.8200 - mean_squared_error: 101.8200 - val_loss: 108.4321 - val_mean_squared_error: 108.4321\n",
            "Epoch 34/100\n",
            "1068/1068 [==============================] - 3s 3ms/step - loss: 101.8175 - mean_squared_error: 101.8175 - val_loss: 108.4245 - val_mean_squared_error: 108.4245\n",
            "Epoch 35/100\n",
            "1068/1068 [==============================] - 3s 3ms/step - loss: 101.8180 - mean_squared_error: 101.8180 - val_loss: 108.4267 - val_mean_squared_error: 108.4267\n",
            "Epoch 36/100\n",
            "1068/1068 [==============================] - 3s 3ms/step - loss: 101.8181 - mean_squared_error: 101.8181 - val_loss: 108.4299 - val_mean_squared_error: 108.4299\n",
            "Epoch 37/100\n",
            "1068/1068 [==============================] - 3s 3ms/step - loss: 101.8178 - mean_squared_error: 101.8178 - val_loss: 108.4387 - val_mean_squared_error: 108.4387\n",
            "Epoch 38/100\n",
            "1068/1068 [==============================] - 3s 3ms/step - loss: 101.8255 - mean_squared_error: 101.8255 - val_loss: 108.4430 - val_mean_squared_error: 108.4430\n",
            "Epoch 39/100\n",
            "1068/1068 [==============================] - 3s 3ms/step - loss: 101.8222 - mean_squared_error: 101.8222 - val_loss: 108.4384 - val_mean_squared_error: 108.4384\n",
            "Epoch 40/100\n",
            "1068/1068 [==============================] - 3s 3ms/step - loss: 101.8166 - mean_squared_error: 101.8166 - val_loss: 108.4396 - val_mean_squared_error: 108.4396\n",
            "Epoch 41/100\n",
            "1068/1068 [==============================] - 3s 3ms/step - loss: 101.8219 - mean_squared_error: 101.8219 - val_loss: 108.4319 - val_mean_squared_error: 108.4319\n",
            "Epoch 42/100\n",
            "1068/1068 [==============================] - 3s 3ms/step - loss: 101.8154 - mean_squared_error: 101.8154 - val_loss: 108.4387 - val_mean_squared_error: 108.4387\n",
            "Epoch 43/100\n",
            "1068/1068 [==============================] - 3s 3ms/step - loss: 101.8152 - mean_squared_error: 101.8152 - val_loss: 108.4395 - val_mean_squared_error: 108.4395\n",
            "Epoch 44/100\n",
            "1068/1068 [==============================] - 3s 3ms/step - loss: 101.8190 - mean_squared_error: 101.8190 - val_loss: 108.4391 - val_mean_squared_error: 108.4391\n",
            "Epoch 45/100\n",
            "1068/1068 [==============================] - 3s 3ms/step - loss: 101.8180 - mean_squared_error: 101.8180 - val_loss: 108.4349 - val_mean_squared_error: 108.4349\n",
            "Epoch 46/100\n",
            "1068/1068 [==============================] - 3s 3ms/step - loss: 101.8270 - mean_squared_error: 101.8270 - val_loss: 108.4282 - val_mean_squared_error: 108.4282\n",
            "Epoch 47/100\n",
            "1068/1068 [==============================] - 3s 3ms/step - loss: 101.8222 - mean_squared_error: 101.8222 - val_loss: 108.4271 - val_mean_squared_error: 108.4271\n",
            "Epoch 48/100\n",
            "1068/1068 [==============================] - 3s 3ms/step - loss: 101.8256 - mean_squared_error: 101.8256 - val_loss: 108.4431 - val_mean_squared_error: 108.4431\n",
            "Epoch 49/100\n",
            "1068/1068 [==============================] - 3s 3ms/step - loss: 101.8175 - mean_squared_error: 101.8175 - val_loss: 108.4457 - val_mean_squared_error: 108.4457\n",
            "Epoch 50/100\n",
            "1068/1068 [==============================] - 3s 3ms/step - loss: 101.8180 - mean_squared_error: 101.8180 - val_loss: 108.4489 - val_mean_squared_error: 108.4489\n",
            "Epoch 51/100\n",
            "1068/1068 [==============================] - 3s 3ms/step - loss: 101.8233 - mean_squared_error: 101.8233 - val_loss: 108.4361 - val_mean_squared_error: 108.4361\n",
            "Epoch 52/100\n",
            "1068/1068 [==============================] - 3s 3ms/step - loss: 101.8197 - mean_squared_error: 101.8197 - val_loss: 108.4502 - val_mean_squared_error: 108.4502\n",
            "Epoch 53/100\n",
            "1068/1068 [==============================] - 3s 3ms/step - loss: 101.8248 - mean_squared_error: 101.8248 - val_loss: 108.4486 - val_mean_squared_error: 108.4486\n",
            "Epoch 54/100\n",
            "1068/1068 [==============================] - 3s 3ms/step - loss: 101.8154 - mean_squared_error: 101.8154 - val_loss: 108.4477 - val_mean_squared_error: 108.4477\n",
            "Epoch 55/100\n",
            "1068/1068 [==============================] - 3s 3ms/step - loss: 101.8130 - mean_squared_error: 101.8130 - val_loss: 108.4492 - val_mean_squared_error: 108.4492\n",
            "Epoch 56/100\n",
            "1068/1068 [==============================] - 3s 3ms/step - loss: 101.8154 - mean_squared_error: 101.8154 - val_loss: 108.4429 - val_mean_squared_error: 108.4429\n",
            "Epoch 57/100\n",
            "1068/1068 [==============================] - 3s 3ms/step - loss: 101.8189 - mean_squared_error: 101.8189 - val_loss: 108.4523 - val_mean_squared_error: 108.4523\n",
            "Epoch 58/100\n",
            "1068/1068 [==============================] - 3s 3ms/step - loss: 101.8165 - mean_squared_error: 101.8165 - val_loss: 108.4506 - val_mean_squared_error: 108.4506\n",
            "Epoch 59/100\n",
            "1068/1068 [==============================] - 3s 3ms/step - loss: 101.8220 - mean_squared_error: 101.8220 - val_loss: 108.4392 - val_mean_squared_error: 108.4392\n",
            "Epoch 60/100\n",
            "1068/1068 [==============================] - 3s 3ms/step - loss: 101.8166 - mean_squared_error: 101.8166 - val_loss: 108.4504 - val_mean_squared_error: 108.4504\n",
            "Epoch 61/100\n",
            "1068/1068 [==============================] - 3s 3ms/step - loss: 101.8214 - mean_squared_error: 101.8214 - val_loss: 108.4468 - val_mean_squared_error: 108.4468\n",
            "Epoch 62/100\n",
            "1068/1068 [==============================] - 3s 3ms/step - loss: 101.8183 - mean_squared_error: 101.8183 - val_loss: 108.4393 - val_mean_squared_error: 108.4393\n",
            "Epoch 63/100\n",
            "1068/1068 [==============================] - 3s 3ms/step - loss: 101.8182 - mean_squared_error: 101.8182 - val_loss: 108.4413 - val_mean_squared_error: 108.4413\n",
            "Epoch 64/100\n",
            "1068/1068 [==============================] - 3s 3ms/step - loss: 101.8187 - mean_squared_error: 101.8187 - val_loss: 108.4398 - val_mean_squared_error: 108.4398\n",
            "Epoch 65/100\n",
            "1068/1068 [==============================] - 3s 3ms/step - loss: 101.8220 - mean_squared_error: 101.8220 - val_loss: 108.4416 - val_mean_squared_error: 108.4416\n",
            "Epoch 66/100\n",
            "1068/1068 [==============================] - 3s 3ms/step - loss: 101.8178 - mean_squared_error: 101.8178 - val_loss: 108.4419 - val_mean_squared_error: 108.4419\n",
            "Epoch 67/100\n",
            "1068/1068 [==============================] - 3s 3ms/step - loss: 101.8133 - mean_squared_error: 101.8133 - val_loss: 108.4332 - val_mean_squared_error: 108.4332\n",
            "Epoch 68/100\n",
            "1068/1068 [==============================] - 3s 3ms/step - loss: 101.8179 - mean_squared_error: 101.8179 - val_loss: 108.4401 - val_mean_squared_error: 108.4401\n",
            "Epoch 69/100\n",
            "1068/1068 [==============================] - 3s 3ms/step - loss: 101.8178 - mean_squared_error: 101.8178 - val_loss: 108.4466 - val_mean_squared_error: 108.4466\n",
            "Epoch 70/100\n",
            "1068/1068 [==============================] - 3s 3ms/step - loss: 101.8217 - mean_squared_error: 101.8217 - val_loss: 108.4392 - val_mean_squared_error: 108.4392\n",
            "Epoch 71/100\n",
            "1068/1068 [==============================] - 3s 3ms/step - loss: 101.8227 - mean_squared_error: 101.8227 - val_loss: 108.4531 - val_mean_squared_error: 108.4531\n",
            "Epoch 72/100\n",
            "1068/1068 [==============================] - 3s 3ms/step - loss: 101.8184 - mean_squared_error: 101.8184 - val_loss: 108.4441 - val_mean_squared_error: 108.4441\n",
            "Epoch 73/100\n",
            "1068/1068 [==============================] - 3s 3ms/step - loss: 101.8117 - mean_squared_error: 101.8117 - val_loss: 108.4572 - val_mean_squared_error: 108.4572\n",
            "Epoch 74/100\n",
            "1068/1068 [==============================] - 3s 3ms/step - loss: 101.8163 - mean_squared_error: 101.8163 - val_loss: 108.4389 - val_mean_squared_error: 108.4389\n",
            "Epoch 75/100\n",
            "1068/1068 [==============================] - 3s 3ms/step - loss: 101.8216 - mean_squared_error: 101.8216 - val_loss: 108.4406 - val_mean_squared_error: 108.4406\n",
            "Epoch 76/100\n",
            "1068/1068 [==============================] - 3s 3ms/step - loss: 101.8219 - mean_squared_error: 101.8219 - val_loss: 108.4366 - val_mean_squared_error: 108.4366\n",
            "Epoch 77/100\n",
            "1068/1068 [==============================] - 3s 3ms/step - loss: 101.8172 - mean_squared_error: 101.8172 - val_loss: 108.4306 - val_mean_squared_error: 108.4306\n",
            "Epoch 78/100\n",
            "1068/1068 [==============================] - 3s 3ms/step - loss: 101.8251 - mean_squared_error: 101.8251 - val_loss: 108.4295 - val_mean_squared_error: 108.4295\n",
            "Epoch 79/100\n",
            "1068/1068 [==============================] - 3s 3ms/step - loss: 101.8167 - mean_squared_error: 101.8167 - val_loss: 108.4363 - val_mean_squared_error: 108.4363\n",
            "Epoch 80/100\n",
            "1068/1068 [==============================] - 3s 3ms/step - loss: 101.8169 - mean_squared_error: 101.8169 - val_loss: 108.4431 - val_mean_squared_error: 108.4431\n",
            "Epoch 81/100\n",
            "1068/1068 [==============================] - 3s 3ms/step - loss: 101.8173 - mean_squared_error: 101.8173 - val_loss: 108.4331 - val_mean_squared_error: 108.4331\n",
            "Epoch 82/100\n",
            "1068/1068 [==============================] - 3s 3ms/step - loss: 101.8159 - mean_squared_error: 101.8159 - val_loss: 108.4328 - val_mean_squared_error: 108.4328\n",
            "Epoch 83/100\n",
            "1068/1068 [==============================] - 3s 3ms/step - loss: 101.8211 - mean_squared_error: 101.8211 - val_loss: 108.4372 - val_mean_squared_error: 108.4372\n",
            "Epoch 84/100\n",
            "1068/1068 [==============================] - 3s 3ms/step - loss: 101.8246 - mean_squared_error: 101.8246 - val_loss: 108.4431 - val_mean_squared_error: 108.4431\n",
            "Epoch 85/100\n",
            "1068/1068 [==============================] - 3s 3ms/step - loss: 101.8210 - mean_squared_error: 101.8210 - val_loss: 108.4441 - val_mean_squared_error: 108.4441\n",
            "Epoch 86/100\n",
            "1068/1068 [==============================] - 3s 3ms/step - loss: 101.8241 - mean_squared_error: 101.8241 - val_loss: 108.4400 - val_mean_squared_error: 108.4400\n",
            "Epoch 87/100\n",
            "1068/1068 [==============================] - 3s 3ms/step - loss: 101.8225 - mean_squared_error: 101.8225 - val_loss: 108.4404 - val_mean_squared_error: 108.4404\n",
            "Epoch 88/100\n",
            "1068/1068 [==============================] - 3s 3ms/step - loss: 101.8166 - mean_squared_error: 101.8166 - val_loss: 108.4452 - val_mean_squared_error: 108.4452\n",
            "Epoch 89/100\n",
            "1068/1068 [==============================] - 3s 3ms/step - loss: 101.8163 - mean_squared_error: 101.8163 - val_loss: 108.4345 - val_mean_squared_error: 108.4345\n",
            "Epoch 90/100\n",
            "1068/1068 [==============================] - 3s 3ms/step - loss: 101.8159 - mean_squared_error: 101.8159 - val_loss: 108.4328 - val_mean_squared_error: 108.4328\n",
            "Epoch 91/100\n",
            "1068/1068 [==============================] - 3s 3ms/step - loss: 101.8201 - mean_squared_error: 101.8201 - val_loss: 108.4437 - val_mean_squared_error: 108.4437\n",
            "Epoch 92/100\n",
            "1068/1068 [==============================] - 3s 3ms/step - loss: 101.8223 - mean_squared_error: 101.8223 - val_loss: 108.4307 - val_mean_squared_error: 108.4307\n",
            "Epoch 93/100\n",
            "1068/1068 [==============================] - 3s 3ms/step - loss: 101.8134 - mean_squared_error: 101.8134 - val_loss: 108.4405 - val_mean_squared_error: 108.4405\n",
            "Epoch 94/100\n",
            "1068/1068 [==============================] - 3s 3ms/step - loss: 101.8207 - mean_squared_error: 101.8207 - val_loss: 108.4456 - val_mean_squared_error: 108.4456\n",
            "Epoch 95/100\n",
            "1068/1068 [==============================] - 3s 3ms/step - loss: 101.8185 - mean_squared_error: 101.8185 - val_loss: 108.4309 - val_mean_squared_error: 108.4309\n",
            "Epoch 96/100\n",
            "1068/1068 [==============================] - 3s 3ms/step - loss: 101.8214 - mean_squared_error: 101.8214 - val_loss: 108.4317 - val_mean_squared_error: 108.4317\n",
            "Epoch 97/100\n",
            "1068/1068 [==============================] - 3s 3ms/step - loss: 101.8235 - mean_squared_error: 101.8235 - val_loss: 108.4318 - val_mean_squared_error: 108.4318\n",
            "Epoch 98/100\n",
            "1068/1068 [==============================] - 3s 3ms/step - loss: 101.8184 - mean_squared_error: 101.8184 - val_loss: 108.4417 - val_mean_squared_error: 108.4417\n",
            "Epoch 99/100\n",
            "1068/1068 [==============================] - 3s 3ms/step - loss: 101.8198 - mean_squared_error: 101.8198 - val_loss: 108.4444 - val_mean_squared_error: 108.4444\n",
            "Epoch 100/100\n",
            "1068/1068 [==============================] - 3s 3ms/step - loss: 101.8130 - mean_squared_error: 101.8130 - val_loss: 108.4411 - val_mean_squared_error: 108.4411\n"
          ],
          "name": "stdout"
        }
      ]
    },
    {
      "cell_type": "code",
      "metadata": {
        "colab": {
          "base_uri": "https://localhost:8080/"
        },
        "id": "Sv6lbQ8bNVIn",
        "outputId": "aba0c474-73bc-4b48-bce4-c978f5d7478d"
      },
      "source": [
        "from sklearn.metrics import mean_squared_error\n",
        "from math import sqrt\n",
        "\n",
        "pred_train = model.predict(X_train)\n",
        "print(np.sqrt(mean_squared_error(y_train,pred_train)))\n",
        "\n",
        "pred = model.predict(X_test)\n",
        "print(np.sqrt(mean_squared_error(y_test,pred)))"
      ],
      "execution_count": null,
      "outputs": [
        {
          "output_type": "stream",
          "text": [
            "10.155195354884865\n",
            "9.775545911139782\n"
          ],
          "name": "stdout"
        }
      ]
    },
    {
      "cell_type": "code",
      "metadata": {
        "colab": {
          "base_uri": "https://localhost:8080/"
        },
        "id": "63Mo4zNPOgeT",
        "outputId": "8df8a5f1-407c-4957-c0b9-2c05da277421"
      },
      "source": [
        "pred_train"
      ],
      "execution_count": null,
      "outputs": [
        {
          "output_type": "execute_result",
          "data": {
            "text/plain": [
              "array([[14.998022],\n",
              "       [12.349526],\n",
              "       [15.71028 ],\n",
              "       ...,\n",
              "       [14.998022],\n",
              "       [15.729901],\n",
              "       [15.726516]], dtype=float32)"
            ]
          },
          "metadata": {
            "tags": []
          },
          "execution_count": 33
        }
      ]
    },
    {
      "cell_type": "code",
      "metadata": {
        "id": "TFHxAYJ1Ok7J",
        "colab": {
          "base_uri": "https://localhost:8080/"
        },
        "outputId": "b563c32e-8270-4737-a030-f94cbd50f2fe"
      },
      "source": [
        "pred = model.predict([[2,3,4,2,2]])\n",
        "pred"
      ],
      "execution_count": null,
      "outputs": [
        {
          "output_type": "execute_result",
          "data": {
            "text/plain": [
              "array([[15.729845]], dtype=float32)"
            ]
          },
          "metadata": {
            "tags": []
          },
          "execution_count": 34
        }
      ]
    },
    {
      "cell_type": "markdown",
      "metadata": {
        "id": "M5-YD59GixVs"
      },
      "source": [
        "save model result"
      ]
    },
    {
      "cell_type": "code",
      "metadata": {
        "id": "DotNPs2KMXLC"
      },
      "source": [
        "model.save('myModel.h5')"
      ],
      "execution_count": null,
      "outputs": []
    },
    {
      "cell_type": "code",
      "metadata": {
        "id": "PaY-Nqfw7cBw"
      },
      "source": [
        "load_model = tf.keras.models.load_model(\"/content/myModel.h5\")\n"
      ],
      "execution_count": null,
      "outputs": []
    },
    {
      "cell_type": "code",
      "metadata": {
        "colab": {
          "base_uri": "https://localhost:8080/"
        },
        "id": "gUh22vVf7nkZ",
        "outputId": "fb79017d-d117-4034-bf45-6e242c045ca8"
      },
      "source": [
        "pred_result = load_model.predict([[2,3,4,2,2]])\n",
        "pred_result"
      ],
      "execution_count": null,
      "outputs": [
        {
          "output_type": "execute_result",
          "data": {
            "text/plain": [
              "array([[15.729845]], dtype=float32)"
            ]
          },
          "metadata": {
            "tags": []
          },
          "execution_count": 39
        }
      ]
    },
    {
      "cell_type": "code",
      "metadata": {
        "id": "2F92a_2q71CX"
      },
      "source": [
        ""
      ],
      "execution_count": null,
      "outputs": []
    }
  ]
}